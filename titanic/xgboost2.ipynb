{
 "cells": [
  {
   "cell_type": "code",
   "execution_count": 1,
   "id": "d516b3f9",
   "metadata": {
    "_cell_guid": "b1076dfc-b9ad-4769-8c92-a6c4dae69d19",
    "_uuid": "8f2839f25d086af736a60e9eeb907d3b93b6e0e5",
    "execution": {
     "iopub.execute_input": "2024-09-08T18:00:58.817177Z",
     "iopub.status.busy": "2024-09-08T18:00:58.816724Z",
     "iopub.status.idle": "2024-09-08T18:00:59.276590Z",
     "shell.execute_reply": "2024-09-08T18:00:59.275032Z"
    },
    "papermill": {
     "duration": 0.47415,
     "end_time": "2024-09-08T18:00:59.279767",
     "exception": false,
     "start_time": "2024-09-08T18:00:58.805617",
     "status": "completed"
    },
    "tags": []
   },
   "outputs": [
    {
     "name": "stdout",
     "output_type": "stream",
     "text": [
      "/kaggle/input/titanic/train.csv\n",
      "/kaggle/input/titanic/test.csv\n",
      "/kaggle/input/titanic/gender_submission.csv\n"
     ]
    }
   ],
   "source": [
    "# This Python 3 environment comes with many helpful analytics libraries installed\n",
    "# It is defined by the kaggle/python Docker image: https://github.com/kaggle/docker-python\n",
    "# For example, here's several helpful packages to load\n",
    "\n",
    "import numpy as np # linear algebra\n",
    "import pandas as pd # data processing, CSV file I/O (e.g. pd.read_csv)\n",
    "\n",
    "# Input data files are available in the read-only \"../input/\" directory\n",
    "# For example, running this (by clicking run or pressing Shift+Enter) will list all files under the input directory\n",
    "\n",
    "import os\n",
    "for dirname, _, filenames in os.walk('/kaggle/input'):\n",
    "    for filename in filenames:\n",
    "        print(os.path.join(dirname, filename))\n",
    "\n",
    "# You can write up to 20GB to the current directory (/kaggle/working/) that gets preserved as output when you create a version using \"Save & Run All\" \n",
    "# You can also write temporary files to /kaggle/temp/, but they won't be saved outside of the current session"
   ]
  },
  {
   "cell_type": "markdown",
   "id": "c6061d13",
   "metadata": {
    "papermill": {
     "duration": 0.008705,
     "end_time": "2024-09-08T18:00:59.298362",
     "exception": false,
     "start_time": "2024-09-08T18:00:59.289657",
     "status": "completed"
    },
    "tags": []
   },
   "source": [
    "# データの読み込み"
   ]
  },
  {
   "cell_type": "code",
   "execution_count": 2,
   "id": "0e123110",
   "metadata": {
    "execution": {
     "iopub.execute_input": "2024-09-08T18:00:59.318550Z",
     "iopub.status.busy": "2024-09-08T18:00:59.317055Z",
     "iopub.status.idle": "2024-09-08T18:00:59.360243Z",
     "shell.execute_reply": "2024-09-08T18:00:59.359037Z"
    },
    "papermill": {
     "duration": 0.056582,
     "end_time": "2024-09-08T18:00:59.363320",
     "exception": false,
     "start_time": "2024-09-08T18:00:59.306738",
     "status": "completed"
    },
    "tags": []
   },
   "outputs": [
    {
     "name": "stdout",
     "output_type": "stream",
     "text": [
      "   PassengerId  Survived  Pclass  \\\n",
      "0            1         0       3   \n",
      "1            2         1       1   \n",
      "2            3         1       3   \n",
      "3            4         1       1   \n",
      "4            5         0       3   \n",
      "\n",
      "                                                Name     Sex   Age  SibSp  \\\n",
      "0                            Braund, Mr. Owen Harris    male  22.0      1   \n",
      "1  Cumings, Mrs. John Bradley (Florence Briggs Th...  female  38.0      1   \n",
      "2                             Heikkinen, Miss. Laina  female  26.0      0   \n",
      "3       Futrelle, Mrs. Jacques Heath (Lily May Peel)  female  35.0      1   \n",
      "4                           Allen, Mr. William Henry    male  35.0      0   \n",
      "\n",
      "   Parch            Ticket     Fare Cabin Embarked  \n",
      "0      0         A/5 21171   7.2500   NaN        S  \n",
      "1      0          PC 17599  71.2833   C85        C  \n",
      "2      0  STON/O2. 3101282   7.9250   NaN        S  \n",
      "3      0            113803  53.1000  C123        S  \n",
      "4      0            373450   8.0500   NaN        S  \n"
     ]
    }
   ],
   "source": [
    "train = pd.read_csv(\"/kaggle/input/titanic/train.csv\")\n",
    "print(train.head())"
   ]
  },
  {
   "cell_type": "code",
   "execution_count": 3,
   "id": "12db486a",
   "metadata": {
    "execution": {
     "iopub.execute_input": "2024-09-08T18:00:59.382434Z",
     "iopub.status.busy": "2024-09-08T18:00:59.381988Z",
     "iopub.status.idle": "2024-09-08T18:00:59.403938Z",
     "shell.execute_reply": "2024-09-08T18:00:59.402306Z"
    },
    "papermill": {
     "duration": 0.034566,
     "end_time": "2024-09-08T18:00:59.406587",
     "exception": false,
     "start_time": "2024-09-08T18:00:59.372021",
     "status": "completed"
    },
    "tags": []
   },
   "outputs": [
    {
     "name": "stdout",
     "output_type": "stream",
     "text": [
      "   PassengerId  Pclass                                          Name     Sex  \\\n",
      "0          892       3                              Kelly, Mr. James    male   \n",
      "1          893       3              Wilkes, Mrs. James (Ellen Needs)  female   \n",
      "2          894       2                     Myles, Mr. Thomas Francis    male   \n",
      "3          895       3                              Wirz, Mr. Albert    male   \n",
      "4          896       3  Hirvonen, Mrs. Alexander (Helga E Lindqvist)  female   \n",
      "\n",
      "    Age  SibSp  Parch   Ticket     Fare Cabin Embarked  \n",
      "0  34.5      0      0   330911   7.8292   NaN        Q  \n",
      "1  47.0      1      0   363272   7.0000   NaN        S  \n",
      "2  62.0      0      0   240276   9.6875   NaN        Q  \n",
      "3  27.0      0      0   315154   8.6625   NaN        S  \n",
      "4  22.0      1      1  3101298  12.2875   NaN        S  \n"
     ]
    }
   ],
   "source": [
    "test = pd.read_csv(\"/kaggle/input/titanic/test.csv\")\n",
    "print(test.head())"
   ]
  },
  {
   "cell_type": "code",
   "execution_count": 4,
   "id": "c7f29f3e",
   "metadata": {
    "execution": {
     "iopub.execute_input": "2024-09-08T18:00:59.426114Z",
     "iopub.status.busy": "2024-09-08T18:00:59.425661Z",
     "iopub.status.idle": "2024-09-08T18:00:59.446031Z",
     "shell.execute_reply": "2024-09-08T18:00:59.444885Z"
    },
    "papermill": {
     "duration": 0.033847,
     "end_time": "2024-09-08T18:00:59.449346",
     "exception": false,
     "start_time": "2024-09-08T18:00:59.415499",
     "status": "completed"
    },
    "tags": []
   },
   "outputs": [
    {
     "name": "stdout",
     "output_type": "stream",
     "text": [
      "train_x    PassengerId  Pclass                                               Name  \\\n",
      "0            1       3                            Braund, Mr. Owen Harris   \n",
      "1            2       1  Cumings, Mrs. John Bradley (Florence Briggs Th...   \n",
      "2            3       3                             Heikkinen, Miss. Laina   \n",
      "3            4       1       Futrelle, Mrs. Jacques Heath (Lily May Peel)   \n",
      "4            5       3                           Allen, Mr. William Henry   \n",
      "\n",
      "      Sex   Age  SibSp  Parch            Ticket     Fare Cabin Embarked  \n",
      "0    male  22.0      1      0         A/5 21171   7.2500   NaN        S  \n",
      "1  female  38.0      1      0          PC 17599  71.2833   C85        C  \n",
      "2  female  26.0      0      0  STON/O2. 3101282   7.9250   NaN        S  \n",
      "3  female  35.0      1      0            113803  53.1000  C123        S  \n",
      "4    male  35.0      0      0            373450   8.0500   NaN        S  \n",
      "train_y 0    0\n",
      "1    1\n",
      "2    1\n",
      "3    1\n",
      "4    0\n",
      "Name: Survived, dtype: int64\n"
     ]
    }
   ],
   "source": [
    "train_x = train.drop(['Survived'], axis=1)\n",
    "train_y = train['Survived']\n",
    "\n",
    "print(\"train_x\", train_x.head())\n",
    "print(\"train_y\", train_y.head())"
   ]
  },
  {
   "cell_type": "code",
   "execution_count": 5,
   "id": "b3694f9c",
   "metadata": {
    "execution": {
     "iopub.execute_input": "2024-09-08T18:00:59.469104Z",
     "iopub.status.busy": "2024-09-08T18:00:59.468693Z",
     "iopub.status.idle": "2024-09-08T18:00:59.479527Z",
     "shell.execute_reply": "2024-09-08T18:00:59.478456Z"
    },
    "papermill": {
     "duration": 0.024239,
     "end_time": "2024-09-08T18:00:59.482523",
     "exception": false,
     "start_time": "2024-09-08T18:00:59.458284",
     "status": "completed"
    },
    "tags": []
   },
   "outputs": [
    {
     "name": "stdout",
     "output_type": "stream",
     "text": [
      "   PassengerId  Pclass                                          Name     Sex  \\\n",
      "0          892       3                              Kelly, Mr. James    male   \n",
      "1          893       3              Wilkes, Mrs. James (Ellen Needs)  female   \n",
      "2          894       2                     Myles, Mr. Thomas Francis    male   \n",
      "3          895       3                              Wirz, Mr. Albert    male   \n",
      "4          896       3  Hirvonen, Mrs. Alexander (Helga E Lindqvist)  female   \n",
      "\n",
      "    Age  SibSp  Parch   Ticket     Fare Cabin Embarked  \n",
      "0  34.5      0      0   330911   7.8292   NaN        Q  \n",
      "1  47.0      1      0   363272   7.0000   NaN        S  \n",
      "2  62.0      0      0   240276   9.6875   NaN        Q  \n",
      "3  27.0      0      0   315154   8.6625   NaN        S  \n",
      "4  22.0      1      1  3101298  12.2875   NaN        S  \n"
     ]
    }
   ],
   "source": [
    "test_x = test.copy()\n",
    "print(test_x.head())"
   ]
  },
  {
   "cell_type": "markdown",
   "id": "a4b972ba",
   "metadata": {
    "papermill": {
     "duration": 0.008594,
     "end_time": "2024-09-08T18:00:59.500407",
     "exception": false,
     "start_time": "2024-09-08T18:00:59.491813",
     "status": "completed"
    },
    "tags": []
   },
   "source": [
    "# 特徴量作成"
   ]
  },
  {
   "cell_type": "code",
   "execution_count": 6,
   "id": "c6277c53",
   "metadata": {
    "execution": {
     "iopub.execute_input": "2024-09-08T18:00:59.520607Z",
     "iopub.status.busy": "2024-09-08T18:00:59.519746Z",
     "iopub.status.idle": "2024-09-08T18:01:00.781389Z",
     "shell.execute_reply": "2024-09-08T18:01:00.780204Z"
    },
    "papermill": {
     "duration": 1.275011,
     "end_time": "2024-09-08T18:01:00.784499",
     "exception": false,
     "start_time": "2024-09-08T18:00:59.509488",
     "status": "completed"
    },
    "tags": []
   },
   "outputs": [],
   "source": [
    "from sklearn.preprocessing import LabelEncoder"
   ]
  },
  {
   "cell_type": "code",
   "execution_count": 7,
   "id": "f37c1392",
   "metadata": {
    "execution": {
     "iopub.execute_input": "2024-09-08T18:01:00.804973Z",
     "iopub.status.busy": "2024-09-08T18:01:00.804403Z",
     "iopub.status.idle": "2024-09-08T18:01:00.821984Z",
     "shell.execute_reply": "2024-09-08T18:01:00.820925Z"
    },
    "papermill": {
     "duration": 0.030721,
     "end_time": "2024-09-08T18:01:00.824500",
     "exception": false,
     "start_time": "2024-09-08T18:01:00.793779",
     "status": "completed"
    },
    "tags": []
   },
   "outputs": [],
   "source": [
    "# 変数PassengerIdを除外する\n",
    "train_x = train_x.drop(['PassengerId'], axis=1)\n",
    "test_x = test_x.drop(['PassengerId'], axis=1)\n",
    "\n",
    "# 変数Name, Ticket, Cabinを除外する\n",
    "train_x = train_x.drop(['Name', 'Ticket', 'Cabin'], axis=1)\n",
    "test_x = test_x.drop(['Name', 'Ticket', 'Cabin'], axis=1)\n",
    "\n",
    "# それぞれのカテゴリ変数にlabel encodingを適用する\n",
    "for c in ['Sex', 'Embarked']:\n",
    "    # 学習データに基づいてどう変換するかを定める\n",
    "    le = LabelEncoder()\n",
    "    le.fit(train_x[c].fillna('NA'))\n",
    "\n",
    "    # 学習データ、テストデータを変換する\n",
    "    train_x[c] = le.transform(train_x[c].fillna('NA'))\n",
    "    test_x[c] = le.transform(test_x[c].fillna('NA'))"
   ]
  },
  {
   "cell_type": "markdown",
   "id": "94bb863f",
   "metadata": {
    "papermill": {
     "duration": 0.00877,
     "end_time": "2024-09-08T18:01:00.842291",
     "exception": false,
     "start_time": "2024-09-08T18:01:00.833521",
     "status": "completed"
    },
    "tags": []
   },
   "source": [
    "# モデル作成"
   ]
  },
  {
   "cell_type": "code",
   "execution_count": 8,
   "id": "7ddcae64",
   "metadata": {
    "execution": {
     "iopub.execute_input": "2024-09-08T18:01:00.862044Z",
     "iopub.status.busy": "2024-09-08T18:01:00.861597Z",
     "iopub.status.idle": "2024-09-08T18:01:01.205673Z",
     "shell.execute_reply": "2024-09-08T18:01:01.204449Z"
    },
    "papermill": {
     "duration": 0.35733,
     "end_time": "2024-09-08T18:01:01.208627",
     "exception": false,
     "start_time": "2024-09-08T18:01:00.851297",
     "status": "completed"
    },
    "tags": []
   },
   "outputs": [],
   "source": [
    "from xgboost import XGBClassifier"
   ]
  },
  {
   "cell_type": "code",
   "execution_count": 9,
   "id": "5148b0b4",
   "metadata": {
    "execution": {
     "iopub.execute_input": "2024-09-08T18:01:01.230664Z",
     "iopub.status.busy": "2024-09-08T18:01:01.229095Z",
     "iopub.status.idle": "2024-09-08T18:01:01.318015Z",
     "shell.execute_reply": "2024-09-08T18:01:01.317040Z"
    },
    "papermill": {
     "duration": 0.102866,
     "end_time": "2024-09-08T18:01:01.320672",
     "exception": false,
     "start_time": "2024-09-08T18:01:01.217806",
     "status": "completed"
    },
    "tags": []
   },
   "outputs": [],
   "source": [
    "# モデルの作成および学習データを与えての学習\n",
    "model = XGBClassifier(n_estimators=20, random_state=71)\n",
    "model.fit(train_x, train_y)\n",
    "\n",
    "# テストデータの予測値を確率で出力する\n",
    "pred = model.predict_proba(test_x)[:,1]\n",
    "\n",
    "# テストデータの予測値を二値に変換する\n",
    "pred_label = np.where(pred > 0.5, 1, 0)\n",
    "\n",
    "# 提出用ファイルの作成\n",
    "submission = pd.DataFrame({'PassengerId': test['PassengerId'], 'Survived': pred_label})\n",
    "submission.to_csv('submission_first.csv', index=False)"
   ]
  },
  {
   "cell_type": "markdown",
   "id": "3e76b12e",
   "metadata": {
    "papermill": {
     "duration": 0.009128,
     "end_time": "2024-09-08T18:01:01.339648",
     "exception": false,
     "start_time": "2024-09-08T18:01:01.330520",
     "status": "completed"
    },
    "tags": []
   },
   "source": [
    "# バリデーション"
   ]
  },
  {
   "cell_type": "code",
   "execution_count": 10,
   "id": "84874427",
   "metadata": {
    "execution": {
     "iopub.execute_input": "2024-09-08T18:01:01.359827Z",
     "iopub.status.busy": "2024-09-08T18:01:01.359387Z",
     "iopub.status.idle": "2024-09-08T18:01:01.364881Z",
     "shell.execute_reply": "2024-09-08T18:01:01.363713Z"
    },
    "papermill": {
     "duration": 0.018685,
     "end_time": "2024-09-08T18:01:01.367377",
     "exception": false,
     "start_time": "2024-09-08T18:01:01.348692",
     "status": "completed"
    },
    "tags": []
   },
   "outputs": [],
   "source": [
    "from sklearn.metrics import log_loss, accuracy_score\n",
    "from sklearn.model_selection import KFold"
   ]
  },
  {
   "cell_type": "code",
   "execution_count": 11,
   "id": "9c42eddc",
   "metadata": {
    "execution": {
     "iopub.execute_input": "2024-09-08T18:01:01.387261Z",
     "iopub.status.busy": "2024-09-08T18:01:01.386837Z",
     "iopub.status.idle": "2024-09-08T18:01:01.526311Z",
     "shell.execute_reply": "2024-09-08T18:01:01.525300Z"
    },
    "papermill": {
     "duration": 0.152469,
     "end_time": "2024-09-08T18:01:01.529010",
     "exception": false,
     "start_time": "2024-09-08T18:01:01.376541",
     "status": "completed"
    },
    "tags": []
   },
   "outputs": [
    {
     "name": "stdout",
     "output_type": "stream",
     "text": [
      "logloss: 0.4360, accuracy: 0.8260\n"
     ]
    }
   ],
   "source": [
    "scores_accuracy = []\n",
    "scores_logloss = []\n",
    "\n",
    "# クロスバリデーションを行う\n",
    "# 学習データを4つに分割し、うち1つをバリデーションデータとすることを、バリデーションデータを変えて繰り返す\n",
    "kf = KFold(n_splits=4, shuffle=True, random_state=71)\n",
    "for tr_idx, va_idx in kf.split(train_x):\n",
    "    # 学習データを学習データとバリデーションデータに分ける\n",
    "    tr_x, va_x = train_x.iloc[tr_idx], train_x.iloc[va_idx]\n",
    "    tr_y, va_y = train_y.iloc[tr_idx], train_y.iloc[va_idx]\n",
    "\n",
    "    # モデルの学習を行う\n",
    "    model = XGBClassifier(n_estimators=20, random_state=71)\n",
    "    model.fit(tr_x, tr_y)\n",
    "\n",
    "    # バリデーションデータの予測値を確率で出力する\n",
    "    va_pred = model.predict_proba(va_x)[:, 1]\n",
    "\n",
    "    # バリデーションデータでのスコアを計算する\n",
    "    logloss = log_loss(va_y, va_pred)\n",
    "    accuracy = accuracy_score(va_y, va_pred > 0.5)\n",
    "\n",
    "    # そのfoldのスコアを保存する\n",
    "    scores_logloss.append(logloss)\n",
    "    scores_accuracy.append(accuracy)\n",
    "\n",
    "# 各foldのスコアの平均を出力する\n",
    "logloss = np.mean(scores_logloss)\n",
    "accuracy = np.mean(scores_accuracy)\n",
    "print(f'logloss: {logloss:.4f}, accuracy: {accuracy:.4f}')"
   ]
  },
  {
   "cell_type": "markdown",
   "id": "f026c86a",
   "metadata": {
    "papermill": {
     "duration": 0.0088,
     "end_time": "2024-09-08T18:01:01.547849",
     "exception": false,
     "start_time": "2024-09-08T18:01:01.539049",
     "status": "completed"
    },
    "tags": []
   },
   "source": [
    "# モデルチューニング"
   ]
  },
  {
   "cell_type": "code",
   "execution_count": 12,
   "id": "c33f2648",
   "metadata": {
    "execution": {
     "iopub.execute_input": "2024-09-08T18:01:01.568028Z",
     "iopub.status.busy": "2024-09-08T18:01:01.567057Z",
     "iopub.status.idle": "2024-09-08T18:01:01.572499Z",
     "shell.execute_reply": "2024-09-08T18:01:01.571160Z"
    },
    "papermill": {
     "duration": 0.018215,
     "end_time": "2024-09-08T18:01:01.575070",
     "exception": false,
     "start_time": "2024-09-08T18:01:01.556855",
     "status": "completed"
    },
    "tags": []
   },
   "outputs": [],
   "source": [
    "import itertools"
   ]
  },
  {
   "cell_type": "code",
   "execution_count": 13,
   "id": "b1fa0561",
   "metadata": {
    "execution": {
     "iopub.execute_input": "2024-09-08T18:01:01.595128Z",
     "iopub.status.busy": "2024-09-08T18:01:01.594636Z",
     "iopub.status.idle": "2024-09-08T18:01:02.565577Z",
     "shell.execute_reply": "2024-09-08T18:01:02.564582Z"
    },
    "papermill": {
     "duration": 0.98421,
     "end_time": "2024-09-08T18:01:02.568355",
     "exception": false,
     "start_time": "2024-09-08T18:01:01.584145",
     "status": "completed"
    },
    "tags": []
   },
   "outputs": [
    {
     "name": "stdout",
     "output_type": "stream",
     "text": [
      "max_depth: 3, min_child_weight: 4.0\n"
     ]
    }
   ],
   "source": [
    "# チューニングする候補とするパラメータを準備する\n",
    "param_space = {\n",
    "    'max_depth': [3, 5, 7],\n",
    "    'min_child_weight': [1.0, 2.0, 4.0]\n",
    "}\n",
    "\n",
    "# 探索するハイパーパラメータの組み合わせ\n",
    "param_combinations = itertools.product(param_space['max_depth'], param_space['min_child_weight'])\n",
    "\n",
    "\n",
    "# 各パラメータの組み合わせ、それに対するスコアを保存するリスト\n",
    "params = []\n",
    "scores = []\n",
    "\n",
    "# 各パラメータの組み合わせごとにクロスバリデーションで評価する\n",
    "for max_depth, min_child_weight in param_combinations:\n",
    "\n",
    "    score_folds = []\n",
    "    # クロスバリデーションを行う\n",
    "    # 学習データを4つに分割し、うち1つをバリデーションデータとすることを、バリデーションデータを変えて繰り返す\n",
    "    kf = KFold(n_splits=4, shuffle=True, random_state=123456)\n",
    "    for tr_idx, va_idx in kf.split(train_x):\n",
    "        # 学習データを学習データとバリデーションデータに分ける\n",
    "        tr_x, va_x = train_x.iloc[tr_idx], train_x.iloc[va_idx]\n",
    "        tr_y, va_y = train_y.iloc[tr_idx], train_y.iloc[va_idx]\n",
    "\n",
    "        # モデルの学習を行う\n",
    "        model = XGBClassifier(n_estimators=20, random_state=71,\n",
    "                              max_depth=max_depth, min_child_weight=min_child_weight)\n",
    "        model.fit(tr_x, tr_y)\n",
    "\n",
    "        # バリデーションデータでのスコアを計算し、保存する\n",
    "        va_pred = model.predict_proba(va_x)[:, 1]\n",
    "        logloss = log_loss(va_y, va_pred)\n",
    "        score_folds.append(logloss)\n",
    "\n",
    "    # 各foldのスコアを平均する\n",
    "    score_mean = np.mean(score_folds)\n",
    "\n",
    "    # パラメータの組み合わせ、それに対するスコアを保存する\n",
    "    params.append((max_depth, min_child_weight))\n",
    "    scores.append(score_mean)\n",
    "\n",
    "# 最もスコアが良いものをベストなパラメータとする\n",
    "best_idx = np.argsort(scores)[0]\n",
    "best_param = params[best_idx]\n",
    "print(f'max_depth: {best_param[0]}, min_child_weight: {best_param[1]}')"
   ]
  },
  {
   "cell_type": "markdown",
   "id": "f6b19aa0",
   "metadata": {
    "papermill": {
     "duration": 0.00906,
     "end_time": "2024-09-08T18:01:02.587615",
     "exception": false,
     "start_time": "2024-09-08T18:01:02.578555",
     "status": "completed"
    },
    "tags": []
   },
   "source": [
    "# ロジスティック回帰用の特徴量を作成"
   ]
  },
  {
   "cell_type": "code",
   "execution_count": 14,
   "id": "dab7d16f",
   "metadata": {
    "execution": {
     "iopub.execute_input": "2024-09-08T18:01:02.608039Z",
     "iopub.status.busy": "2024-09-08T18:01:02.607459Z",
     "iopub.status.idle": "2024-09-08T18:01:02.613429Z",
     "shell.execute_reply": "2024-09-08T18:01:02.612166Z"
    },
    "papermill": {
     "duration": 0.019058,
     "end_time": "2024-09-08T18:01:02.615919",
     "exception": false,
     "start_time": "2024-09-08T18:01:02.596861",
     "status": "completed"
    },
    "tags": []
   },
   "outputs": [],
   "source": [
    "from sklearn.preprocessing import OneHotEncoder"
   ]
  },
  {
   "cell_type": "code",
   "execution_count": 15,
   "id": "34524924",
   "metadata": {
    "execution": {
     "iopub.execute_input": "2024-09-08T18:01:02.636107Z",
     "iopub.status.busy": "2024-09-08T18:01:02.635651Z",
     "iopub.status.idle": "2024-09-08T18:01:02.673081Z",
     "shell.execute_reply": "2024-09-08T18:01:02.671788Z"
    },
    "papermill": {
     "duration": 0.050727,
     "end_time": "2024-09-08T18:01:02.675880",
     "exception": false,
     "start_time": "2024-09-08T18:01:02.625153",
     "status": "completed"
    },
    "tags": []
   },
   "outputs": [],
   "source": [
    "# 元データをコピーする\n",
    "train_x2 = train.drop(['Survived'], axis=1)\n",
    "test_x2 = test.copy()\n",
    "\n",
    "# 変数PassengerIdを除外する\n",
    "train_x2 = train_x2.drop(['PassengerId'], axis=1)\n",
    "test_x2 = test_x2.drop(['PassengerId'], axis=1)\n",
    "\n",
    "# 変数Name, Ticket, Cabinを除外する\n",
    "train_x2 = train_x2.drop(['Name', 'Ticket', 'Cabin'], axis=1)\n",
    "test_x2 = test_x2.drop(['Name', 'Ticket', 'Cabin'], axis=1)\n",
    "\n",
    "# one-hot encodingを行う\n",
    "cat_cols = ['Sex', 'Embarked', 'Pclass']\n",
    "ohe = OneHotEncoder(categories='auto', sparse_output=False)\n",
    "ohe.fit(train_x2[cat_cols].fillna('NA'))\n",
    "\n",
    "# one-hot encodingのダミー変数の列名を作成する\n",
    "ohe_columns = []\n",
    "for i, c in enumerate(cat_cols):\n",
    "    ohe_columns += [f'{c}_{v}' for v in ohe.categories_[i]]\n",
    "\n",
    "# one-hot encodingによる変換を行う\n",
    "ohe_train_x2 = pd.DataFrame(ohe.transform(train_x2[cat_cols].fillna('NA')), columns=ohe_columns)\n",
    "ohe_test_x2 = pd.DataFrame(ohe.transform(test_x2[cat_cols].fillna('NA')), columns=ohe_columns)\n",
    "\n",
    "# one-hot encoding済みの変数を除外する\n",
    "train_x2 = train_x2.drop(cat_cols, axis=1)\n",
    "test_x2 = test_x2.drop(cat_cols, axis=1)\n",
    "\n",
    "# one-hot encodingで変換された変数を結合する\n",
    "train_x2 = pd.concat([train_x2, ohe_train_x2], axis=1)\n",
    "test_x2 = pd.concat([test_x2, ohe_test_x2], axis=1)\n",
    "\n",
    "# 数値変数の欠損値を学習データの平均で埋める\n",
    "num_cols = ['Age', 'SibSp', 'Parch', 'Fare']\n",
    "for col in num_cols:\n",
    "    train_x2[col] = train_x2[col].fillna(train_x2[col].mean())\n",
    "    test_x2[col] = test_x2[col].fillna(train_x2[col].mean())  # test_x2にはtrain_x2の平均で埋めることを意図している場合\n",
    "\n",
    "# 変数Fareを対数変換する\n",
    "train_x2['Fare'] = np.log1p(train_x2['Fare'])\n",
    "test_x2['Fare'] = np.log1p(test_x2['Fare'])"
   ]
  },
  {
   "cell_type": "markdown",
   "id": "29dfdf77",
   "metadata": {
    "papermill": {
     "duration": 0.008895,
     "end_time": "2024-09-08T18:01:02.694341",
     "exception": false,
     "start_time": "2024-09-08T18:01:02.685446",
     "status": "completed"
    },
    "tags": []
   },
   "source": [
    "# アンサンブル"
   ]
  },
  {
   "cell_type": "code",
   "execution_count": 16,
   "id": "93606c10",
   "metadata": {
    "execution": {
     "iopub.execute_input": "2024-09-08T18:01:02.715877Z",
     "iopub.status.busy": "2024-09-08T18:01:02.715429Z",
     "iopub.status.idle": "2024-09-08T18:01:02.823290Z",
     "shell.execute_reply": "2024-09-08T18:01:02.822106Z"
    },
    "papermill": {
     "duration": 0.121828,
     "end_time": "2024-09-08T18:01:02.826180",
     "exception": false,
     "start_time": "2024-09-08T18:01:02.704352",
     "status": "completed"
    },
    "tags": []
   },
   "outputs": [],
   "source": [
    "from sklearn.linear_model import LogisticRegression"
   ]
  },
  {
   "cell_type": "code",
   "execution_count": 17,
   "id": "98c7dd00",
   "metadata": {
    "execution": {
     "iopub.execute_input": "2024-09-08T18:01:02.846690Z",
     "iopub.status.busy": "2024-09-08T18:01:02.846224Z",
     "iopub.status.idle": "2024-09-08T18:01:03.006139Z",
     "shell.execute_reply": "2024-09-08T18:01:03.004500Z"
    },
    "papermill": {
     "duration": 0.175591,
     "end_time": "2024-09-08T18:01:03.011113",
     "exception": false,
     "start_time": "2024-09-08T18:01:02.835522",
     "status": "completed"
    },
    "tags": []
   },
   "outputs": [],
   "source": [
    "# xgboostのモデル\n",
    "model_xgb = XGBClassifier(n_estimators=20, random_state=71)\n",
    "model_xgb.fit(train_x, train_y)\n",
    "pred_xgb = model_xgb.predict_proba(test_x)[:,1]\n",
    "\n",
    "# ロジスティク回帰モデル\n",
    "model_lr = LogisticRegression(solver='lbfgs', max_iter=300)\n",
    "model_lr.fit(train_x2, train_y)\n",
    "pred_lr = model_lr.predict_proba(test_x2)[:,1]\n",
    "\n",
    "# 予測の加重平均をとる\n",
    "pred = pred_xgb * 0.8 + pred_lr * 0.2\n",
    "pred_label = np.where(pred > 0.5, 1, 0)"
   ]
  },
  {
   "cell_type": "markdown",
   "id": "15327223",
   "metadata": {
    "papermill": {
     "duration": 0.018366,
     "end_time": "2024-09-08T18:01:03.048524",
     "exception": false,
     "start_time": "2024-09-08T18:01:03.030158",
     "status": "completed"
    },
    "tags": []
   },
   "source": [
    "# 提出用ファイルの作成"
   ]
  },
  {
   "cell_type": "code",
   "execution_count": 18,
   "id": "a1594fcf",
   "metadata": {
    "execution": {
     "iopub.execute_input": "2024-09-08T18:01:03.088751Z",
     "iopub.status.busy": "2024-09-08T18:01:03.088005Z",
     "iopub.status.idle": "2024-09-08T18:01:03.104790Z",
     "shell.execute_reply": "2024-09-08T18:01:03.103224Z"
    },
    "papermill": {
     "duration": 0.04259,
     "end_time": "2024-09-08T18:01:03.109868",
     "exception": false,
     "start_time": "2024-09-08T18:01:03.067278",
     "status": "completed"
    },
    "tags": []
   },
   "outputs": [],
   "source": [
    "# 提出用ファイルの作成\n",
    "submission = pd.DataFrame({'PassengerId': test['PassengerId'], 'Survived': pred_label})\n",
    "submission.to_csv('submission_ansamble.csv', index=False)"
   ]
  }
 ],
 "metadata": {
  "kaggle": {
   "accelerator": "none",
   "dataSources": [
    {
     "databundleVersionId": 26502,
     "sourceId": 3136,
     "sourceType": "competition"
    }
   ],
   "dockerImageVersionId": 30761,
   "isGpuEnabled": false,
   "isInternetEnabled": true,
   "language": "python",
   "sourceType": "notebook"
  },
  "kernelspec": {
   "display_name": "Python 3",
   "language": "python",
   "name": "python3"
  },
  "language_info": {
   "codemirror_mode": {
    "name": "ipython",
    "version": 3
   },
   "file_extension": ".py",
   "mimetype": "text/x-python",
   "name": "python",
   "nbconvert_exporter": "python",
   "pygments_lexer": "ipython3",
   "version": "3.10.14"
  },
  "papermill": {
   "default_parameters": {},
   "duration": 7.961347,
   "end_time": "2024-09-08T18:01:03.747363",
   "environment_variables": {},
   "exception": null,
   "input_path": "__notebook__.ipynb",
   "output_path": "__notebook__.ipynb",
   "parameters": {},
   "start_time": "2024-09-08T18:00:55.786016",
   "version": "2.6.0"
  }
 },
 "nbformat": 4,
 "nbformat_minor": 5
}
