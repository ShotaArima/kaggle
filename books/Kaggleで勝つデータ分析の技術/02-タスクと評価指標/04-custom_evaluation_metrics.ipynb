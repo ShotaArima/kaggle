{
  "nbformat": 4,
  "nbformat_minor": 0,
  "metadata": {
    "colab": {
      "provenance": [],
      "toc_visible": true,
      "include_colab_link": true
    },
    "kernelspec": {
      "name": "python3",
      "display_name": "Python 3"
    },
    "language_info": {
      "name": "python"
    }
  },
  "cells": [
    {
      "cell_type": "markdown",
      "metadata": {
        "id": "view-in-github",
        "colab_type": "text"
      },
      "source": [
        "<a href=\"https://colab.research.google.com/github/ShotaArima/kaggle/blob/main/books/Kaggle%E3%81%A7%E5%8B%9D%E3%81%A4%E3%83%87%E3%83%BC%E3%82%BF%E5%88%86%E6%9E%90%E3%81%AE%E6%8A%80%E8%A1%93/02-%E3%82%BF%E3%82%B9%E3%82%AF%E3%81%A8%E8%A9%95%E4%BE%A1%E6%8C%87%E6%A8%99/04-custom_evaluation_metrics.ipynb\" target=\"_parent\"><img src=\"https://colab.research.google.com/assets/colab-badge.svg\" alt=\"Open In Colab\"/></a>"
      ]
    },
    {
      "cell_type": "markdown",
      "source": [
        "# カスタム評価指標とカスタム目的関数"
      ],
      "metadata": {
        "id": "zJsGeNjFdUa8"
      }
    },
    {
      "cell_type": "markdown",
      "source": [
        "## 準備"
      ],
      "metadata": {
        "id": "8BPZUbOHlqPZ"
      }
    },
    {
      "cell_type": "code",
      "source": [
        "import numpy as np\n",
        "import pandas as pd"
      ],
      "metadata": {
        "id": "EdsTmfmrf1e8"
      },
      "execution_count": 2,
      "outputs": []
    },
    {
      "cell_type": "code",
      "source": [
        "# 自分のディレクトリのsample_dataディレクトリURL\n",
        "url = 'https://raw.githubusercontent.com/ShotaArima/kaggle/refs/heads/main/books/Kaggle%E3%81%A7%E5%8B%9D%E3%81%A4%E3%83%87%E3%83%BC%E3%82%BF%E5%88%86%E6%9E%90%E3%81%AE%E6%8A%80%E8%A1%93/sample_data/'"
      ],
      "metadata": {
        "id": "_aZiPusBj7No"
      },
      "execution_count": 8,
      "outputs": []
    },
    {
      "cell_type": "code",
      "source": [
        "# train_xは学習データ、train_yは目的変数、test_xはテストデータ\n",
        "# pandasのDataFrame, Seriesで保持します。（numpyのarrayで保持することもあります\n",
        "\n",
        "train = pd.read_csv(url + 'train_preprocessed_data.csv')\n",
        "train_x = train.drop(['target'], axis=1)\n",
        "train_y = train['target']\n",
        "test_x = pd.read_csv(url+'test_preprocessed.csv')\n",
        "\n",
        "from sklearn.model_selection import KFold\n",
        "\n",
        "kf = KFold(n_splits=4, shuffle=True, random_state=71)\n",
        "tr_idx, va_idx = list(kf.split(train_x))[0]\n",
        "\n",
        "# 学習データを学習データとバリデーションデータに分ける\n",
        "tr_x, va_x = train_x.iloc[tr_idx], train_x.iloc[va_idx]\n",
        "tr_y, va_y = train_y.iloc[tr_idx], train_y.iloc[va_idx]"
      ],
      "metadata": {
        "id": "pIpFOFJlfAyx"
      },
      "execution_count": 14,
      "outputs": []
    },
    {
      "cell_type": "markdown",
      "source": [
        "### データの中身"
      ],
      "metadata": {
        "id": "mj1jDOjxlyMq"
      }
    },
    {
      "cell_type": "code",
      "source": [
        "print(f\"tr_x:\\n\", tr_x.head())\n",
        "print(f\"tr_y:\\n\", tr_y.head())"
      ],
      "metadata": {
        "id": "HvkRhOyGl0c5",
        "outputId": "ac78e2eb-cf5c-470b-f76f-52d76eba0edb",
        "colab": {
          "base_uri": "https://localhost:8080/"
        }
      },
      "execution_count": 25,
      "outputs": [
        {
          "output_type": "stream",
          "name": "stdout",
          "text": [
            "tr_x:\n",
            "    age  sex      height     weight  product  ...  medical_keyword_10  year  month  day  yearmonth\n",
            "0   50    1  166.445608  65.016732        9  ...                   0  2015      2    3      24182\n",
            "1   68    0  164.334615  56.544217        0  ...                   0  2015      5    9      24185\n",
            "2   77    1  167.462917  54.242267        2  ...                   0  2016      2   13      24194\n",
            "3   17    1  177.097725  71.147762        3  ...                   0  2015      7    6      24187\n",
            "4   62    0  158.165788  65.240697        1  ...                   0  2016      9   17      24201\n",
            "\n",
            "[5 rows x 28 columns]\n",
            "tr_y:\n",
            " 0    0\n",
            "1    0\n",
            "2    1\n",
            "3    0\n",
            "4    1\n",
            "Name: target, dtype: int64\n"
          ]
        }
      ]
    },
    {
      "cell_type": "code",
      "source": [
        "print(f\"va_x:\\n\", va_x.head())\n",
        "print(f\"va_y:\\n\", va_y.head())"
      ],
      "metadata": {
        "id": "W9uYCpv3l8rs",
        "outputId": "b464456e-1fbc-4c18-ff3d-f0f403465813",
        "colab": {
          "base_uri": "https://localhost:8080/"
        }
      },
      "execution_count": 26,
      "outputs": [
        {
          "output_type": "stream",
          "name": "stdout",
          "text": [
            "va_x:\n",
            "     age  sex      height     weight  product  ...  medical_keyword_10  year  month  day  yearmonth\n",
            "6    63    1  181.146801  63.982878        2  ...                   0  2015      8   19      24188\n",
            "10   54    1  175.576514  52.470671        7  ...                   0  2016     12   24      24204\n",
            "11   17    0  162.283723  51.544568        6  ...                   0  2016      2   28      24194\n",
            "12    5    1  160.458369  55.488517        4  ...                   0  2016      8   20      24200\n",
            "23   35    0  147.256907  44.591515        2  ...                   0  2015     12   15      24192\n",
            "\n",
            "[5 rows x 28 columns]\n",
            "va_y:\n",
            " 6     1\n",
            "10    0\n",
            "11    0\n",
            "12    0\n",
            "23    1\n",
            "Name: target, dtype: int64\n"
          ]
        }
      ]
    },
    {
      "cell_type": "markdown",
      "source": [
        "# サンプルコード"
      ],
      "metadata": {
        "id": "aGlc0gx7lt48"
      }
    },
    {
      "cell_type": "code",
      "source": [
        "import xgboost as xgb\n",
        "from sklearn.metrics import log_loss\n",
        "\n",
        "# 特徴量と目的変数をxgboostのデータ構造に変換する\n",
        "# 学習データの特徴量と目的変数がtr_x, tr_y\n",
        "# バリデーションデータの特徴量と目的変数がva_x, va_y\n",
        "dtrain = xgb.DMatrix(tr_x, label=tr_y)\n",
        "dvalid = xgb.DMatrix(va_x, label=va_y)"
      ],
      "metadata": {
        "id": "vQEbWtF5dT16"
      },
      "execution_count": 15,
      "outputs": []
    },
    {
      "cell_type": "code",
      "source": [
        "# カスタム目的関数(この場合は、loglossであり、xgboostの'binary:logistic'と等価)\n",
        "def logregobj(preds, dtrain):\n",
        "    labels = dtrain.get_label() # 真の値のラベルを取得\n",
        "    preds = 1.0 / (1.0 + np.exp(-preds)) # シグモイド関数\n",
        "    grad = preds - labels # 勾配\n",
        "    hass = preds * (1.0 - preds) # 二階微分値\n",
        "    return grad, hass"
      ],
      "metadata": {
        "id": "Z7DTItwklxG5"
      },
      "execution_count": 37,
      "outputs": []
    },
    {
      "cell_type": "code",
      "source": [
        "# カスタム評価指標 (この場合は誤答率)\n",
        "def evalerror(preds, dtrain):\n",
        "    labels = dtrain.get_label() # 真の値のラベルを取得\n",
        "    return 'cstom-error', float(sum(labels != (preds > 0.0))) / len(labels)"
      ],
      "metadata": {
        "id": "BWO_iJfpnOL_"
      },
      "execution_count": 38,
      "outputs": []
    },
    {
      "cell_type": "code",
      "source": [
        "# ハイパーパラメータの設定\n",
        "params = {'silent':1,\n",
        "          'random_state':71}\n",
        "num_round = 50\n",
        "watchlist = [(dtrain, 'dtrain'), (dvalid, 'eval')]\n",
        "\n",
        "# モデルの学習の実行\n",
        "bst = xgb.train(params, dtrain, num_round, watchlist, obj = logregobj, feval = evalerror)\n",
        "\n",
        "# 目的関数に binary:logistic を指定した時と違い、確率に変換する前の値で予測値が出力されるので変換が必要\n",
        "pred_val = bst.predict(dvalid)\n",
        "pred = 1.0 / (1.0 + np.exp(-pred_val))\n",
        "logloss = log_loss(va_y, pred)\n",
        "print(logloss)"
      ],
      "metadata": {
        "id": "9yVuxQwBnoRO",
        "outputId": "204d2661-adea-4287-d623-3c67e0274453",
        "colab": {
          "base_uri": "https://localhost:8080/"
        }
      },
      "execution_count": 44,
      "outputs": [
        {
          "output_type": "stream",
          "name": "stdout",
          "text": [
            "[0]\tdtrain-rmse:0.40096\tdtrain-cstom-error:0.17067\teval-rmse:0.42510\teval-cstom-error:0.19160\n",
            "[1]\tdtrain-rmse:0.70012\tdtrain-cstom-error:0.11627\teval-rmse:0.71947\teval-cstom-error:0.14880\n",
            "[2]\tdtrain-rmse:0.98004\tdtrain-cstom-error:0.10707\teval-rmse:0.99417\teval-cstom-error:0.14120\n",
            "[3]\tdtrain-rmse:1.22553\tdtrain-cstom-error:0.09853\teval-rmse:1.23620\teval-cstom-error:0.13680\n"
          ]
        },
        {
          "output_type": "stream",
          "name": "stderr",
          "text": [
            "/usr/local/lib/python3.10/dist-packages/xgboost/core.py:723: FutureWarning: Pass `evals` as keyword args.\n",
            "  warnings.warn(msg, FutureWarning)\n",
            "/usr/local/lib/python3.10/dist-packages/xgboost/training.py:38: UserWarning: `feval` is deprecated, use `custom_metric` instead.  They have different behavior when custom objective is also used.See https://xgboost.readthedocs.io/en/latest/tutorials/custom_metric_obj.html for details on the `custom_metric`.\n",
            "  warnings.warn(\n",
            "/usr/local/lib/python3.10/dist-packages/xgboost/core.py:158: UserWarning: [07:54:57] WARNING: /workspace/src/learner.cc:740: \n",
            "Parameters: { \"silent\" } are not used.\n",
            "\n",
            "  warnings.warn(smsg, UserWarning)\n"
          ]
        },
        {
          "output_type": "stream",
          "name": "stdout",
          "text": [
            "[4]\tdtrain-rmse:1.43887\tdtrain-cstom-error:0.09307\teval-rmse:1.45035\teval-cstom-error:0.13280\n",
            "[5]\tdtrain-rmse:1.62458\tdtrain-cstom-error:0.09027\teval-rmse:1.62992\teval-cstom-error:0.13160\n",
            "[6]\tdtrain-rmse:1.79119\tdtrain-cstom-error:0.08507\teval-rmse:1.79517\teval-cstom-error:0.13080\n",
            "[7]\tdtrain-rmse:1.92439\tdtrain-cstom-error:0.08133\teval-rmse:1.92730\teval-cstom-error:0.13720\n",
            "[8]\tdtrain-rmse:2.05722\tdtrain-cstom-error:0.07693\teval-rmse:2.05313\teval-cstom-error:0.12880\n",
            "[9]\tdtrain-rmse:2.16512\tdtrain-cstom-error:0.07427\teval-rmse:2.15662\teval-cstom-error:0.12320\n",
            "[10]\tdtrain-rmse:2.25427\tdtrain-cstom-error:0.07227\teval-rmse:2.24850\teval-cstom-error:0.12160\n",
            "[11]\tdtrain-rmse:2.34389\tdtrain-cstom-error:0.06680\teval-rmse:2.33289\teval-cstom-error:0.11640\n",
            "[12]\tdtrain-rmse:2.43563\tdtrain-cstom-error:0.06373\teval-rmse:2.42562\teval-cstom-error:0.11920\n",
            "[13]\tdtrain-rmse:2.50021\tdtrain-cstom-error:0.06013\teval-rmse:2.49314\teval-cstom-error:0.11720\n",
            "[14]\tdtrain-rmse:2.57911\tdtrain-cstom-error:0.05693\teval-rmse:2.56659\teval-cstom-error:0.11440\n",
            "[15]\tdtrain-rmse:2.65232\tdtrain-cstom-error:0.05507\teval-rmse:2.63893\teval-cstom-error:0.11680\n",
            "[16]\tdtrain-rmse:2.70002\tdtrain-cstom-error:0.05253\teval-rmse:2.68689\teval-cstom-error:0.11520\n",
            "[17]\tdtrain-rmse:2.77880\tdtrain-cstom-error:0.04560\teval-rmse:2.76086\teval-cstom-error:0.11200\n",
            "[18]\tdtrain-rmse:2.83845\tdtrain-cstom-error:0.04493\teval-rmse:2.81897\teval-cstom-error:0.11320\n",
            "[19]\tdtrain-rmse:2.91034\tdtrain-cstom-error:0.04187\teval-rmse:2.88701\teval-cstom-error:0.10680\n",
            "[20]\tdtrain-rmse:2.95466\tdtrain-cstom-error:0.04067\teval-rmse:2.92630\teval-cstom-error:0.10800\n",
            "[21]\tdtrain-rmse:3.03754\tdtrain-cstom-error:0.03653\teval-rmse:3.00486\teval-cstom-error:0.10680\n",
            "[22]\tdtrain-rmse:3.09375\tdtrain-cstom-error:0.03413\teval-rmse:3.05862\teval-cstom-error:0.10720\n",
            "[23]\tdtrain-rmse:3.13221\tdtrain-cstom-error:0.03267\teval-rmse:3.09715\teval-cstom-error:0.10400\n",
            "[24]\tdtrain-rmse:3.19813\tdtrain-cstom-error:0.03000\teval-rmse:3.15782\teval-cstom-error:0.10200\n",
            "[25]\tdtrain-rmse:3.23752\tdtrain-cstom-error:0.02960\teval-rmse:3.19417\teval-cstom-error:0.10200\n",
            "[26]\tdtrain-rmse:3.29579\tdtrain-cstom-error:0.02693\teval-rmse:3.24915\teval-cstom-error:0.10160\n",
            "[27]\tdtrain-rmse:3.31909\tdtrain-cstom-error:0.02667\teval-rmse:3.26929\teval-cstom-error:0.10240\n",
            "[28]\tdtrain-rmse:3.36750\tdtrain-cstom-error:0.02693\teval-rmse:3.31901\teval-cstom-error:0.10080\n",
            "[29]\tdtrain-rmse:3.39405\tdtrain-cstom-error:0.02480\teval-rmse:3.33855\teval-cstom-error:0.10040\n",
            "[30]\tdtrain-rmse:3.43995\tdtrain-cstom-error:0.02453\teval-rmse:3.38500\teval-cstom-error:0.10160\n",
            "[31]\tdtrain-rmse:3.49259\tdtrain-cstom-error:0.02160\teval-rmse:3.43292\teval-cstom-error:0.10280\n",
            "[32]\tdtrain-rmse:3.54050\tdtrain-cstom-error:0.01960\teval-rmse:3.47181\teval-cstom-error:0.10040\n",
            "[33]\tdtrain-rmse:3.58603\tdtrain-cstom-error:0.01813\teval-rmse:3.51648\teval-cstom-error:0.10000\n",
            "[34]\tdtrain-rmse:3.62879\tdtrain-cstom-error:0.01667\teval-rmse:3.56008\teval-cstom-error:0.09960\n",
            "[35]\tdtrain-rmse:3.65900\tdtrain-cstom-error:0.01533\teval-rmse:3.58828\teval-cstom-error:0.10120\n",
            "[36]\tdtrain-rmse:3.69221\tdtrain-cstom-error:0.01507\teval-rmse:3.61814\teval-cstom-error:0.10120\n",
            "[37]\tdtrain-rmse:3.74006\tdtrain-cstom-error:0.01560\teval-rmse:3.66225\teval-cstom-error:0.09920\n",
            "[38]\tdtrain-rmse:3.79369\tdtrain-cstom-error:0.01413\teval-rmse:3.71152\teval-cstom-error:0.09720\n",
            "[39]\tdtrain-rmse:3.83048\tdtrain-cstom-error:0.01307\teval-rmse:3.74731\teval-cstom-error:0.09800\n",
            "[40]\tdtrain-rmse:3.86900\tdtrain-cstom-error:0.01320\teval-rmse:3.78295\teval-cstom-error:0.09880\n",
            "[41]\tdtrain-rmse:3.89659\tdtrain-cstom-error:0.01280\teval-rmse:3.80983\teval-cstom-error:0.09880\n",
            "[42]\tdtrain-rmse:3.93369\tdtrain-cstom-error:0.01160\teval-rmse:3.84536\teval-cstom-error:0.09720\n",
            "[43]\tdtrain-rmse:4.00046\tdtrain-cstom-error:0.01013\teval-rmse:3.91435\teval-cstom-error:0.09880\n",
            "[44]\tdtrain-rmse:4.03320\tdtrain-cstom-error:0.01000\teval-rmse:3.94701\teval-cstom-error:0.09680\n",
            "[45]\tdtrain-rmse:4.06739\tdtrain-cstom-error:0.00920\teval-rmse:3.98061\teval-cstom-error:0.09400\n",
            "[46]\tdtrain-rmse:4.10175\tdtrain-cstom-error:0.00880\teval-rmse:4.01514\teval-cstom-error:0.09360\n",
            "[47]\tdtrain-rmse:4.14088\tdtrain-cstom-error:0.00880\teval-rmse:4.05122\teval-cstom-error:0.09240\n",
            "[48]\tdtrain-rmse:4.16606\tdtrain-cstom-error:0.00907\teval-rmse:4.07529\teval-cstom-error:0.09320\n",
            "[49]\tdtrain-rmse:4.19586\tdtrain-cstom-error:0.00800\teval-rmse:4.10429\teval-cstom-error:0.09160\n",
            "0.21992204652445954\n"
          ]
        }
      ]
    },
    {
      "cell_type": "code",
      "source": [
        "# 参考 通常の方法で学習を行う場合\n",
        "params = {'silent': 1, 'random_state': 71, 'objective': 'binary:logistic'}\n",
        "bst = xgb.train(params, dtrain, num_round, watchlist)\n",
        "\n",
        "pred = bst.predict(dvalid)\n",
        "logloss2 = log_loss(va_y, pred)\n",
        "print(logloss2)"
      ],
      "metadata": {
        "id": "qlHU8CHloV1Z",
        "outputId": "824767af-8379-4fd7-e103-97463b780165",
        "colab": {
          "base_uri": "https://localhost:8080/"
        }
      },
      "execution_count": 45,
      "outputs": [
        {
          "output_type": "stream",
          "name": "stdout",
          "text": [
            "[0]\tdtrain-logloss:0.41663\teval-logloss:0.43550\n",
            "[1]\tdtrain-logloss:0.37126\teval-logloss:0.39889\n",
            "[2]\tdtrain-logloss:0.33889\teval-logloss:0.37205\n",
            "[3]\tdtrain-logloss:0.31320\teval-logloss:0.35606\n"
          ]
        },
        {
          "output_type": "stream",
          "name": "stderr",
          "text": [
            "/usr/local/lib/python3.10/dist-packages/xgboost/core.py:723: FutureWarning: Pass `evals` as keyword args.\n",
            "  warnings.warn(msg, FutureWarning)\n",
            "/usr/local/lib/python3.10/dist-packages/xgboost/core.py:158: UserWarning: [07:54:59] WARNING: /workspace/src/learner.cc:740: \n",
            "Parameters: { \"silent\" } are not used.\n",
            "\n",
            "  warnings.warn(smsg, UserWarning)\n"
          ]
        },
        {
          "output_type": "stream",
          "name": "stdout",
          "text": [
            "[4]\tdtrain-logloss:0.29062\teval-logloss:0.33709\n",
            "[5]\tdtrain-logloss:0.27315\teval-logloss:0.32549\n",
            "[6]\tdtrain-logloss:0.25735\teval-logloss:0.31328\n",
            "[7]\tdtrain-logloss:0.24299\teval-logloss:0.30434\n",
            "[8]\tdtrain-logloss:0.22850\teval-logloss:0.29755\n",
            "[9]\tdtrain-logloss:0.21984\teval-logloss:0.29490\n",
            "[10]\tdtrain-logloss:0.21094\teval-logloss:0.28867\n",
            "[11]\tdtrain-logloss:0.20280\teval-logloss:0.28290\n",
            "[12]\tdtrain-logloss:0.19173\teval-logloss:0.27823\n",
            "[13]\tdtrain-logloss:0.18626\teval-logloss:0.27372\n",
            "[14]\tdtrain-logloss:0.17750\teval-logloss:0.27174\n",
            "[15]\tdtrain-logloss:0.17111\teval-logloss:0.26724\n",
            "[16]\tdtrain-logloss:0.16269\teval-logloss:0.26364\n",
            "[17]\tdtrain-logloss:0.15749\teval-logloss:0.26171\n",
            "[18]\tdtrain-logloss:0.15286\teval-logloss:0.25777\n",
            "[19]\tdtrain-logloss:0.14977\teval-logloss:0.25564\n",
            "[20]\tdtrain-logloss:0.14463\teval-logloss:0.25519\n",
            "[21]\tdtrain-logloss:0.13899\teval-logloss:0.25306\n",
            "[22]\tdtrain-logloss:0.13512\teval-logloss:0.25066\n",
            "[23]\tdtrain-logloss:0.13177\teval-logloss:0.24852\n",
            "[24]\tdtrain-logloss:0.12694\teval-logloss:0.24723\n",
            "[25]\tdtrain-logloss:0.12473\teval-logloss:0.24621\n",
            "[26]\tdtrain-logloss:0.12146\teval-logloss:0.24510\n",
            "[27]\tdtrain-logloss:0.11716\teval-logloss:0.24219\n",
            "[28]\tdtrain-logloss:0.11285\teval-logloss:0.24188\n",
            "[29]\tdtrain-logloss:0.11031\teval-logloss:0.24129\n",
            "[30]\tdtrain-logloss:0.10748\teval-logloss:0.24004\n",
            "[31]\tdtrain-logloss:0.10524\teval-logloss:0.23853\n",
            "[32]\tdtrain-logloss:0.10267\teval-logloss:0.23720\n",
            "[33]\tdtrain-logloss:0.10009\teval-logloss:0.23633\n",
            "[34]\tdtrain-logloss:0.09839\teval-logloss:0.23639\n",
            "[35]\tdtrain-logloss:0.09561\teval-logloss:0.23573\n",
            "[36]\tdtrain-logloss:0.09340\teval-logloss:0.23530\n",
            "[37]\tdtrain-logloss:0.09026\teval-logloss:0.23576\n",
            "[38]\tdtrain-logloss:0.08846\teval-logloss:0.23531\n",
            "[39]\tdtrain-logloss:0.08633\teval-logloss:0.23498\n",
            "[40]\tdtrain-logloss:0.08452\teval-logloss:0.23354\n",
            "[41]\tdtrain-logloss:0.08389\teval-logloss:0.23332\n",
            "[42]\tdtrain-logloss:0.08273\teval-logloss:0.23285\n",
            "[43]\tdtrain-logloss:0.08079\teval-logloss:0.23127\n",
            "[44]\tdtrain-logloss:0.07987\teval-logloss:0.23133\n",
            "[45]\tdtrain-logloss:0.07617\teval-logloss:0.22856\n",
            "[46]\tdtrain-logloss:0.07404\teval-logloss:0.22731\n",
            "[47]\tdtrain-logloss:0.07240\teval-logloss:0.22753\n",
            "[48]\tdtrain-logloss:0.07084\teval-logloss:0.22650\n",
            "[49]\tdtrain-logloss:0.06933\teval-logloss:0.22573\n",
            "0.22572590332195305\n"
          ]
        }
      ]
    },
    {
      "cell_type": "code",
      "source": [
        "print(f\"logloss\\t\\t\",logloss)\n",
        "print(f\"logloss2\\t\", logloss2)"
      ],
      "metadata": {
        "id": "YRQFDDU3qPCc",
        "outputId": "4344c4d4-fe87-4251-b311-d1a8249ed3ff",
        "colab": {
          "base_uri": "https://localhost:8080/"
        }
      },
      "execution_count": 48,
      "outputs": [
        {
          "output_type": "stream",
          "name": "stdout",
          "text": [
            "logloss\t\t 0.21992204652445954\n",
            "logloss2\t 0.22572590332195305\n"
          ]
        }
      ]
    },
    {
      "cell_type": "code",
      "source": [],
      "metadata": {
        "id": "7rGVqdhSq4Eh"
      },
      "execution_count": null,
      "outputs": []
    }
  ]
}