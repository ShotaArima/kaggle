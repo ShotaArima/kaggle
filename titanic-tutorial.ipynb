{
 "cells": [
  {
   "cell_type": "markdown",
   "id": "a0bf84e9",
   "metadata": {
    "papermill": {
     "duration": 0.011592,
     "end_time": "2024-08-06T07:02:14.640759",
     "exception": false,
     "start_time": "2024-08-06T07:02:14.629167",
     "status": "completed"
    },
    "tags": []
   },
   "source": [
    "# データのインプット"
   ]
  },
  {
   "cell_type": "code",
   "execution_count": 1,
   "id": "22650068",
   "metadata": {
    "_cell_guid": "b1076dfc-b9ad-4769-8c92-a6c4dae69d19",
    "_uuid": "8f2839f25d086af736a60e9eeb907d3b93b6e0e5",
    "execution": {
     "iopub.execute_input": "2024-08-06T07:02:14.665002Z",
     "iopub.status.busy": "2024-08-06T07:02:14.664461Z",
     "iopub.status.idle": "2024-08-06T07:02:15.829889Z",
     "shell.execute_reply": "2024-08-06T07:02:15.828188Z"
    },
    "papermill": {
     "duration": 1.180901,
     "end_time": "2024-08-06T07:02:15.832686",
     "exception": false,
     "start_time": "2024-08-06T07:02:14.651785",
     "status": "completed"
    },
    "tags": []
   },
   "outputs": [
    {
     "name": "stdout",
     "output_type": "stream",
     "text": [
      "/kaggle/input/titanic/train.csv\n",
      "/kaggle/input/titanic/test.csv\n",
      "/kaggle/input/titanic/gender_submission.csv\n"
     ]
    }
   ],
   "source": [
    "# This Python 3 environment comes with many helpful analytics libraries installed\n",
    "# It is defined by the kaggle/python Docker image: https://github.com/kaggle/docker-python\n",
    "# For example, here's several helpful packages to load\n",
    "\n",
    "import numpy as np # linear algebra\n",
    "import pandas as pd # data processing, CSV file I/O (e.g. pd.read_csv)\n",
    "\n",
    "# Input data files are available in the read-only \"../input/\" directory\n",
    "# For example, running this (by clicking run or pressing Shift+Enter) will list all files under the input directory\n",
    "\n",
    "import os\n",
    "for dirname, _, filenames in os.walk('/kaggle/input'):\n",
    "    for filename in filenames:\n",
    "        print(os.path.join(dirname, filename))\n",
    "\n",
    "# You can write up to 20GB to the current directory (/kaggle/working/) that gets preserved as output when you create a version using \"Save & Run All\" \n",
    "# You can also write temporary files to /kaggle/temp/, but they won't be saved outside of the current session"
   ]
  },
  {
   "cell_type": "code",
   "execution_count": 2,
   "id": "571cff41",
   "metadata": {
    "execution": {
     "iopub.execute_input": "2024-08-06T07:02:15.857272Z",
     "iopub.status.busy": "2024-08-06T07:02:15.856741Z",
     "iopub.status.idle": "2024-08-06T07:02:15.913145Z",
     "shell.execute_reply": "2024-08-06T07:02:15.911743Z"
    },
    "papermill": {
     "duration": 0.07158,
     "end_time": "2024-08-06T07:02:15.915748",
     "exception": false,
     "start_time": "2024-08-06T07:02:15.844168",
     "status": "completed"
    },
    "tags": []
   },
   "outputs": [
    {
     "data": {
      "text/html": [
       "<div>\n",
       "<style scoped>\n",
       "    .dataframe tbody tr th:only-of-type {\n",
       "        vertical-align: middle;\n",
       "    }\n",
       "\n",
       "    .dataframe tbody tr th {\n",
       "        vertical-align: top;\n",
       "    }\n",
       "\n",
       "    .dataframe thead th {\n",
       "        text-align: right;\n",
       "    }\n",
       "</style>\n",
       "<table border=\"1\" class=\"dataframe\">\n",
       "  <thead>\n",
       "    <tr style=\"text-align: right;\">\n",
       "      <th></th>\n",
       "      <th>PassengerId</th>\n",
       "      <th>Survived</th>\n",
       "      <th>Pclass</th>\n",
       "      <th>Name</th>\n",
       "      <th>Sex</th>\n",
       "      <th>Age</th>\n",
       "      <th>SibSp</th>\n",
       "      <th>Parch</th>\n",
       "      <th>Ticket</th>\n",
       "      <th>Fare</th>\n",
       "      <th>Cabin</th>\n",
       "      <th>Embarked</th>\n",
       "    </tr>\n",
       "  </thead>\n",
       "  <tbody>\n",
       "    <tr>\n",
       "      <th>0</th>\n",
       "      <td>1</td>\n",
       "      <td>0</td>\n",
       "      <td>3</td>\n",
       "      <td>Braund, Mr. Owen Harris</td>\n",
       "      <td>male</td>\n",
       "      <td>22.0</td>\n",
       "      <td>1</td>\n",
       "      <td>0</td>\n",
       "      <td>A/5 21171</td>\n",
       "      <td>7.2500</td>\n",
       "      <td>NaN</td>\n",
       "      <td>S</td>\n",
       "    </tr>\n",
       "    <tr>\n",
       "      <th>1</th>\n",
       "      <td>2</td>\n",
       "      <td>1</td>\n",
       "      <td>1</td>\n",
       "      <td>Cumings, Mrs. John Bradley (Florence Briggs Th...</td>\n",
       "      <td>female</td>\n",
       "      <td>38.0</td>\n",
       "      <td>1</td>\n",
       "      <td>0</td>\n",
       "      <td>PC 17599</td>\n",
       "      <td>71.2833</td>\n",
       "      <td>C85</td>\n",
       "      <td>C</td>\n",
       "    </tr>\n",
       "    <tr>\n",
       "      <th>2</th>\n",
       "      <td>3</td>\n",
       "      <td>1</td>\n",
       "      <td>3</td>\n",
       "      <td>Heikkinen, Miss. Laina</td>\n",
       "      <td>female</td>\n",
       "      <td>26.0</td>\n",
       "      <td>0</td>\n",
       "      <td>0</td>\n",
       "      <td>STON/O2. 3101282</td>\n",
       "      <td>7.9250</td>\n",
       "      <td>NaN</td>\n",
       "      <td>S</td>\n",
       "    </tr>\n",
       "    <tr>\n",
       "      <th>3</th>\n",
       "      <td>4</td>\n",
       "      <td>1</td>\n",
       "      <td>1</td>\n",
       "      <td>Futrelle, Mrs. Jacques Heath (Lily May Peel)</td>\n",
       "      <td>female</td>\n",
       "      <td>35.0</td>\n",
       "      <td>1</td>\n",
       "      <td>0</td>\n",
       "      <td>113803</td>\n",
       "      <td>53.1000</td>\n",
       "      <td>C123</td>\n",
       "      <td>S</td>\n",
       "    </tr>\n",
       "    <tr>\n",
       "      <th>4</th>\n",
       "      <td>5</td>\n",
       "      <td>0</td>\n",
       "      <td>3</td>\n",
       "      <td>Allen, Mr. William Henry</td>\n",
       "      <td>male</td>\n",
       "      <td>35.0</td>\n",
       "      <td>0</td>\n",
       "      <td>0</td>\n",
       "      <td>373450</td>\n",
       "      <td>8.0500</td>\n",
       "      <td>NaN</td>\n",
       "      <td>S</td>\n",
       "    </tr>\n",
       "  </tbody>\n",
       "</table>\n",
       "</div>"
      ],
      "text/plain": [
       "   PassengerId  Survived  Pclass  \\\n",
       "0            1         0       3   \n",
       "1            2         1       1   \n",
       "2            3         1       3   \n",
       "3            4         1       1   \n",
       "4            5         0       3   \n",
       "\n",
       "                                                Name     Sex   Age  SibSp  \\\n",
       "0                            Braund, Mr. Owen Harris    male  22.0      1   \n",
       "1  Cumings, Mrs. John Bradley (Florence Briggs Th...  female  38.0      1   \n",
       "2                             Heikkinen, Miss. Laina  female  26.0      0   \n",
       "3       Futrelle, Mrs. Jacques Heath (Lily May Peel)  female  35.0      1   \n",
       "4                           Allen, Mr. William Henry    male  35.0      0   \n",
       "\n",
       "   Parch            Ticket     Fare Cabin Embarked  \n",
       "0      0         A/5 21171   7.2500   NaN        S  \n",
       "1      0          PC 17599  71.2833   C85        C  \n",
       "2      0  STON/O2. 3101282   7.9250   NaN        S  \n",
       "3      0            113803  53.1000  C123        S  \n",
       "4      0            373450   8.0500   NaN        S  "
      ]
     },
     "execution_count": 2,
     "metadata": {},
     "output_type": "execute_result"
    }
   ],
   "source": [
    "train = pd.read_csv(\"/kaggle/input/titanic/train.csv\")\n",
    "train.head()"
   ]
  },
  {
   "cell_type": "code",
   "execution_count": 3,
   "id": "1ec74223",
   "metadata": {
    "execution": {
     "iopub.execute_input": "2024-08-06T07:02:15.940069Z",
     "iopub.status.busy": "2024-08-06T07:02:15.939639Z",
     "iopub.status.idle": "2024-08-06T07:02:15.965191Z",
     "shell.execute_reply": "2024-08-06T07:02:15.963873Z"
    },
    "papermill": {
     "duration": 0.041032,
     "end_time": "2024-08-06T07:02:15.967998",
     "exception": false,
     "start_time": "2024-08-06T07:02:15.926966",
     "status": "completed"
    },
    "tags": []
   },
   "outputs": [
    {
     "data": {
      "text/html": [
       "<div>\n",
       "<style scoped>\n",
       "    .dataframe tbody tr th:only-of-type {\n",
       "        vertical-align: middle;\n",
       "    }\n",
       "\n",
       "    .dataframe tbody tr th {\n",
       "        vertical-align: top;\n",
       "    }\n",
       "\n",
       "    .dataframe thead th {\n",
       "        text-align: right;\n",
       "    }\n",
       "</style>\n",
       "<table border=\"1\" class=\"dataframe\">\n",
       "  <thead>\n",
       "    <tr style=\"text-align: right;\">\n",
       "      <th></th>\n",
       "      <th>PassengerId</th>\n",
       "      <th>Pclass</th>\n",
       "      <th>Name</th>\n",
       "      <th>Sex</th>\n",
       "      <th>Age</th>\n",
       "      <th>SibSp</th>\n",
       "      <th>Parch</th>\n",
       "      <th>Ticket</th>\n",
       "      <th>Fare</th>\n",
       "      <th>Cabin</th>\n",
       "      <th>Embarked</th>\n",
       "    </tr>\n",
       "  </thead>\n",
       "  <tbody>\n",
       "    <tr>\n",
       "      <th>0</th>\n",
       "      <td>892</td>\n",
       "      <td>3</td>\n",
       "      <td>Kelly, Mr. James</td>\n",
       "      <td>male</td>\n",
       "      <td>34.5</td>\n",
       "      <td>0</td>\n",
       "      <td>0</td>\n",
       "      <td>330911</td>\n",
       "      <td>7.8292</td>\n",
       "      <td>NaN</td>\n",
       "      <td>Q</td>\n",
       "    </tr>\n",
       "    <tr>\n",
       "      <th>1</th>\n",
       "      <td>893</td>\n",
       "      <td>3</td>\n",
       "      <td>Wilkes, Mrs. James (Ellen Needs)</td>\n",
       "      <td>female</td>\n",
       "      <td>47.0</td>\n",
       "      <td>1</td>\n",
       "      <td>0</td>\n",
       "      <td>363272</td>\n",
       "      <td>7.0000</td>\n",
       "      <td>NaN</td>\n",
       "      <td>S</td>\n",
       "    </tr>\n",
       "    <tr>\n",
       "      <th>2</th>\n",
       "      <td>894</td>\n",
       "      <td>2</td>\n",
       "      <td>Myles, Mr. Thomas Francis</td>\n",
       "      <td>male</td>\n",
       "      <td>62.0</td>\n",
       "      <td>0</td>\n",
       "      <td>0</td>\n",
       "      <td>240276</td>\n",
       "      <td>9.6875</td>\n",
       "      <td>NaN</td>\n",
       "      <td>Q</td>\n",
       "    </tr>\n",
       "    <tr>\n",
       "      <th>3</th>\n",
       "      <td>895</td>\n",
       "      <td>3</td>\n",
       "      <td>Wirz, Mr. Albert</td>\n",
       "      <td>male</td>\n",
       "      <td>27.0</td>\n",
       "      <td>0</td>\n",
       "      <td>0</td>\n",
       "      <td>315154</td>\n",
       "      <td>8.6625</td>\n",
       "      <td>NaN</td>\n",
       "      <td>S</td>\n",
       "    </tr>\n",
       "    <tr>\n",
       "      <th>4</th>\n",
       "      <td>896</td>\n",
       "      <td>3</td>\n",
       "      <td>Hirvonen, Mrs. Alexander (Helga E Lindqvist)</td>\n",
       "      <td>female</td>\n",
       "      <td>22.0</td>\n",
       "      <td>1</td>\n",
       "      <td>1</td>\n",
       "      <td>3101298</td>\n",
       "      <td>12.2875</td>\n",
       "      <td>NaN</td>\n",
       "      <td>S</td>\n",
       "    </tr>\n",
       "  </tbody>\n",
       "</table>\n",
       "</div>"
      ],
      "text/plain": [
       "   PassengerId  Pclass                                          Name     Sex  \\\n",
       "0          892       3                              Kelly, Mr. James    male   \n",
       "1          893       3              Wilkes, Mrs. James (Ellen Needs)  female   \n",
       "2          894       2                     Myles, Mr. Thomas Francis    male   \n",
       "3          895       3                              Wirz, Mr. Albert    male   \n",
       "4          896       3  Hirvonen, Mrs. Alexander (Helga E Lindqvist)  female   \n",
       "\n",
       "    Age  SibSp  Parch   Ticket     Fare Cabin Embarked  \n",
       "0  34.5      0      0   330911   7.8292   NaN        Q  \n",
       "1  47.0      1      0   363272   7.0000   NaN        S  \n",
       "2  62.0      0      0   240276   9.6875   NaN        Q  \n",
       "3  27.0      0      0   315154   8.6625   NaN        S  \n",
       "4  22.0      1      1  3101298  12.2875   NaN        S  "
      ]
     },
     "execution_count": 3,
     "metadata": {},
     "output_type": "execute_result"
    }
   ],
   "source": [
    "test = pd.read_csv(\"/kaggle/input/titanic/test.csv\")\n",
    "test.head()"
   ]
  },
  {
   "cell_type": "markdown",
   "id": "abf83e9b",
   "metadata": {
    "papermill": {
     "duration": 0.010842,
     "end_time": "2024-08-06T07:02:15.990484",
     "exception": false,
     "start_time": "2024-08-06T07:02:15.979642",
     "status": "completed"
    },
    "tags": []
   },
   "source": [
    "入力されたデータ\n",
    "# データの入力\n",
    "\n",
    "| 変数 | 定義 | キー |\n",
    "|------|------|------|\n",
    "| survival | 生存 | 0 = いいえ, 1 = はい |\n",
    "| pclass | チケットのクラス | 1 = 1等, 2 = 2等, 3 = 3等 |\n",
    "| sex | 性別 | |\n",
    "| Age | 年齢（歳） | |\n",
    "| sibsp | タイタニック号に乗船していた兄弟姉妹/配偶者の数 | |\n",
    "| parch | タイタニック号に乗船していた親/子供の数 | |\n",
    "| ticket | チケット番号 | |\n",
    "| fare | 乗客運賃 | |\n",
    "| cabin | 客室番号 | |\n",
    "| embarked | 出港地 | C = シェルブール, Q = クイーンズタウン, S = サウサンプトン |\n"
   ]
  },
  {
   "cell_type": "markdown",
   "id": "3a62fd26",
   "metadata": {
    "papermill": {
     "duration": 0.010946,
     "end_time": "2024-08-06T07:02:16.012887",
     "exception": false,
     "start_time": "2024-08-06T07:02:16.001941",
     "status": "completed"
    },
    "tags": []
   },
   "source": [
    "# k-最近傍法"
   ]
  },
  {
   "cell_type": "code",
   "execution_count": 4,
   "id": "76d004f4",
   "metadata": {
    "execution": {
     "iopub.execute_input": "2024-08-06T07:02:16.037313Z",
     "iopub.status.busy": "2024-08-06T07:02:16.036777Z",
     "iopub.status.idle": "2024-08-06T07:02:16.043702Z",
     "shell.execute_reply": "2024-08-06T07:02:16.042227Z"
    },
    "papermill": {
     "duration": 0.022093,
     "end_time": "2024-08-06T07:02:16.046241",
     "exception": false,
     "start_time": "2024-08-06T07:02:16.024148",
     "status": "completed"
    },
    "tags": []
   },
   "outputs": [],
   "source": [
    "train1 = train.copy()\n",
    "test1 = test.copy()"
   ]
  },
  {
   "cell_type": "markdown",
   "id": "d7a10d66",
   "metadata": {
    "papermill": {
     "duration": 0.011113,
     "end_time": "2024-08-06T07:02:16.070018",
     "exception": false,
     "start_time": "2024-08-06T07:02:16.058905",
     "status": "completed"
    },
    "tags": []
   },
   "source": [
    "## 前処理"
   ]
  },
  {
   "cell_type": "code",
   "execution_count": 5,
   "id": "fac2d1a5",
   "metadata": {
    "execution": {
     "iopub.execute_input": "2024-08-06T07:02:16.094717Z",
     "iopub.status.busy": "2024-08-06T07:02:16.094212Z",
     "iopub.status.idle": "2024-08-06T07:02:16.107346Z",
     "shell.execute_reply": "2024-08-06T07:02:16.106023Z"
    },
    "papermill": {
     "duration": 0.028702,
     "end_time": "2024-08-06T07:02:16.110115",
     "exception": false,
     "start_time": "2024-08-06T07:02:16.081413",
     "status": "completed"
    },
    "tags": []
   },
   "outputs": [
    {
     "data": {
      "text/plain": [
       "PassengerId      0\n",
       "Survived         0\n",
       "Pclass           0\n",
       "Name             0\n",
       "Sex              0\n",
       "Age            177\n",
       "SibSp            0\n",
       "Parch            0\n",
       "Ticket           0\n",
       "Fare             0\n",
       "Cabin          687\n",
       "Embarked         2\n",
       "dtype: int64"
      ]
     },
     "execution_count": 5,
     "metadata": {},
     "output_type": "execute_result"
    }
   ],
   "source": [
    "# trainデータの欠損値確認\n",
    "train1.isnull().sum()"
   ]
  },
  {
   "cell_type": "code",
   "execution_count": 6,
   "id": "2e3e21eb",
   "metadata": {
    "execution": {
     "iopub.execute_input": "2024-08-06T07:02:16.135574Z",
     "iopub.status.busy": "2024-08-06T07:02:16.134758Z",
     "iopub.status.idle": "2024-08-06T07:02:16.149444Z",
     "shell.execute_reply": "2024-08-06T07:02:16.148022Z"
    },
    "papermill": {
     "duration": 0.030309,
     "end_time": "2024-08-06T07:02:16.152109",
     "exception": false,
     "start_time": "2024-08-06T07:02:16.121800",
     "status": "completed"
    },
    "tags": []
   },
   "outputs": [],
   "source": [
    "train1[\"Age\"] = train1[\"Age\"].fillna(train1[\"Age\"].mode()[0])\n",
    "train1[\"Cabin\"] = train1[\"Cabin\"].fillna(train1[\"Cabin\"].mode()[0])\n",
    "train1[\"Embarked\"] = train1[\"Embarked\"].fillna(train1[\"Embarked\"].mode()[0])"
   ]
  },
  {
   "cell_type": "code",
   "execution_count": 7,
   "id": "44bed144",
   "metadata": {
    "execution": {
     "iopub.execute_input": "2024-08-06T07:02:16.177933Z",
     "iopub.status.busy": "2024-08-06T07:02:16.177488Z",
     "iopub.status.idle": "2024-08-06T07:02:16.188609Z",
     "shell.execute_reply": "2024-08-06T07:02:16.187312Z"
    },
    "papermill": {
     "duration": 0.027218,
     "end_time": "2024-08-06T07:02:16.191134",
     "exception": false,
     "start_time": "2024-08-06T07:02:16.163916",
     "status": "completed"
    },
    "tags": []
   },
   "outputs": [
    {
     "data": {
      "text/plain": [
       "PassengerId    0\n",
       "Survived       0\n",
       "Pclass         0\n",
       "Name           0\n",
       "Sex            0\n",
       "Age            0\n",
       "SibSp          0\n",
       "Parch          0\n",
       "Ticket         0\n",
       "Fare           0\n",
       "Cabin          0\n",
       "Embarked       0\n",
       "dtype: int64"
      ]
     },
     "execution_count": 7,
     "metadata": {},
     "output_type": "execute_result"
    }
   ],
   "source": [
    "train1.isnull().sum()"
   ]
  },
  {
   "cell_type": "code",
   "execution_count": 8,
   "id": "31e992f7",
   "metadata": {
    "execution": {
     "iopub.execute_input": "2024-08-06T07:02:16.217291Z",
     "iopub.status.busy": "2024-08-06T07:02:16.216875Z",
     "iopub.status.idle": "2024-08-06T07:02:16.227271Z",
     "shell.execute_reply": "2024-08-06T07:02:16.225844Z"
    },
    "papermill": {
     "duration": 0.027054,
     "end_time": "2024-08-06T07:02:16.230139",
     "exception": false,
     "start_time": "2024-08-06T07:02:16.203085",
     "status": "completed"
    },
    "tags": []
   },
   "outputs": [
    {
     "data": {
      "text/plain": [
       "PassengerId      0\n",
       "Pclass           0\n",
       "Name             0\n",
       "Sex              0\n",
       "Age             86\n",
       "SibSp            0\n",
       "Parch            0\n",
       "Ticket           0\n",
       "Fare             1\n",
       "Cabin          327\n",
       "Embarked         0\n",
       "dtype: int64"
      ]
     },
     "execution_count": 8,
     "metadata": {},
     "output_type": "execute_result"
    }
   ],
   "source": [
    "# testデータの欠損値\n",
    "test1.isnull().sum()"
   ]
  },
  {
   "cell_type": "code",
   "execution_count": 9,
   "id": "2fe55373",
   "metadata": {
    "execution": {
     "iopub.execute_input": "2024-08-06T07:02:16.257674Z",
     "iopub.status.busy": "2024-08-06T07:02:16.257192Z",
     "iopub.status.idle": "2024-08-06T07:02:16.267808Z",
     "shell.execute_reply": "2024-08-06T07:02:16.266388Z"
    },
    "papermill": {
     "duration": 0.028276,
     "end_time": "2024-08-06T07:02:16.270535",
     "exception": false,
     "start_time": "2024-08-06T07:02:16.242259",
     "status": "completed"
    },
    "tags": []
   },
   "outputs": [],
   "source": [
    "test1[\"Age\"] = test1[\"Age\"].fillna(test1[\"Age\"].mode()[0])\n",
    "test1[\"Cabin\"] = test1[\"Cabin\"].fillna(test1[\"Cabin\"].mode()[0])\n",
    "test1[\"Fare\"] = test1[\"Fare\"].fillna(test1[\"Fare\"].mode()[0])"
   ]
  },
  {
   "cell_type": "code",
   "execution_count": 10,
   "id": "d0f471b4",
   "metadata": {
    "execution": {
     "iopub.execute_input": "2024-08-06T07:02:16.297107Z",
     "iopub.status.busy": "2024-08-06T07:02:16.296689Z",
     "iopub.status.idle": "2024-08-06T07:02:16.307274Z",
     "shell.execute_reply": "2024-08-06T07:02:16.306021Z"
    },
    "papermill": {
     "duration": 0.027289,
     "end_time": "2024-08-06T07:02:16.310315",
     "exception": false,
     "start_time": "2024-08-06T07:02:16.283026",
     "status": "completed"
    },
    "tags": []
   },
   "outputs": [
    {
     "data": {
      "text/plain": [
       "PassengerId    0\n",
       "Pclass         0\n",
       "Name           0\n",
       "Sex            0\n",
       "Age            0\n",
       "SibSp          0\n",
       "Parch          0\n",
       "Ticket         0\n",
       "Fare           0\n",
       "Cabin          0\n",
       "Embarked       0\n",
       "dtype: int64"
      ]
     },
     "execution_count": 10,
     "metadata": {},
     "output_type": "execute_result"
    }
   ],
   "source": [
    "test1.isnull().sum()"
   ]
  },
  {
   "cell_type": "code",
   "execution_count": 11,
   "id": "e3c7cb3b",
   "metadata": {
    "execution": {
     "iopub.execute_input": "2024-08-06T07:02:16.337979Z",
     "iopub.status.busy": "2024-08-06T07:02:16.337551Z",
     "iopub.status.idle": "2024-08-06T07:02:16.363564Z",
     "shell.execute_reply": "2024-08-06T07:02:16.362125Z"
    },
    "papermill": {
     "duration": 0.043588,
     "end_time": "2024-08-06T07:02:16.366673",
     "exception": false,
     "start_time": "2024-08-06T07:02:16.323085",
     "status": "completed"
    },
    "tags": []
   },
   "outputs": [],
   "source": [
    "# 文字列をダミー変数に\n",
    "train1 = pd.get_dummies(train1, columns=['Sex', 'Embarked'])\n",
    "test1 = pd.get_dummies(test1, columns=['Sex', 'Embarked'])"
   ]
  },
  {
   "cell_type": "code",
   "execution_count": 12,
   "id": "8d0a9008",
   "metadata": {
    "execution": {
     "iopub.execute_input": "2024-08-06T07:02:16.393151Z",
     "iopub.status.busy": "2024-08-06T07:02:16.392755Z",
     "iopub.status.idle": "2024-08-06T07:02:16.416830Z",
     "shell.execute_reply": "2024-08-06T07:02:16.415450Z"
    },
    "papermill": {
     "duration": 0.040538,
     "end_time": "2024-08-06T07:02:16.419724",
     "exception": false,
     "start_time": "2024-08-06T07:02:16.379186",
     "status": "completed"
    },
    "tags": []
   },
   "outputs": [
    {
     "data": {
      "text/html": [
       "<div>\n",
       "<style scoped>\n",
       "    .dataframe tbody tr th:only-of-type {\n",
       "        vertical-align: middle;\n",
       "    }\n",
       "\n",
       "    .dataframe tbody tr th {\n",
       "        vertical-align: top;\n",
       "    }\n",
       "\n",
       "    .dataframe thead th {\n",
       "        text-align: right;\n",
       "    }\n",
       "</style>\n",
       "<table border=\"1\" class=\"dataframe\">\n",
       "  <thead>\n",
       "    <tr style=\"text-align: right;\">\n",
       "      <th></th>\n",
       "      <th>PassengerId</th>\n",
       "      <th>Survived</th>\n",
       "      <th>Pclass</th>\n",
       "      <th>Name</th>\n",
       "      <th>Age</th>\n",
       "      <th>SibSp</th>\n",
       "      <th>Parch</th>\n",
       "      <th>Ticket</th>\n",
       "      <th>Fare</th>\n",
       "      <th>Cabin</th>\n",
       "      <th>Sex_female</th>\n",
       "      <th>Sex_male</th>\n",
       "      <th>Embarked_C</th>\n",
       "      <th>Embarked_Q</th>\n",
       "      <th>Embarked_S</th>\n",
       "    </tr>\n",
       "  </thead>\n",
       "  <tbody>\n",
       "    <tr>\n",
       "      <th>0</th>\n",
       "      <td>1</td>\n",
       "      <td>0</td>\n",
       "      <td>3</td>\n",
       "      <td>Braund, Mr. Owen Harris</td>\n",
       "      <td>22.0</td>\n",
       "      <td>1</td>\n",
       "      <td>0</td>\n",
       "      <td>A/5 21171</td>\n",
       "      <td>7.2500</td>\n",
       "      <td>B96 B98</td>\n",
       "      <td>False</td>\n",
       "      <td>True</td>\n",
       "      <td>False</td>\n",
       "      <td>False</td>\n",
       "      <td>True</td>\n",
       "    </tr>\n",
       "    <tr>\n",
       "      <th>1</th>\n",
       "      <td>2</td>\n",
       "      <td>1</td>\n",
       "      <td>1</td>\n",
       "      <td>Cumings, Mrs. John Bradley (Florence Briggs Th...</td>\n",
       "      <td>38.0</td>\n",
       "      <td>1</td>\n",
       "      <td>0</td>\n",
       "      <td>PC 17599</td>\n",
       "      <td>71.2833</td>\n",
       "      <td>C85</td>\n",
       "      <td>True</td>\n",
       "      <td>False</td>\n",
       "      <td>True</td>\n",
       "      <td>False</td>\n",
       "      <td>False</td>\n",
       "    </tr>\n",
       "    <tr>\n",
       "      <th>2</th>\n",
       "      <td>3</td>\n",
       "      <td>1</td>\n",
       "      <td>3</td>\n",
       "      <td>Heikkinen, Miss. Laina</td>\n",
       "      <td>26.0</td>\n",
       "      <td>0</td>\n",
       "      <td>0</td>\n",
       "      <td>STON/O2. 3101282</td>\n",
       "      <td>7.9250</td>\n",
       "      <td>B96 B98</td>\n",
       "      <td>True</td>\n",
       "      <td>False</td>\n",
       "      <td>False</td>\n",
       "      <td>False</td>\n",
       "      <td>True</td>\n",
       "    </tr>\n",
       "    <tr>\n",
       "      <th>3</th>\n",
       "      <td>4</td>\n",
       "      <td>1</td>\n",
       "      <td>1</td>\n",
       "      <td>Futrelle, Mrs. Jacques Heath (Lily May Peel)</td>\n",
       "      <td>35.0</td>\n",
       "      <td>1</td>\n",
       "      <td>0</td>\n",
       "      <td>113803</td>\n",
       "      <td>53.1000</td>\n",
       "      <td>C123</td>\n",
       "      <td>True</td>\n",
       "      <td>False</td>\n",
       "      <td>False</td>\n",
       "      <td>False</td>\n",
       "      <td>True</td>\n",
       "    </tr>\n",
       "    <tr>\n",
       "      <th>4</th>\n",
       "      <td>5</td>\n",
       "      <td>0</td>\n",
       "      <td>3</td>\n",
       "      <td>Allen, Mr. William Henry</td>\n",
       "      <td>35.0</td>\n",
       "      <td>0</td>\n",
       "      <td>0</td>\n",
       "      <td>373450</td>\n",
       "      <td>8.0500</td>\n",
       "      <td>B96 B98</td>\n",
       "      <td>False</td>\n",
       "      <td>True</td>\n",
       "      <td>False</td>\n",
       "      <td>False</td>\n",
       "      <td>True</td>\n",
       "    </tr>\n",
       "  </tbody>\n",
       "</table>\n",
       "</div>"
      ],
      "text/plain": [
       "   PassengerId  Survived  Pclass  \\\n",
       "0            1         0       3   \n",
       "1            2         1       1   \n",
       "2            3         1       3   \n",
       "3            4         1       1   \n",
       "4            5         0       3   \n",
       "\n",
       "                                                Name   Age  SibSp  Parch  \\\n",
       "0                            Braund, Mr. Owen Harris  22.0      1      0   \n",
       "1  Cumings, Mrs. John Bradley (Florence Briggs Th...  38.0      1      0   \n",
       "2                             Heikkinen, Miss. Laina  26.0      0      0   \n",
       "3       Futrelle, Mrs. Jacques Heath (Lily May Peel)  35.0      1      0   \n",
       "4                           Allen, Mr. William Henry  35.0      0      0   \n",
       "\n",
       "             Ticket     Fare    Cabin  Sex_female  Sex_male  Embarked_C  \\\n",
       "0         A/5 21171   7.2500  B96 B98       False      True       False   \n",
       "1          PC 17599  71.2833      C85        True     False        True   \n",
       "2  STON/O2. 3101282   7.9250  B96 B98        True     False       False   \n",
       "3            113803  53.1000     C123        True     False       False   \n",
       "4            373450   8.0500  B96 B98       False      True       False   \n",
       "\n",
       "   Embarked_Q  Embarked_S  \n",
       "0       False        True  \n",
       "1       False       False  \n",
       "2       False        True  \n",
       "3       False        True  \n",
       "4       False        True  "
      ]
     },
     "execution_count": 12,
     "metadata": {},
     "output_type": "execute_result"
    }
   ],
   "source": [
    "train1.head()"
   ]
  },
  {
   "cell_type": "markdown",
   "id": "8b9a5f32",
   "metadata": {
    "papermill": {
     "duration": 0.012776,
     "end_time": "2024-08-06T07:02:16.445737",
     "exception": false,
     "start_time": "2024-08-06T07:02:16.432961",
     "status": "completed"
    },
    "tags": []
   },
   "source": [
    "## 生存書予測"
   ]
  },
  {
   "cell_type": "code",
   "execution_count": 13,
   "id": "b5ea9272",
   "metadata": {
    "execution": {
     "iopub.execute_input": "2024-08-06T07:02:16.473089Z",
     "iopub.status.busy": "2024-08-06T07:02:16.472687Z",
     "iopub.status.idle": "2024-08-06T07:02:18.379920Z",
     "shell.execute_reply": "2024-08-06T07:02:18.378451Z"
    },
    "papermill": {
     "duration": 1.924175,
     "end_time": "2024-08-06T07:02:18.382972",
     "exception": false,
     "start_time": "2024-08-06T07:02:16.458797",
     "status": "completed"
    },
    "tags": []
   },
   "outputs": [],
   "source": [
    "from sklearn.neighbors import KNeighborsClassifier\n",
    "clf = KNeighborsClassifier(n_neighbors=1)\n",
    "\n",
    "X_train1 = train1[[\"Pclass\", \"Age\", \"SibSp\", \"Parch\", \"Fare\", \"Sex_female\", \"Sex_male\", \"Embarked_C\", \"Embarked_Q\", \"Embarked_S\"]]\n",
    "y_train1 = train1[\"Survived\"]\n",
    "\n",
    "X_test1 = test1[[\"Pclass\", \"Age\", \"SibSp\", \"Parch\", \"Fare\", \"Sex_female\", \"Sex_male\", \"Embarked_C\", \"Embarked_Q\", \"Embarked_S\"]]\n",
    "\n",
    "clf.fit(X_train1, y_train1)\n",
    "\n",
    "# t_test に予測結果を格納\n",
    "y_test1 = clf.predict(X_test1)"
   ]
  },
  {
   "cell_type": "code",
   "execution_count": 14,
   "id": "93a81883",
   "metadata": {
    "execution": {
     "iopub.execute_input": "2024-08-06T07:02:18.410699Z",
     "iopub.status.busy": "2024-08-06T07:02:18.410236Z",
     "iopub.status.idle": "2024-08-06T07:02:18.421415Z",
     "shell.execute_reply": "2024-08-06T07:02:18.420057Z"
    },
    "papermill": {
     "duration": 0.028686,
     "end_time": "2024-08-06T07:02:18.424665",
     "exception": false,
     "start_time": "2024-08-06T07:02:18.395979",
     "status": "completed"
    },
    "tags": []
   },
   "outputs": [],
   "source": [
    "# 回答ファイルの作成・エクスポート\n",
    "# PassengerId を取得\n",
    "PassengerId1 = np.array(test1[\"PassengerId\"]).astype(int)\n",
    "\n",
    "# y_test と PassengerId を結合\n",
    "answer1 = pd.DataFrame(y_test1, PassengerId1, columns = [\"Survived\"])\n",
    "\n",
    "# titanic_answer_01.csv としてエクスポート\n",
    "answer1.to_csv(\"titanic_answer_01.csv\", index_label = [\"PassengerId\"])"
   ]
  },
  {
   "cell_type": "code",
   "execution_count": 15,
   "id": "3f276b2e",
   "metadata": {
    "execution": {
     "iopub.execute_input": "2024-08-06T07:02:18.452585Z",
     "iopub.status.busy": "2024-08-06T07:02:18.452126Z",
     "iopub.status.idle": "2024-08-06T07:02:18.463886Z",
     "shell.execute_reply": "2024-08-06T07:02:18.462445Z"
    },
    "papermill": {
     "duration": 0.028742,
     "end_time": "2024-08-06T07:02:18.466608",
     "exception": false,
     "start_time": "2024-08-06T07:02:18.437866",
     "status": "completed"
    },
    "tags": []
   },
   "outputs": [
    {
     "data": {
      "text/html": [
       "<div>\n",
       "<style scoped>\n",
       "    .dataframe tbody tr th:only-of-type {\n",
       "        vertical-align: middle;\n",
       "    }\n",
       "\n",
       "    .dataframe tbody tr th {\n",
       "        vertical-align: top;\n",
       "    }\n",
       "\n",
       "    .dataframe thead th {\n",
       "        text-align: right;\n",
       "    }\n",
       "</style>\n",
       "<table border=\"1\" class=\"dataframe\">\n",
       "  <thead>\n",
       "    <tr style=\"text-align: right;\">\n",
       "      <th></th>\n",
       "      <th>Survived</th>\n",
       "    </tr>\n",
       "  </thead>\n",
       "  <tbody>\n",
       "    <tr>\n",
       "      <th>892</th>\n",
       "      <td>0</td>\n",
       "    </tr>\n",
       "    <tr>\n",
       "      <th>893</th>\n",
       "      <td>0</td>\n",
       "    </tr>\n",
       "    <tr>\n",
       "      <th>894</th>\n",
       "      <td>1</td>\n",
       "    </tr>\n",
       "    <tr>\n",
       "      <th>895</th>\n",
       "      <td>1</td>\n",
       "    </tr>\n",
       "    <tr>\n",
       "      <th>896</th>\n",
       "      <td>0</td>\n",
       "    </tr>\n",
       "  </tbody>\n",
       "</table>\n",
       "</div>"
      ],
      "text/plain": [
       "     Survived\n",
       "892         0\n",
       "893         0\n",
       "894         1\n",
       "895         1\n",
       "896         0"
      ]
     },
     "execution_count": 15,
     "metadata": {},
     "output_type": "execute_result"
    }
   ],
   "source": [
    "answer1.head()"
   ]
  },
  {
   "cell_type": "markdown",
   "id": "14f57c19",
   "metadata": {
    "papermill": {
     "duration": 0.013839,
     "end_time": "2024-08-06T07:02:18.493604",
     "exception": false,
     "start_time": "2024-08-06T07:02:18.479765",
     "status": "completed"
    },
    "tags": []
   },
   "source": [
    "# GBDT"
   ]
  },
  {
   "cell_type": "code",
   "execution_count": 16,
   "id": "0cb5155c",
   "metadata": {
    "execution": {
     "iopub.execute_input": "2024-08-06T07:02:18.521558Z",
     "iopub.status.busy": "2024-08-06T07:02:18.521121Z",
     "iopub.status.idle": "2024-08-06T07:02:18.531248Z",
     "shell.execute_reply": "2024-08-06T07:02:18.529786Z"
    },
    "papermill": {
     "duration": 0.027555,
     "end_time": "2024-08-06T07:02:18.534153",
     "exception": false,
     "start_time": "2024-08-06T07:02:18.506598",
     "status": "completed"
    },
    "tags": []
   },
   "outputs": [],
   "source": [
    "# データの取得\n",
    "train2 = train.copy()\n",
    "test2 = test.copy()\n",
    "\n",
    "# 目的変数と特徴量に分ける\n",
    "train2_x = train2.drop(['Survived'], axis=1)\n",
    "train2_y = train['Survived']\n",
    "\n",
    "# テストデータは特徴量のみ\n",
    "test2_x = test2.copy()"
   ]
  },
  {
   "cell_type": "code",
   "execution_count": 17,
   "id": "10f04396",
   "metadata": {
    "execution": {
     "iopub.execute_input": "2024-08-06T07:02:18.561985Z",
     "iopub.status.busy": "2024-08-06T07:02:18.561569Z",
     "iopub.status.idle": "2024-08-06T07:02:18.580884Z",
     "shell.execute_reply": "2024-08-06T07:02:18.579373Z"
    },
    "papermill": {
     "duration": 0.036371,
     "end_time": "2024-08-06T07:02:18.583483",
     "exception": false,
     "start_time": "2024-08-06T07:02:18.547112",
     "status": "completed"
    },
    "tags": []
   },
   "outputs": [
    {
     "data": {
      "text/html": [
       "<div>\n",
       "<style scoped>\n",
       "    .dataframe tbody tr th:only-of-type {\n",
       "        vertical-align: middle;\n",
       "    }\n",
       "\n",
       "    .dataframe tbody tr th {\n",
       "        vertical-align: top;\n",
       "    }\n",
       "\n",
       "    .dataframe thead th {\n",
       "        text-align: right;\n",
       "    }\n",
       "</style>\n",
       "<table border=\"1\" class=\"dataframe\">\n",
       "  <thead>\n",
       "    <tr style=\"text-align: right;\">\n",
       "      <th></th>\n",
       "      <th>PassengerId</th>\n",
       "      <th>Survived</th>\n",
       "      <th>Pclass</th>\n",
       "      <th>Name</th>\n",
       "      <th>Sex</th>\n",
       "      <th>Age</th>\n",
       "      <th>SibSp</th>\n",
       "      <th>Parch</th>\n",
       "      <th>Ticket</th>\n",
       "      <th>Fare</th>\n",
       "      <th>Cabin</th>\n",
       "      <th>Embarked</th>\n",
       "    </tr>\n",
       "  </thead>\n",
       "  <tbody>\n",
       "    <tr>\n",
       "      <th>0</th>\n",
       "      <td>1</td>\n",
       "      <td>0</td>\n",
       "      <td>3</td>\n",
       "      <td>Braund, Mr. Owen Harris</td>\n",
       "      <td>male</td>\n",
       "      <td>22.0</td>\n",
       "      <td>1</td>\n",
       "      <td>0</td>\n",
       "      <td>A/5 21171</td>\n",
       "      <td>7.2500</td>\n",
       "      <td>NaN</td>\n",
       "      <td>S</td>\n",
       "    </tr>\n",
       "    <tr>\n",
       "      <th>1</th>\n",
       "      <td>2</td>\n",
       "      <td>1</td>\n",
       "      <td>1</td>\n",
       "      <td>Cumings, Mrs. John Bradley (Florence Briggs Th...</td>\n",
       "      <td>female</td>\n",
       "      <td>38.0</td>\n",
       "      <td>1</td>\n",
       "      <td>0</td>\n",
       "      <td>PC 17599</td>\n",
       "      <td>71.2833</td>\n",
       "      <td>C85</td>\n",
       "      <td>C</td>\n",
       "    </tr>\n",
       "    <tr>\n",
       "      <th>2</th>\n",
       "      <td>3</td>\n",
       "      <td>1</td>\n",
       "      <td>3</td>\n",
       "      <td>Heikkinen, Miss. Laina</td>\n",
       "      <td>female</td>\n",
       "      <td>26.0</td>\n",
       "      <td>0</td>\n",
       "      <td>0</td>\n",
       "      <td>STON/O2. 3101282</td>\n",
       "      <td>7.9250</td>\n",
       "      <td>NaN</td>\n",
       "      <td>S</td>\n",
       "    </tr>\n",
       "    <tr>\n",
       "      <th>3</th>\n",
       "      <td>4</td>\n",
       "      <td>1</td>\n",
       "      <td>1</td>\n",
       "      <td>Futrelle, Mrs. Jacques Heath (Lily May Peel)</td>\n",
       "      <td>female</td>\n",
       "      <td>35.0</td>\n",
       "      <td>1</td>\n",
       "      <td>0</td>\n",
       "      <td>113803</td>\n",
       "      <td>53.1000</td>\n",
       "      <td>C123</td>\n",
       "      <td>S</td>\n",
       "    </tr>\n",
       "    <tr>\n",
       "      <th>4</th>\n",
       "      <td>5</td>\n",
       "      <td>0</td>\n",
       "      <td>3</td>\n",
       "      <td>Allen, Mr. William Henry</td>\n",
       "      <td>male</td>\n",
       "      <td>35.0</td>\n",
       "      <td>0</td>\n",
       "      <td>0</td>\n",
       "      <td>373450</td>\n",
       "      <td>8.0500</td>\n",
       "      <td>NaN</td>\n",
       "      <td>S</td>\n",
       "    </tr>\n",
       "  </tbody>\n",
       "</table>\n",
       "</div>"
      ],
      "text/plain": [
       "   PassengerId  Survived  Pclass  \\\n",
       "0            1         0       3   \n",
       "1            2         1       1   \n",
       "2            3         1       3   \n",
       "3            4         1       1   \n",
       "4            5         0       3   \n",
       "\n",
       "                                                Name     Sex   Age  SibSp  \\\n",
       "0                            Braund, Mr. Owen Harris    male  22.0      1   \n",
       "1  Cumings, Mrs. John Bradley (Florence Briggs Th...  female  38.0      1   \n",
       "2                             Heikkinen, Miss. Laina  female  26.0      0   \n",
       "3       Futrelle, Mrs. Jacques Heath (Lily May Peel)  female  35.0      1   \n",
       "4                           Allen, Mr. William Henry    male  35.0      0   \n",
       "\n",
       "   Parch            Ticket     Fare Cabin Embarked  \n",
       "0      0         A/5 21171   7.2500   NaN        S  \n",
       "1      0          PC 17599  71.2833   C85        C  \n",
       "2      0  STON/O2. 3101282   7.9250   NaN        S  \n",
       "3      0            113803  53.1000  C123        S  \n",
       "4      0            373450   8.0500   NaN        S  "
      ]
     },
     "execution_count": 17,
     "metadata": {},
     "output_type": "execute_result"
    }
   ],
   "source": [
    "train2.head()"
   ]
  },
  {
   "cell_type": "markdown",
   "id": "3b3cbb0d",
   "metadata": {
    "papermill": {
     "duration": 0.012876,
     "end_time": "2024-08-06T07:02:18.609731",
     "exception": false,
     "start_time": "2024-08-06T07:02:18.596855",
     "status": "completed"
    },
    "tags": []
   },
   "source": [
    "## 特徴量の作成"
   ]
  },
  {
   "cell_type": "code",
   "execution_count": 18,
   "id": "45148876",
   "metadata": {
    "execution": {
     "iopub.execute_input": "2024-08-06T07:02:18.637887Z",
     "iopub.status.busy": "2024-08-06T07:02:18.637434Z",
     "iopub.status.idle": "2024-08-06T07:02:18.645852Z",
     "shell.execute_reply": "2024-08-06T07:02:18.644478Z"
    },
    "papermill": {
     "duration": 0.025461,
     "end_time": "2024-08-06T07:02:18.648480",
     "exception": false,
     "start_time": "2024-08-06T07:02:18.623019",
     "status": "completed"
    },
    "tags": []
   },
   "outputs": [],
   "source": [
    "from sklearn.preprocessing import LabelEncoder\n",
    "\n",
    "# 変数PassegerIdを取得する\n",
    "train2_x = train2_x.drop(['PassengerId'], axis=1)\n",
    "test2_x = test2_x.drop(['PassengerId'], axis=1)"
   ]
  },
  {
   "cell_type": "code",
   "execution_count": 19,
   "id": "c74bc97b",
   "metadata": {
    "execution": {
     "iopub.execute_input": "2024-08-06T07:02:18.676933Z",
     "iopub.status.busy": "2024-08-06T07:02:18.676478Z",
     "iopub.status.idle": "2024-08-06T07:02:18.767982Z",
     "shell.execute_reply": "2024-08-06T07:02:18.764863Z"
    },
    "papermill": {
     "duration": 0.109081,
     "end_time": "2024-08-06T07:02:18.770766",
     "exception": false,
     "start_time": "2024-08-06T07:02:18.661685",
     "status": "completed"
    },
    "tags": []
   },
   "outputs": [],
   "source": [
    "# 変数Name, Ticket, Cabinを除外する\n",
    "train2_x = train2_x.drop(['Name', 'Ticket', 'Cabin'], axis=1)\n",
    "test2_x = test2_x.drop(['Name', 'Ticket', 'Cabin'], axis=1)"
   ]
  },
  {
   "cell_type": "code",
   "execution_count": 20,
   "id": "47fc40ff",
   "metadata": {
    "execution": {
     "iopub.execute_input": "2024-08-06T07:02:18.799770Z",
     "iopub.status.busy": "2024-08-06T07:02:18.799347Z",
     "iopub.status.idle": "2024-08-06T07:02:18.813053Z",
     "shell.execute_reply": "2024-08-06T07:02:18.811986Z"
    },
    "papermill": {
     "duration": 0.031516,
     "end_time": "2024-08-06T07:02:18.815847",
     "exception": false,
     "start_time": "2024-08-06T07:02:18.784331",
     "status": "completed"
    },
    "tags": []
   },
   "outputs": [],
   "source": [
    "# それぞれのカテゴリ変数にlabel encordingを適用する\n",
    "for c in ['Sex', 'Embarked']:\n",
    "    le = LabelEncoder()\n",
    "    le.fit(train2_x[c].fillna('NA'))\n",
    "    \n",
    "    # 学習データ、テストデータを変換する\n",
    "    train2_x[c] = le.transform(train2_x[c].fillna('NA'))\n",
    "    test2_x[c] = le.transform(test2_x[c].fillna('NA'))"
   ]
  },
  {
   "cell_type": "markdown",
   "id": "a97a0a64",
   "metadata": {
    "papermill": {
     "duration": 0.013251,
     "end_time": "2024-08-06T07:02:18.842328",
     "exception": false,
     "start_time": "2024-08-06T07:02:18.829077",
     "status": "completed"
    },
    "tags": []
   },
   "source": [
    "## モデルの作成\n",
    "今回は、GBDTの中でもよく使用されるxgboostを使用する"
   ]
  },
  {
   "cell_type": "code",
   "execution_count": 21,
   "id": "319150f3",
   "metadata": {
    "execution": {
     "iopub.execute_input": "2024-08-06T07:02:18.872425Z",
     "iopub.status.busy": "2024-08-06T07:02:18.871999Z",
     "iopub.status.idle": "2024-08-06T07:02:19.203687Z",
     "shell.execute_reply": "2024-08-06T07:02:19.202017Z"
    },
    "papermill": {
     "duration": 0.350539,
     "end_time": "2024-08-06T07:02:19.206900",
     "exception": false,
     "start_time": "2024-08-06T07:02:18.856361",
     "status": "completed"
    },
    "tags": []
   },
   "outputs": [
    {
     "data": {
      "text/html": [
       "<style>#sk-container-id-1 {color: black;background-color: white;}#sk-container-id-1 pre{padding: 0;}#sk-container-id-1 div.sk-toggleable {background-color: white;}#sk-container-id-1 label.sk-toggleable__label {cursor: pointer;display: block;width: 100%;margin-bottom: 0;padding: 0.3em;box-sizing: border-box;text-align: center;}#sk-container-id-1 label.sk-toggleable__label-arrow:before {content: \"▸\";float: left;margin-right: 0.25em;color: #696969;}#sk-container-id-1 label.sk-toggleable__label-arrow:hover:before {color: black;}#sk-container-id-1 div.sk-estimator:hover label.sk-toggleable__label-arrow:before {color: black;}#sk-container-id-1 div.sk-toggleable__content {max-height: 0;max-width: 0;overflow: hidden;text-align: left;background-color: #f0f8ff;}#sk-container-id-1 div.sk-toggleable__content pre {margin: 0.2em;color: black;border-radius: 0.25em;background-color: #f0f8ff;}#sk-container-id-1 input.sk-toggleable__control:checked~div.sk-toggleable__content {max-height: 200px;max-width: 100%;overflow: auto;}#sk-container-id-1 input.sk-toggleable__control:checked~label.sk-toggleable__label-arrow:before {content: \"▾\";}#sk-container-id-1 div.sk-estimator input.sk-toggleable__control:checked~label.sk-toggleable__label {background-color: #d4ebff;}#sk-container-id-1 div.sk-label input.sk-toggleable__control:checked~label.sk-toggleable__label {background-color: #d4ebff;}#sk-container-id-1 input.sk-hidden--visually {border: 0;clip: rect(1px 1px 1px 1px);clip: rect(1px, 1px, 1px, 1px);height: 1px;margin: -1px;overflow: hidden;padding: 0;position: absolute;width: 1px;}#sk-container-id-1 div.sk-estimator {font-family: monospace;background-color: #f0f8ff;border: 1px dotted black;border-radius: 0.25em;box-sizing: border-box;margin-bottom: 0.5em;}#sk-container-id-1 div.sk-estimator:hover {background-color: #d4ebff;}#sk-container-id-1 div.sk-parallel-item::after {content: \"\";width: 100%;border-bottom: 1px solid gray;flex-grow: 1;}#sk-container-id-1 div.sk-label:hover label.sk-toggleable__label {background-color: #d4ebff;}#sk-container-id-1 div.sk-serial::before {content: \"\";position: absolute;border-left: 1px solid gray;box-sizing: border-box;top: 0;bottom: 0;left: 50%;z-index: 0;}#sk-container-id-1 div.sk-serial {display: flex;flex-direction: column;align-items: center;background-color: white;padding-right: 0.2em;padding-left: 0.2em;position: relative;}#sk-container-id-1 div.sk-item {position: relative;z-index: 1;}#sk-container-id-1 div.sk-parallel {display: flex;align-items: stretch;justify-content: center;background-color: white;position: relative;}#sk-container-id-1 div.sk-item::before, #sk-container-id-1 div.sk-parallel-item::before {content: \"\";position: absolute;border-left: 1px solid gray;box-sizing: border-box;top: 0;bottom: 0;left: 50%;z-index: -1;}#sk-container-id-1 div.sk-parallel-item {display: flex;flex-direction: column;z-index: 1;position: relative;background-color: white;}#sk-container-id-1 div.sk-parallel-item:first-child::after {align-self: flex-end;width: 50%;}#sk-container-id-1 div.sk-parallel-item:last-child::after {align-self: flex-start;width: 50%;}#sk-container-id-1 div.sk-parallel-item:only-child::after {width: 0;}#sk-container-id-1 div.sk-dashed-wrapped {border: 1px dashed gray;margin: 0 0.4em 0.5em 0.4em;box-sizing: border-box;padding-bottom: 0.4em;background-color: white;}#sk-container-id-1 div.sk-label label {font-family: monospace;font-weight: bold;display: inline-block;line-height: 1.2em;}#sk-container-id-1 div.sk-label-container {text-align: center;}#sk-container-id-1 div.sk-container {/* jupyter's `normalize.less` sets `[hidden] { display: none; }` but bootstrap.min.css set `[hidden] { display: none !important; }` so we also need the `!important` here to be able to override the default hidden behavior on the sphinx rendered scikit-learn.org. See: https://github.com/scikit-learn/scikit-learn/issues/21755 */display: inline-block !important;position: relative;}#sk-container-id-1 div.sk-text-repr-fallback {display: none;}</style><div id=\"sk-container-id-1\" class=\"sk-top-container\"><div class=\"sk-text-repr-fallback\"><pre>XGBClassifier(base_score=None, booster=None, callbacks=None,\n",
       "              colsample_bylevel=None, colsample_bynode=None,\n",
       "              colsample_bytree=None, device=None, early_stopping_rounds=None,\n",
       "              enable_categorical=False, eval_metric=None, feature_types=None,\n",
       "              gamma=None, grow_policy=None, importance_type=None,\n",
       "              interaction_constraints=None, learning_rate=None, max_bin=None,\n",
       "              max_cat_threshold=None, max_cat_to_onehot=None,\n",
       "              max_delta_step=None, max_depth=None, max_leaves=None,\n",
       "              min_child_weight=None, missing=nan, monotone_constraints=None,\n",
       "              multi_strategy=None, n_estimators=20, n_jobs=None,\n",
       "              num_parallel_tree=None, random_state=71, ...)</pre><b>In a Jupyter environment, please rerun this cell to show the HTML representation or trust the notebook. <br />On GitHub, the HTML representation is unable to render, please try loading this page with nbviewer.org.</b></div><div class=\"sk-container\" hidden><div class=\"sk-item\"><div class=\"sk-estimator sk-toggleable\"><input class=\"sk-toggleable__control sk-hidden--visually\" id=\"sk-estimator-id-1\" type=\"checkbox\" checked><label for=\"sk-estimator-id-1\" class=\"sk-toggleable__label sk-toggleable__label-arrow\">XGBClassifier</label><div class=\"sk-toggleable__content\"><pre>XGBClassifier(base_score=None, booster=None, callbacks=None,\n",
       "              colsample_bylevel=None, colsample_bynode=None,\n",
       "              colsample_bytree=None, device=None, early_stopping_rounds=None,\n",
       "              enable_categorical=False, eval_metric=None, feature_types=None,\n",
       "              gamma=None, grow_policy=None, importance_type=None,\n",
       "              interaction_constraints=None, learning_rate=None, max_bin=None,\n",
       "              max_cat_threshold=None, max_cat_to_onehot=None,\n",
       "              max_delta_step=None, max_depth=None, max_leaves=None,\n",
       "              min_child_weight=None, missing=nan, monotone_constraints=None,\n",
       "              multi_strategy=None, n_estimators=20, n_jobs=None,\n",
       "              num_parallel_tree=None, random_state=71, ...)</pre></div></div></div></div></div>"
      ],
      "text/plain": [
       "XGBClassifier(base_score=None, booster=None, callbacks=None,\n",
       "              colsample_bylevel=None, colsample_bynode=None,\n",
       "              colsample_bytree=None, device=None, early_stopping_rounds=None,\n",
       "              enable_categorical=False, eval_metric=None, feature_types=None,\n",
       "              gamma=None, grow_policy=None, importance_type=None,\n",
       "              interaction_constraints=None, learning_rate=None, max_bin=None,\n",
       "              max_cat_threshold=None, max_cat_to_onehot=None,\n",
       "              max_delta_step=None, max_depth=None, max_leaves=None,\n",
       "              min_child_weight=None, missing=nan, monotone_constraints=None,\n",
       "              multi_strategy=None, n_estimators=20, n_jobs=None,\n",
       "              num_parallel_tree=None, random_state=71, ...)"
      ]
     },
     "execution_count": 21,
     "metadata": {},
     "output_type": "execute_result"
    }
   ],
   "source": [
    "from xgboost import XGBClassifier\n",
    "\n",
    "# モデルの作成および学習データを与えて学習\n",
    "model = XGBClassifier(n_estimators=20, random_state=71)\n",
    "model.fit(train2_x, train2_y)"
   ]
  },
  {
   "cell_type": "code",
   "execution_count": 22,
   "id": "94d4eb57",
   "metadata": {
    "execution": {
     "iopub.execute_input": "2024-08-06T07:02:19.237291Z",
     "iopub.status.busy": "2024-08-06T07:02:19.236837Z",
     "iopub.status.idle": "2024-08-06T07:02:19.248833Z",
     "shell.execute_reply": "2024-08-06T07:02:19.247601Z"
    },
    "papermill": {
     "duration": 0.030972,
     "end_time": "2024-08-06T07:02:19.251912",
     "exception": false,
     "start_time": "2024-08-06T07:02:19.220940",
     "status": "completed"
    },
    "tags": []
   },
   "outputs": [],
   "source": [
    "# テストデータの予測値を確率で出力する\n",
    "pred = model.predict_proba(test2_x)[:,1]"
   ]
  },
  {
   "cell_type": "code",
   "execution_count": 23,
   "id": "8cad7f56",
   "metadata": {
    "execution": {
     "iopub.execute_input": "2024-08-06T07:02:19.281030Z",
     "iopub.status.busy": "2024-08-06T07:02:19.280631Z",
     "iopub.status.idle": "2024-08-06T07:02:19.287196Z",
     "shell.execute_reply": "2024-08-06T07:02:19.285760Z"
    },
    "papermill": {
     "duration": 0.02425,
     "end_time": "2024-08-06T07:02:19.289887",
     "exception": false,
     "start_time": "2024-08-06T07:02:19.265637",
     "status": "completed"
    },
    "tags": []
   },
   "outputs": [],
   "source": [
    "# テストデータの予測値を二値に変換する\n",
    "pred_label = np.where(pred>0.5,1,0)"
   ]
  },
  {
   "cell_type": "code",
   "execution_count": 24,
   "id": "0d5c0d7a",
   "metadata": {
    "execution": {
     "iopub.execute_input": "2024-08-06T07:02:19.320087Z",
     "iopub.status.busy": "2024-08-06T07:02:19.319665Z",
     "iopub.status.idle": "2024-08-06T07:02:19.329626Z",
     "shell.execute_reply": "2024-08-06T07:02:19.328168Z"
    },
    "papermill": {
     "duration": 0.027975,
     "end_time": "2024-08-06T07:02:19.332326",
     "exception": false,
     "start_time": "2024-08-06T07:02:19.304351",
     "status": "completed"
    },
    "tags": []
   },
   "outputs": [],
   "source": [
    "# 提出用のファイルの作成\n",
    "submission = pd.DataFrame({'PassenderId':test['PassengerId'], 'Survived':pred_label})\n",
    "submission.to_csv('titanic_answer_02.csv', index=False)"
   ]
  },
  {
   "cell_type": "markdown",
   "id": "b648d4bc",
   "metadata": {
    "papermill": {
     "duration": 0.013626,
     "end_time": "2024-08-06T07:02:19.360082",
     "exception": false,
     "start_time": "2024-08-06T07:02:19.346456",
     "status": "completed"
    },
    "tags": []
   },
   "source": [
    "# 提出用ファイルの確認"
   ]
  },
  {
   "cell_type": "code",
   "execution_count": 25,
   "id": "31ee8521",
   "metadata": {
    "execution": {
     "iopub.execute_input": "2024-08-06T07:02:19.390085Z",
     "iopub.status.busy": "2024-08-06T07:02:19.389671Z",
     "iopub.status.idle": "2024-08-06T07:02:19.405316Z",
     "shell.execute_reply": "2024-08-06T07:02:19.404089Z"
    },
    "papermill": {
     "duration": 0.033827,
     "end_time": "2024-08-06T07:02:19.408192",
     "exception": false,
     "start_time": "2024-08-06T07:02:19.374365",
     "status": "completed"
    },
    "tags": []
   },
   "outputs": [
    {
     "data": {
      "text/html": [
       "<div>\n",
       "<style scoped>\n",
       "    .dataframe tbody tr th:only-of-type {\n",
       "        vertical-align: middle;\n",
       "    }\n",
       "\n",
       "    .dataframe tbody tr th {\n",
       "        vertical-align: top;\n",
       "    }\n",
       "\n",
       "    .dataframe thead th {\n",
       "        text-align: right;\n",
       "    }\n",
       "</style>\n",
       "<table border=\"1\" class=\"dataframe\">\n",
       "  <thead>\n",
       "    <tr style=\"text-align: right;\">\n",
       "      <th></th>\n",
       "      <th>PassengerId</th>\n",
       "      <th>Survived</th>\n",
       "    </tr>\n",
       "  </thead>\n",
       "  <tbody>\n",
       "    <tr>\n",
       "      <th>0</th>\n",
       "      <td>892</td>\n",
       "      <td>0</td>\n",
       "    </tr>\n",
       "    <tr>\n",
       "      <th>1</th>\n",
       "      <td>893</td>\n",
       "      <td>1</td>\n",
       "    </tr>\n",
       "    <tr>\n",
       "      <th>2</th>\n",
       "      <td>894</td>\n",
       "      <td>0</td>\n",
       "    </tr>\n",
       "    <tr>\n",
       "      <th>3</th>\n",
       "      <td>895</td>\n",
       "      <td>0</td>\n",
       "    </tr>\n",
       "    <tr>\n",
       "      <th>4</th>\n",
       "      <td>896</td>\n",
       "      <td>1</td>\n",
       "    </tr>\n",
       "  </tbody>\n",
       "</table>\n",
       "</div>"
      ],
      "text/plain": [
       "   PassengerId  Survived\n",
       "0          892         0\n",
       "1          893         1\n",
       "2          894         0\n",
       "3          895         0\n",
       "4          896         1"
      ]
     },
     "execution_count": 25,
     "metadata": {},
     "output_type": "execute_result"
    }
   ],
   "source": [
    "gender_submission = pd.read_csv(\"/kaggle/input/titanic/gender_submission.csv\")\n",
    "gender_submission.head()"
   ]
  },
  {
   "cell_type": "code",
   "execution_count": 26,
   "id": "47e93154",
   "metadata": {
    "execution": {
     "iopub.execute_input": "2024-08-06T07:02:19.438028Z",
     "iopub.status.busy": "2024-08-06T07:02:19.437620Z",
     "iopub.status.idle": "2024-08-06T07:02:19.448204Z",
     "shell.execute_reply": "2024-08-06T07:02:19.446858Z"
    },
    "papermill": {
     "duration": 0.028587,
     "end_time": "2024-08-06T07:02:19.451132",
     "exception": false,
     "start_time": "2024-08-06T07:02:19.422545",
     "status": "completed"
    },
    "tags": []
   },
   "outputs": [
    {
     "data": {
      "text/html": [
       "<div>\n",
       "<style scoped>\n",
       "    .dataframe tbody tr th:only-of-type {\n",
       "        vertical-align: middle;\n",
       "    }\n",
       "\n",
       "    .dataframe tbody tr th {\n",
       "        vertical-align: top;\n",
       "    }\n",
       "\n",
       "    .dataframe thead th {\n",
       "        text-align: right;\n",
       "    }\n",
       "</style>\n",
       "<table border=\"1\" class=\"dataframe\">\n",
       "  <thead>\n",
       "    <tr style=\"text-align: right;\">\n",
       "      <th></th>\n",
       "      <th>Survived</th>\n",
       "    </tr>\n",
       "  </thead>\n",
       "  <tbody>\n",
       "    <tr>\n",
       "      <th>892</th>\n",
       "      <td>0</td>\n",
       "    </tr>\n",
       "    <tr>\n",
       "      <th>893</th>\n",
       "      <td>0</td>\n",
       "    </tr>\n",
       "    <tr>\n",
       "      <th>894</th>\n",
       "      <td>1</td>\n",
       "    </tr>\n",
       "    <tr>\n",
       "      <th>895</th>\n",
       "      <td>1</td>\n",
       "    </tr>\n",
       "    <tr>\n",
       "      <th>896</th>\n",
       "      <td>0</td>\n",
       "    </tr>\n",
       "  </tbody>\n",
       "</table>\n",
       "</div>"
      ],
      "text/plain": [
       "     Survived\n",
       "892         0\n",
       "893         0\n",
       "894         1\n",
       "895         1\n",
       "896         0"
      ]
     },
     "execution_count": 26,
     "metadata": {},
     "output_type": "execute_result"
    }
   ],
   "source": [
    "answer1.head()"
   ]
  },
  {
   "cell_type": "code",
   "execution_count": 27,
   "id": "2ca33f11",
   "metadata": {
    "execution": {
     "iopub.execute_input": "2024-08-06T07:02:19.481549Z",
     "iopub.status.busy": "2024-08-06T07:02:19.481106Z",
     "iopub.status.idle": "2024-08-06T07:02:19.491777Z",
     "shell.execute_reply": "2024-08-06T07:02:19.490460Z"
    },
    "papermill": {
     "duration": 0.029738,
     "end_time": "2024-08-06T07:02:19.495122",
     "exception": false,
     "start_time": "2024-08-06T07:02:19.465384",
     "status": "completed"
    },
    "tags": []
   },
   "outputs": [
    {
     "data": {
      "text/html": [
       "<div>\n",
       "<style scoped>\n",
       "    .dataframe tbody tr th:only-of-type {\n",
       "        vertical-align: middle;\n",
       "    }\n",
       "\n",
       "    .dataframe tbody tr th {\n",
       "        vertical-align: top;\n",
       "    }\n",
       "\n",
       "    .dataframe thead th {\n",
       "        text-align: right;\n",
       "    }\n",
       "</style>\n",
       "<table border=\"1\" class=\"dataframe\">\n",
       "  <thead>\n",
       "    <tr style=\"text-align: right;\">\n",
       "      <th></th>\n",
       "      <th>PassenderId</th>\n",
       "      <th>Survived</th>\n",
       "    </tr>\n",
       "  </thead>\n",
       "  <tbody>\n",
       "    <tr>\n",
       "      <th>0</th>\n",
       "      <td>892</td>\n",
       "      <td>0</td>\n",
       "    </tr>\n",
       "    <tr>\n",
       "      <th>1</th>\n",
       "      <td>893</td>\n",
       "      <td>0</td>\n",
       "    </tr>\n",
       "    <tr>\n",
       "      <th>2</th>\n",
       "      <td>894</td>\n",
       "      <td>0</td>\n",
       "    </tr>\n",
       "    <tr>\n",
       "      <th>3</th>\n",
       "      <td>895</td>\n",
       "      <td>0</td>\n",
       "    </tr>\n",
       "    <tr>\n",
       "      <th>4</th>\n",
       "      <td>896</td>\n",
       "      <td>1</td>\n",
       "    </tr>\n",
       "  </tbody>\n",
       "</table>\n",
       "</div>"
      ],
      "text/plain": [
       "   PassenderId  Survived\n",
       "0          892         0\n",
       "1          893         0\n",
       "2          894         0\n",
       "3          895         0\n",
       "4          896         1"
      ]
     },
     "execution_count": 27,
     "metadata": {},
     "output_type": "execute_result"
    }
   ],
   "source": [
    "submission.head()"
   ]
  },
  {
   "cell_type": "code",
   "execution_count": null,
   "id": "c6571512",
   "metadata": {
    "papermill": {
     "duration": 0.013877,
     "end_time": "2024-08-06T07:02:19.523404",
     "exception": false,
     "start_time": "2024-08-06T07:02:19.509527",
     "status": "completed"
    },
    "tags": []
   },
   "outputs": [],
   "source": []
  }
 ],
 "metadata": {
  "kaggle": {
   "accelerator": "none",
   "dataSources": [
    {
     "databundleVersionId": 26502,
     "sourceId": 3136,
     "sourceType": "competition"
    }
   ],
   "dockerImageVersionId": 30746,
   "isGpuEnabled": false,
   "isInternetEnabled": true,
   "language": "python",
   "sourceType": "notebook"
  },
  "kernelspec": {
   "display_name": "Python 3",
   "language": "python",
   "name": "python3"
  },
  "language_info": {
   "codemirror_mode": {
    "name": "ipython",
    "version": 3
   },
   "file_extension": ".py",
   "mimetype": "text/x-python",
   "name": "python",
   "nbconvert_exporter": "python",
   "pygments_lexer": "ipython3",
   "version": "3.10.13"
  },
  "papermill": {
   "default_parameters": {},
   "duration": 9.069315,
   "end_time": "2024-08-06T07:02:20.261479",
   "environment_variables": {},
   "exception": null,
   "input_path": "__notebook__.ipynb",
   "output_path": "__notebook__.ipynb",
   "parameters": {},
   "start_time": "2024-08-06T07:02:11.192164",
   "version": "2.5.0"
  }
 },
 "nbformat": 4,
 "nbformat_minor": 5
}
