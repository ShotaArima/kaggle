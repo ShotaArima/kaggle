{
 "cells": [
  {
   "cell_type": "code",
   "execution_count": 1,
   "id": "62e452a4",
   "metadata": {
    "_cell_guid": "b1076dfc-b9ad-4769-8c92-a6c4dae69d19",
    "_uuid": "8f2839f25d086af736a60e9eeb907d3b93b6e0e5",
    "execution": {
     "iopub.execute_input": "2024-09-08T03:00:01.091121Z",
     "iopub.status.busy": "2024-09-08T03:00:01.090659Z",
     "iopub.status.idle": "2024-09-08T03:00:02.206224Z",
     "shell.execute_reply": "2024-09-08T03:00:02.203351Z"
    },
    "papermill": {
     "duration": 1.126604,
     "end_time": "2024-09-08T03:00:02.210207",
     "exception": false,
     "start_time": "2024-09-08T03:00:01.083603",
     "status": "completed"
    },
    "tags": []
   },
   "outputs": [
    {
     "name": "stdout",
     "output_type": "stream",
     "text": [
      "/kaggle/input/titanic/train.csv\n",
      "/kaggle/input/titanic/test.csv\n",
      "/kaggle/input/titanic/gender_submission.csv\n"
     ]
    }
   ],
   "source": [
    "# This Python 3 environment comes with many helpful analytics libraries installed\n",
    "# It is defined by the kaggle/python Docker image: https://github.com/kaggle/docker-python\n",
    "# For example, here's several helpful packages to load\n",
    "\n",
    "import numpy as np # linear algebra\n",
    "import pandas as pd # data processing, CSV file I/O (e.g. pd.read_csv)\n",
    "\n",
    "# Input data files are available in the read-only \"../input/\" directory\n",
    "# For example, running this (by clicking run or pressing Shift+Enter) will list all files under the input directory\n",
    "\n",
    "import os\n",
    "for dirname, _, filenames in os.walk('/kaggle/input'):\n",
    "    for filename in filenames:\n",
    "        print(os.path.join(dirname, filename))\n",
    "\n",
    "# You can write up to 20GB to the current directory (/kaggle/working/) that gets preserved as output when you create a version using \"Save & Run All\" \n",
    "# You can also write temporary files to /kaggle/temp/, but they won't be saved outside of the current session"
   ]
  },
  {
   "cell_type": "markdown",
   "id": "b27f5b72",
   "metadata": {
    "papermill": {
     "duration": 0.01137,
     "end_time": "2024-09-08T03:00:02.228056",
     "exception": false,
     "start_time": "2024-09-08T03:00:02.216686",
     "status": "completed"
    },
    "tags": []
   },
   "source": [
    "# データの読み込み"
   ]
  },
  {
   "cell_type": "code",
   "execution_count": 2,
   "id": "919897ed",
   "metadata": {
    "execution": {
     "iopub.execute_input": "2024-09-08T03:00:02.248813Z",
     "iopub.status.busy": "2024-09-08T03:00:02.248257Z",
     "iopub.status.idle": "2024-09-08T03:00:02.316873Z",
     "shell.execute_reply": "2024-09-08T03:00:02.313823Z"
    },
    "papermill": {
     "duration": 0.08816,
     "end_time": "2024-09-08T03:00:02.321008",
     "exception": false,
     "start_time": "2024-09-08T03:00:02.232848",
     "status": "completed"
    },
    "tags": []
   },
   "outputs": [
    {
     "name": "stdout",
     "output_type": "stream",
     "text": [
      "   PassengerId  Survived  Pclass  \\\n",
      "0            1         0       3   \n",
      "1            2         1       1   \n",
      "2            3         1       3   \n",
      "3            4         1       1   \n",
      "4            5         0       3   \n",
      "\n",
      "                                                Name     Sex   Age  SibSp  \\\n",
      "0                            Braund, Mr. Owen Harris    male  22.0      1   \n",
      "1  Cumings, Mrs. John Bradley (Florence Briggs Th...  female  38.0      1   \n",
      "2                             Heikkinen, Miss. Laina  female  26.0      0   \n",
      "3       Futrelle, Mrs. Jacques Heath (Lily May Peel)  female  35.0      1   \n",
      "4                           Allen, Mr. William Henry    male  35.0      0   \n",
      "\n",
      "   Parch            Ticket     Fare Cabin Embarked  \n",
      "0      0         A/5 21171   7.2500   NaN        S  \n",
      "1      0          PC 17599  71.2833   C85        C  \n",
      "2      0  STON/O2. 3101282   7.9250   NaN        S  \n",
      "3      0            113803  53.1000  C123        S  \n",
      "4      0            373450   8.0500   NaN        S  \n"
     ]
    }
   ],
   "source": [
    "train = pd.read_csv(\"/kaggle/input/titanic/train.csv\")\n",
    "print(train.head())"
   ]
  },
  {
   "cell_type": "code",
   "execution_count": 3,
   "id": "256c5ba5",
   "metadata": {
    "execution": {
     "iopub.execute_input": "2024-09-08T03:00:02.334205Z",
     "iopub.status.busy": "2024-09-08T03:00:02.333668Z",
     "iopub.status.idle": "2024-09-08T03:00:02.361664Z",
     "shell.execute_reply": "2024-09-08T03:00:02.359262Z"
    },
    "papermill": {
     "duration": 0.038633,
     "end_time": "2024-09-08T03:00:02.365638",
     "exception": false,
     "start_time": "2024-09-08T03:00:02.327005",
     "status": "completed"
    },
    "tags": []
   },
   "outputs": [
    {
     "name": "stdout",
     "output_type": "stream",
     "text": [
      "   PassengerId  Pclass                                          Name     Sex  \\\n",
      "0          892       3                              Kelly, Mr. James    male   \n",
      "1          893       3              Wilkes, Mrs. James (Ellen Needs)  female   \n",
      "2          894       2                     Myles, Mr. Thomas Francis    male   \n",
      "3          895       3                              Wirz, Mr. Albert    male   \n",
      "4          896       3  Hirvonen, Mrs. Alexander (Helga E Lindqvist)  female   \n",
      "\n",
      "    Age  SibSp  Parch   Ticket     Fare Cabin Embarked  \n",
      "0  34.5      0      0   330911   7.8292   NaN        Q  \n",
      "1  47.0      1      0   363272   7.0000   NaN        S  \n",
      "2  62.0      0      0   240276   9.6875   NaN        Q  \n",
      "3  27.0      0      0   315154   8.6625   NaN        S  \n",
      "4  22.0      1      1  3101298  12.2875   NaN        S  \n"
     ]
    }
   ],
   "source": [
    "test = pd.read_csv(\"/kaggle/input/titanic/test.csv\")\n",
    "print(test.head())"
   ]
  },
  {
   "cell_type": "code",
   "execution_count": 4,
   "id": "f15295c0",
   "metadata": {
    "execution": {
     "iopub.execute_input": "2024-09-08T03:00:02.380422Z",
     "iopub.status.busy": "2024-09-08T03:00:02.379875Z",
     "iopub.status.idle": "2024-09-08T03:00:02.409189Z",
     "shell.execute_reply": "2024-09-08T03:00:02.406795Z"
    },
    "papermill": {
     "duration": 0.041905,
     "end_time": "2024-09-08T03:00:02.412631",
     "exception": false,
     "start_time": "2024-09-08T03:00:02.370726",
     "status": "completed"
    },
    "tags": []
   },
   "outputs": [
    {
     "name": "stdout",
     "output_type": "stream",
     "text": [
      "train_x    PassengerId  Pclass                                               Name  \\\n",
      "0            1       3                            Braund, Mr. Owen Harris   \n",
      "1            2       1  Cumings, Mrs. John Bradley (Florence Briggs Th...   \n",
      "2            3       3                             Heikkinen, Miss. Laina   \n",
      "3            4       1       Futrelle, Mrs. Jacques Heath (Lily May Peel)   \n",
      "4            5       3                           Allen, Mr. William Henry   \n",
      "\n",
      "      Sex   Age  SibSp  Parch            Ticket     Fare Cabin Embarked  \n",
      "0    male  22.0      1      0         A/5 21171   7.2500   NaN        S  \n",
      "1  female  38.0      1      0          PC 17599  71.2833   C85        C  \n",
      "2  female  26.0      0      0  STON/O2. 3101282   7.9250   NaN        S  \n",
      "3  female  35.0      1      0            113803  53.1000  C123        S  \n",
      "4    male  35.0      0      0            373450   8.0500   NaN        S  \n",
      "train_y 0    0\n",
      "1    1\n",
      "2    1\n",
      "3    1\n",
      "4    0\n",
      "Name: Survived, dtype: int64\n"
     ]
    }
   ],
   "source": [
    "train_x = train.drop(['Survived'], axis=1)\n",
    "train_y = train['Survived']\n",
    "\n",
    "print(\"train_x\", train_x.head())\n",
    "print(\"train_y\", train_y.head())"
   ]
  },
  {
   "cell_type": "code",
   "execution_count": 5,
   "id": "dda67494",
   "metadata": {
    "execution": {
     "iopub.execute_input": "2024-09-08T03:00:02.428859Z",
     "iopub.status.busy": "2024-09-08T03:00:02.428376Z",
     "iopub.status.idle": "2024-09-08T03:00:02.443087Z",
     "shell.execute_reply": "2024-09-08T03:00:02.441500Z"
    },
    "papermill": {
     "duration": 0.030209,
     "end_time": "2024-09-08T03:00:02.448780",
     "exception": false,
     "start_time": "2024-09-08T03:00:02.418571",
     "status": "completed"
    },
    "tags": []
   },
   "outputs": [
    {
     "name": "stdout",
     "output_type": "stream",
     "text": [
      "   PassengerId  Pclass                                          Name     Sex  \\\n",
      "0          892       3                              Kelly, Mr. James    male   \n",
      "1          893       3              Wilkes, Mrs. James (Ellen Needs)  female   \n",
      "2          894       2                     Myles, Mr. Thomas Francis    male   \n",
      "3          895       3                              Wirz, Mr. Albert    male   \n",
      "4          896       3  Hirvonen, Mrs. Alexander (Helga E Lindqvist)  female   \n",
      "\n",
      "    Age  SibSp  Parch   Ticket     Fare Cabin Embarked  \n",
      "0  34.5      0      0   330911   7.8292   NaN        Q  \n",
      "1  47.0      1      0   363272   7.0000   NaN        S  \n",
      "2  62.0      0      0   240276   9.6875   NaN        Q  \n",
      "3  27.0      0      0   315154   8.6625   NaN        S  \n",
      "4  22.0      1      1  3101298  12.2875   NaN        S  \n"
     ]
    }
   ],
   "source": [
    "test_x = test.copy()\n",
    "print(test_x.head())"
   ]
  },
  {
   "cell_type": "markdown",
   "id": "91d0b7b8",
   "metadata": {
    "papermill": {
     "duration": 0.006754,
     "end_time": "2024-09-08T03:00:02.461496",
     "exception": false,
     "start_time": "2024-09-08T03:00:02.454742",
     "status": "completed"
    },
    "tags": []
   },
   "source": [
    "# 特徴量作成"
   ]
  },
  {
   "cell_type": "code",
   "execution_count": 6,
   "id": "5e060f13",
   "metadata": {
    "execution": {
     "iopub.execute_input": "2024-09-08T03:00:02.484848Z",
     "iopub.status.busy": "2024-09-08T03:00:02.482740Z",
     "iopub.status.idle": "2024-09-08T03:00:04.167802Z",
     "shell.execute_reply": "2024-09-08T03:00:04.166296Z"
    },
    "papermill": {
     "duration": 1.697419,
     "end_time": "2024-09-08T03:00:04.170715",
     "exception": false,
     "start_time": "2024-09-08T03:00:02.473296",
     "status": "completed"
    },
    "tags": []
   },
   "outputs": [],
   "source": [
    "from sklearn.preprocessing import LabelEncoder"
   ]
  },
  {
   "cell_type": "code",
   "execution_count": 7,
   "id": "6ceb7fbc",
   "metadata": {
    "execution": {
     "iopub.execute_input": "2024-09-08T03:00:04.188546Z",
     "iopub.status.busy": "2024-09-08T03:00:04.186455Z",
     "iopub.status.idle": "2024-09-08T03:00:04.208520Z",
     "shell.execute_reply": "2024-09-08T03:00:04.206755Z"
    },
    "papermill": {
     "duration": 0.034575,
     "end_time": "2024-09-08T03:00:04.212673",
     "exception": false,
     "start_time": "2024-09-08T03:00:04.178098",
     "status": "completed"
    },
    "tags": []
   },
   "outputs": [],
   "source": [
    "# 変数PassengerIDを除外する\n",
    "train_x = train_x.drop(['PassengerId'], axis=1)\n",
    "test_x = test_x.drop(['PassengerId'], axis=1)\n",
    "\n",
    "# 変数Name, Ticket, Cabinを除外する\n",
    "train_x = train_x.drop(['Name', 'Ticket', 'Cabin'], axis=1)\n",
    "test_x = test_x.drop(['Name', 'Ticket', 'Cabin'], axis=1)\n",
    "\n",
    "# それぞれのカテゴリ変数にlabel, encodingを適用する\n",
    "for c in ['Sex', 'Embarked']:\n",
    "    # 学習データに基づいてどう変換するのかを定める\n",
    "    le = LabelEncoder()\n",
    "    le.fit(train_x[c].fillna('NA'))\n",
    "    \n",
    "    # 学習データ、テストデータを変換する\n",
    "    train_x[c] = le.transform(train_x[c].fillna('NA'))\n",
    "    test_x[c] = le.transform(test_x[c].fillna('NA'))\n"
   ]
  },
  {
   "cell_type": "markdown",
   "id": "551736ee",
   "metadata": {
    "papermill": {
     "duration": 0.005711,
     "end_time": "2024-09-08T03:00:04.226245",
     "exception": false,
     "start_time": "2024-09-08T03:00:04.220534",
     "status": "completed"
    },
    "tags": []
   },
   "source": [
    "# モデル作成"
   ]
  },
  {
   "cell_type": "code",
   "execution_count": 8,
   "id": "2172ea43",
   "metadata": {
    "execution": {
     "iopub.execute_input": "2024-09-08T03:00:04.239399Z",
     "iopub.status.busy": "2024-09-08T03:00:04.238388Z",
     "iopub.status.idle": "2024-09-08T03:00:04.694903Z",
     "shell.execute_reply": "2024-09-08T03:00:04.693701Z"
    },
    "papermill": {
     "duration": 0.466511,
     "end_time": "2024-09-08T03:00:04.697801",
     "exception": false,
     "start_time": "2024-09-08T03:00:04.231290",
     "status": "completed"
    },
    "tags": []
   },
   "outputs": [],
   "source": [
    "from xgboost import XGBClassifier"
   ]
  },
  {
   "cell_type": "code",
   "execution_count": 9,
   "id": "ff53407f",
   "metadata": {
    "execution": {
     "iopub.execute_input": "2024-09-08T03:00:04.710651Z",
     "iopub.status.busy": "2024-09-08T03:00:04.709317Z",
     "iopub.status.idle": "2024-09-08T03:00:04.808178Z",
     "shell.execute_reply": "2024-09-08T03:00:04.806976Z"
    },
    "papermill": {
     "duration": 0.108572,
     "end_time": "2024-09-08T03:00:04.811407",
     "exception": false,
     "start_time": "2024-09-08T03:00:04.702835",
     "status": "completed"
    },
    "tags": []
   },
   "outputs": [],
   "source": [
    "# モデルの作成および学習データを与えての学習\n",
    "model = XGBClassifier(n_estimators=20, random_state=71)\n",
    "model.fit(train_x, train_y)\n",
    "\n",
    "# テストデータの予測値を確率で出力する\n",
    "pred = model.predict_proba(test_x)[:,1]\n",
    "\n",
    "# テストデータの予測値を二値に変換する\n",
    "pred_label = np.where(pred > 0.5, 1, 0)\n",
    "\n",
    "# 提出用ファイルの作成\n",
    "submission = pd.DataFrame({'PassengerId': test['PassengerId'], 'Survived': pred_label})\n",
    "submission.to_csv('submission_first.csv', index=False)"
   ]
  },
  {
   "cell_type": "markdown",
   "id": "c4613501",
   "metadata": {
    "papermill": {
     "duration": 0.004785,
     "end_time": "2024-09-08T03:00:04.821887",
     "exception": false,
     "start_time": "2024-09-08T03:00:04.817102",
     "status": "completed"
    },
    "tags": []
   },
   "source": [
    "# バリデーション"
   ]
  },
  {
   "cell_type": "code",
   "execution_count": 10,
   "id": "25571079",
   "metadata": {
    "execution": {
     "iopub.execute_input": "2024-09-08T03:00:04.834047Z",
     "iopub.status.busy": "2024-09-08T03:00:04.833529Z",
     "iopub.status.idle": "2024-09-08T03:00:04.839401Z",
     "shell.execute_reply": "2024-09-08T03:00:04.838147Z"
    },
    "papermill": {
     "duration": 0.015166,
     "end_time": "2024-09-08T03:00:04.842154",
     "exception": false,
     "start_time": "2024-09-08T03:00:04.826988",
     "status": "completed"
    },
    "tags": []
   },
   "outputs": [],
   "source": [
    "from sklearn.metrics import log_loss, accuracy_score\n",
    "from sklearn.model_selection import KFold"
   ]
  },
  {
   "cell_type": "code",
   "execution_count": 11,
   "id": "c801052f",
   "metadata": {
    "execution": {
     "iopub.execute_input": "2024-09-08T03:00:04.855438Z",
     "iopub.status.busy": "2024-09-08T03:00:04.854357Z",
     "iopub.status.idle": "2024-09-08T03:00:04.995997Z",
     "shell.execute_reply": "2024-09-08T03:00:04.994696Z"
    },
    "papermill": {
     "duration": 0.150798,
     "end_time": "2024-09-08T03:00:04.998581",
     "exception": false,
     "start_time": "2024-09-08T03:00:04.847783",
     "status": "completed"
    },
    "tags": []
   },
   "outputs": [
    {
     "name": "stdout",
     "output_type": "stream",
     "text": [
      "logloss:0.455120, accuracy:0.810331\n"
     ]
    }
   ],
   "source": [
    "# 各foldのスコアを保存するリスト\n",
    "scores_accuracy = []\n",
    "scores_logloss = []\n",
    "\n",
    "# クロスバリデーションを行う\n",
    "# 学習データを4つに分割し、うち一つをバリデーションデータとすることを、バリデーションデータを変えて繰り返す\n",
    "kf = KFold(n_splits=4, shuffle=True, random_state=7)\n",
    "for tr_idx, va_idx in kf.split(train_x):\n",
    "\t# 学習データを学習データとバリデーションデータに分ける\n",
    "\ttr_x, va_x = train_x.iloc[tr_idx], train_x.iloc[va_idx]\n",
    "\ttr_y, va_y = train_y.iloc[tr_idx], train_y.iloc[va_idx]\n",
    "\t\n",
    "\t# モデルの学習を行う\n",
    "\tmodel = XGBClassifier(n_estimators=20, random_state=7)\n",
    "\tmodel.fit(tr_x, tr_y)\n",
    "\t\n",
    "\t# バリデーションデータの予測値を確率で出力する\n",
    "\tva_pred = model.predict_proba(va_x)[:, 1]\n",
    "\t\n",
    "\t# バリデーションデータでのスコアを計算する\n",
    "\tlogloss = log_loss(va_y, va_pred)\n",
    "\taccuracy = accuracy_score(va_y, va_pred>0.5)\n",
    "\t\n",
    "\t# foldスコアを保存する\n",
    "\tscores_logloss.append(logloss)\n",
    "\tscores_accuracy.append(accuracy)\n",
    "\n",
    "# 各foldのスコアの平均を出力する\n",
    "logloss = np.mean(scores_logloss)\n",
    "accuracy = np.mean(scores_accuracy)\n",
    "print(f\"logloss:{logloss:4f}, accuracy:{accuracy:4f}\")\n"
   ]
  },
  {
   "cell_type": "markdown",
   "id": "487c8f29",
   "metadata": {
    "papermill": {
     "duration": 0.004745,
     "end_time": "2024-09-08T03:00:05.008533",
     "exception": false,
     "start_time": "2024-09-08T03:00:05.003788",
     "status": "completed"
    },
    "tags": []
   },
   "source": [
    "# モデルチューニング"
   ]
  },
  {
   "cell_type": "code",
   "execution_count": null,
   "id": "2be1ebd8",
   "metadata": {
    "papermill": {
     "duration": 0.005269,
     "end_time": "2024-09-08T03:00:05.018864",
     "exception": false,
     "start_time": "2024-09-08T03:00:05.013595",
     "status": "completed"
    },
    "tags": []
   },
   "outputs": [],
   "source": []
  }
 ],
 "metadata": {
  "kaggle": {
   "accelerator": "none",
   "dataSources": [
    {
     "databundleVersionId": 26502,
     "sourceId": 3136,
     "sourceType": "competition"
    }
   ],
   "dockerImageVersionId": 30761,
   "isGpuEnabled": false,
   "isInternetEnabled": true,
   "language": "python",
   "sourceType": "notebook"
  },
  "kernelspec": {
   "display_name": "Python 3",
   "language": "python",
   "name": "python3"
  },
  "language_info": {
   "codemirror_mode": {
    "name": "ipython",
    "version": 3
   },
   "file_extension": ".py",
   "mimetype": "text/x-python",
   "name": "python",
   "nbconvert_exporter": "python",
   "pygments_lexer": "ipython3",
   "version": "3.10.14"
  },
  "papermill": {
   "default_parameters": {},
   "duration": 8.180968,
   "end_time": "2024-09-08T03:00:05.747778",
   "environment_variables": {},
   "exception": null,
   "input_path": "__notebook__.ipynb",
   "output_path": "__notebook__.ipynb",
   "parameters": {},
   "start_time": "2024-09-08T02:59:57.566810",
   "version": "2.6.0"
  }
 },
 "nbformat": 4,
 "nbformat_minor": 5
}
