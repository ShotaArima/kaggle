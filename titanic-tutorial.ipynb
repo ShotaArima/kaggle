{
 "cells": [
  {
   "cell_type": "markdown",
   "id": "0f7db683",
   "metadata": {
    "papermill": {
     "duration": 0.01192,
     "end_time": "2024-08-06T07:16:45.437368",
     "exception": false,
     "start_time": "2024-08-06T07:16:45.425448",
     "status": "completed"
    },
    "tags": []
   },
   "source": [
    "# データのインプット"
   ]
  },
  {
   "cell_type": "code",
   "execution_count": 1,
   "id": "d2339b89",
   "metadata": {
    "_cell_guid": "b1076dfc-b9ad-4769-8c92-a6c4dae69d19",
    "_uuid": "8f2839f25d086af736a60e9eeb907d3b93b6e0e5",
    "execution": {
     "iopub.execute_input": "2024-08-06T07:16:45.461941Z",
     "iopub.status.busy": "2024-08-06T07:16:45.461555Z",
     "iopub.status.idle": "2024-08-06T07:16:46.376747Z",
     "shell.execute_reply": "2024-08-06T07:16:46.375511Z"
    },
    "papermill": {
     "duration": 0.93055,
     "end_time": "2024-08-06T07:16:46.379420",
     "exception": false,
     "start_time": "2024-08-06T07:16:45.448870",
     "status": "completed"
    },
    "tags": []
   },
   "outputs": [
    {
     "name": "stdout",
     "output_type": "stream",
     "text": [
      "/kaggle/input/titanic/train.csv\n",
      "/kaggle/input/titanic/test.csv\n",
      "/kaggle/input/titanic/gender_submission.csv\n"
     ]
    }
   ],
   "source": [
    "# This Python 3 environment comes with many helpful analytics libraries installed\n",
    "# It is defined by the kaggle/python Docker image: https://github.com/kaggle/docker-python\n",
    "# For example, here's several helpful packages to load\n",
    "\n",
    "import numpy as np # linear algebra\n",
    "import pandas as pd # data processing, CSV file I/O (e.g. pd.read_csv)\n",
    "\n",
    "# Input data files are available in the read-only \"../input/\" directory\n",
    "# For example, running this (by clicking run or pressing Shift+Enter) will list all files under the input directory\n",
    "\n",
    "import os\n",
    "for dirname, _, filenames in os.walk('/kaggle/input'):\n",
    "    for filename in filenames:\n",
    "        print(os.path.join(dirname, filename))\n",
    "\n",
    "# You can write up to 20GB to the current directory (/kaggle/working/) that gets preserved as output when you create a version using \"Save & Run All\" \n",
    "# You can also write temporary files to /kaggle/temp/, but they won't be saved outside of the current session"
   ]
  },
  {
   "cell_type": "code",
   "execution_count": 2,
   "id": "c1800487",
   "metadata": {
    "execution": {
     "iopub.execute_input": "2024-08-06T07:16:46.405356Z",
     "iopub.status.busy": "2024-08-06T07:16:46.404801Z",
     "iopub.status.idle": "2024-08-06T07:16:46.451665Z",
     "shell.execute_reply": "2024-08-06T07:16:46.450384Z"
    },
    "papermill": {
     "duration": 0.06314,
     "end_time": "2024-08-06T07:16:46.454689",
     "exception": false,
     "start_time": "2024-08-06T07:16:46.391549",
     "status": "completed"
    },
    "tags": []
   },
   "outputs": [
    {
     "data": {
      "text/html": [
       "<div>\n",
       "<style scoped>\n",
       "    .dataframe tbody tr th:only-of-type {\n",
       "        vertical-align: middle;\n",
       "    }\n",
       "\n",
       "    .dataframe tbody tr th {\n",
       "        vertical-align: top;\n",
       "    }\n",
       "\n",
       "    .dataframe thead th {\n",
       "        text-align: right;\n",
       "    }\n",
       "</style>\n",
       "<table border=\"1\" class=\"dataframe\">\n",
       "  <thead>\n",
       "    <tr style=\"text-align: right;\">\n",
       "      <th></th>\n",
       "      <th>PassengerId</th>\n",
       "      <th>Survived</th>\n",
       "      <th>Pclass</th>\n",
       "      <th>Name</th>\n",
       "      <th>Sex</th>\n",
       "      <th>Age</th>\n",
       "      <th>SibSp</th>\n",
       "      <th>Parch</th>\n",
       "      <th>Ticket</th>\n",
       "      <th>Fare</th>\n",
       "      <th>Cabin</th>\n",
       "      <th>Embarked</th>\n",
       "    </tr>\n",
       "  </thead>\n",
       "  <tbody>\n",
       "    <tr>\n",
       "      <th>0</th>\n",
       "      <td>1</td>\n",
       "      <td>0</td>\n",
       "      <td>3</td>\n",
       "      <td>Braund, Mr. Owen Harris</td>\n",
       "      <td>male</td>\n",
       "      <td>22.0</td>\n",
       "      <td>1</td>\n",
       "      <td>0</td>\n",
       "      <td>A/5 21171</td>\n",
       "      <td>7.2500</td>\n",
       "      <td>NaN</td>\n",
       "      <td>S</td>\n",
       "    </tr>\n",
       "    <tr>\n",
       "      <th>1</th>\n",
       "      <td>2</td>\n",
       "      <td>1</td>\n",
       "      <td>1</td>\n",
       "      <td>Cumings, Mrs. John Bradley (Florence Briggs Th...</td>\n",
       "      <td>female</td>\n",
       "      <td>38.0</td>\n",
       "      <td>1</td>\n",
       "      <td>0</td>\n",
       "      <td>PC 17599</td>\n",
       "      <td>71.2833</td>\n",
       "      <td>C85</td>\n",
       "      <td>C</td>\n",
       "    </tr>\n",
       "    <tr>\n",
       "      <th>2</th>\n",
       "      <td>3</td>\n",
       "      <td>1</td>\n",
       "      <td>3</td>\n",
       "      <td>Heikkinen, Miss. Laina</td>\n",
       "      <td>female</td>\n",
       "      <td>26.0</td>\n",
       "      <td>0</td>\n",
       "      <td>0</td>\n",
       "      <td>STON/O2. 3101282</td>\n",
       "      <td>7.9250</td>\n",
       "      <td>NaN</td>\n",
       "      <td>S</td>\n",
       "    </tr>\n",
       "    <tr>\n",
       "      <th>3</th>\n",
       "      <td>4</td>\n",
       "      <td>1</td>\n",
       "      <td>1</td>\n",
       "      <td>Futrelle, Mrs. Jacques Heath (Lily May Peel)</td>\n",
       "      <td>female</td>\n",
       "      <td>35.0</td>\n",
       "      <td>1</td>\n",
       "      <td>0</td>\n",
       "      <td>113803</td>\n",
       "      <td>53.1000</td>\n",
       "      <td>C123</td>\n",
       "      <td>S</td>\n",
       "    </tr>\n",
       "    <tr>\n",
       "      <th>4</th>\n",
       "      <td>5</td>\n",
       "      <td>0</td>\n",
       "      <td>3</td>\n",
       "      <td>Allen, Mr. William Henry</td>\n",
       "      <td>male</td>\n",
       "      <td>35.0</td>\n",
       "      <td>0</td>\n",
       "      <td>0</td>\n",
       "      <td>373450</td>\n",
       "      <td>8.0500</td>\n",
       "      <td>NaN</td>\n",
       "      <td>S</td>\n",
       "    </tr>\n",
       "  </tbody>\n",
       "</table>\n",
       "</div>"
      ],
      "text/plain": [
       "   PassengerId  Survived  Pclass  \\\n",
       "0            1         0       3   \n",
       "1            2         1       1   \n",
       "2            3         1       3   \n",
       "3            4         1       1   \n",
       "4            5         0       3   \n",
       "\n",
       "                                                Name     Sex   Age  SibSp  \\\n",
       "0                            Braund, Mr. Owen Harris    male  22.0      1   \n",
       "1  Cumings, Mrs. John Bradley (Florence Briggs Th...  female  38.0      1   \n",
       "2                             Heikkinen, Miss. Laina  female  26.0      0   \n",
       "3       Futrelle, Mrs. Jacques Heath (Lily May Peel)  female  35.0      1   \n",
       "4                           Allen, Mr. William Henry    male  35.0      0   \n",
       "\n",
       "   Parch            Ticket     Fare Cabin Embarked  \n",
       "0      0         A/5 21171   7.2500   NaN        S  \n",
       "1      0          PC 17599  71.2833   C85        C  \n",
       "2      0  STON/O2. 3101282   7.9250   NaN        S  \n",
       "3      0            113803  53.1000  C123        S  \n",
       "4      0            373450   8.0500   NaN        S  "
      ]
     },
     "execution_count": 2,
     "metadata": {},
     "output_type": "execute_result"
    }
   ],
   "source": [
    "train = pd.read_csv(\"/kaggle/input/titanic/train.csv\")\n",
    "train.head()"
   ]
  },
  {
   "cell_type": "code",
   "execution_count": 3,
   "id": "0e7cf58a",
   "metadata": {
    "execution": {
     "iopub.execute_input": "2024-08-06T07:16:46.480926Z",
     "iopub.status.busy": "2024-08-06T07:16:46.480554Z",
     "iopub.status.idle": "2024-08-06T07:16:46.504966Z",
     "shell.execute_reply": "2024-08-06T07:16:46.503846Z"
    },
    "papermill": {
     "duration": 0.040166,
     "end_time": "2024-08-06T07:16:46.507540",
     "exception": false,
     "start_time": "2024-08-06T07:16:46.467374",
     "status": "completed"
    },
    "tags": []
   },
   "outputs": [
    {
     "data": {
      "text/html": [
       "<div>\n",
       "<style scoped>\n",
       "    .dataframe tbody tr th:only-of-type {\n",
       "        vertical-align: middle;\n",
       "    }\n",
       "\n",
       "    .dataframe tbody tr th {\n",
       "        vertical-align: top;\n",
       "    }\n",
       "\n",
       "    .dataframe thead th {\n",
       "        text-align: right;\n",
       "    }\n",
       "</style>\n",
       "<table border=\"1\" class=\"dataframe\">\n",
       "  <thead>\n",
       "    <tr style=\"text-align: right;\">\n",
       "      <th></th>\n",
       "      <th>PassengerId</th>\n",
       "      <th>Pclass</th>\n",
       "      <th>Name</th>\n",
       "      <th>Sex</th>\n",
       "      <th>Age</th>\n",
       "      <th>SibSp</th>\n",
       "      <th>Parch</th>\n",
       "      <th>Ticket</th>\n",
       "      <th>Fare</th>\n",
       "      <th>Cabin</th>\n",
       "      <th>Embarked</th>\n",
       "    </tr>\n",
       "  </thead>\n",
       "  <tbody>\n",
       "    <tr>\n",
       "      <th>0</th>\n",
       "      <td>892</td>\n",
       "      <td>3</td>\n",
       "      <td>Kelly, Mr. James</td>\n",
       "      <td>male</td>\n",
       "      <td>34.5</td>\n",
       "      <td>0</td>\n",
       "      <td>0</td>\n",
       "      <td>330911</td>\n",
       "      <td>7.8292</td>\n",
       "      <td>NaN</td>\n",
       "      <td>Q</td>\n",
       "    </tr>\n",
       "    <tr>\n",
       "      <th>1</th>\n",
       "      <td>893</td>\n",
       "      <td>3</td>\n",
       "      <td>Wilkes, Mrs. James (Ellen Needs)</td>\n",
       "      <td>female</td>\n",
       "      <td>47.0</td>\n",
       "      <td>1</td>\n",
       "      <td>0</td>\n",
       "      <td>363272</td>\n",
       "      <td>7.0000</td>\n",
       "      <td>NaN</td>\n",
       "      <td>S</td>\n",
       "    </tr>\n",
       "    <tr>\n",
       "      <th>2</th>\n",
       "      <td>894</td>\n",
       "      <td>2</td>\n",
       "      <td>Myles, Mr. Thomas Francis</td>\n",
       "      <td>male</td>\n",
       "      <td>62.0</td>\n",
       "      <td>0</td>\n",
       "      <td>0</td>\n",
       "      <td>240276</td>\n",
       "      <td>9.6875</td>\n",
       "      <td>NaN</td>\n",
       "      <td>Q</td>\n",
       "    </tr>\n",
       "    <tr>\n",
       "      <th>3</th>\n",
       "      <td>895</td>\n",
       "      <td>3</td>\n",
       "      <td>Wirz, Mr. Albert</td>\n",
       "      <td>male</td>\n",
       "      <td>27.0</td>\n",
       "      <td>0</td>\n",
       "      <td>0</td>\n",
       "      <td>315154</td>\n",
       "      <td>8.6625</td>\n",
       "      <td>NaN</td>\n",
       "      <td>S</td>\n",
       "    </tr>\n",
       "    <tr>\n",
       "      <th>4</th>\n",
       "      <td>896</td>\n",
       "      <td>3</td>\n",
       "      <td>Hirvonen, Mrs. Alexander (Helga E Lindqvist)</td>\n",
       "      <td>female</td>\n",
       "      <td>22.0</td>\n",
       "      <td>1</td>\n",
       "      <td>1</td>\n",
       "      <td>3101298</td>\n",
       "      <td>12.2875</td>\n",
       "      <td>NaN</td>\n",
       "      <td>S</td>\n",
       "    </tr>\n",
       "  </tbody>\n",
       "</table>\n",
       "</div>"
      ],
      "text/plain": [
       "   PassengerId  Pclass                                          Name     Sex  \\\n",
       "0          892       3                              Kelly, Mr. James    male   \n",
       "1          893       3              Wilkes, Mrs. James (Ellen Needs)  female   \n",
       "2          894       2                     Myles, Mr. Thomas Francis    male   \n",
       "3          895       3                              Wirz, Mr. Albert    male   \n",
       "4          896       3  Hirvonen, Mrs. Alexander (Helga E Lindqvist)  female   \n",
       "\n",
       "    Age  SibSp  Parch   Ticket     Fare Cabin Embarked  \n",
       "0  34.5      0      0   330911   7.8292   NaN        Q  \n",
       "1  47.0      1      0   363272   7.0000   NaN        S  \n",
       "2  62.0      0      0   240276   9.6875   NaN        Q  \n",
       "3  27.0      0      0   315154   8.6625   NaN        S  \n",
       "4  22.0      1      1  3101298  12.2875   NaN        S  "
      ]
     },
     "execution_count": 3,
     "metadata": {},
     "output_type": "execute_result"
    }
   ],
   "source": [
    "test = pd.read_csv(\"/kaggle/input/titanic/test.csv\")\n",
    "test.head()"
   ]
  },
  {
   "cell_type": "markdown",
   "id": "c6849dbd",
   "metadata": {
    "papermill": {
     "duration": 0.012001,
     "end_time": "2024-08-06T07:16:46.532231",
     "exception": false,
     "start_time": "2024-08-06T07:16:46.520230",
     "status": "completed"
    },
    "tags": []
   },
   "source": [
    "入力されたデータ\n",
    "# データの入力\n",
    "\n",
    "| 変数 | 定義 | キー |\n",
    "|------|------|------|\n",
    "| survival | 生存 | 0 = いいえ, 1 = はい |\n",
    "| pclass | チケットのクラス | 1 = 1等, 2 = 2等, 3 = 3等 |\n",
    "| sex | 性別 | |\n",
    "| Age | 年齢（歳） | |\n",
    "| sibsp | タイタニック号に乗船していた兄弟姉妹/配偶者の数 | |\n",
    "| parch | タイタニック号に乗船していた親/子供の数 | |\n",
    "| ticket | チケット番号 | |\n",
    "| fare | 乗客運賃 | |\n",
    "| cabin | 客室番号 | |\n",
    "| embarked | 出港地 | C = シェルブール, Q = クイーンズタウン, S = サウサンプトン |\n"
   ]
  },
  {
   "cell_type": "markdown",
   "id": "08905291",
   "metadata": {
    "papermill": {
     "duration": 0.011976,
     "end_time": "2024-08-06T07:16:46.556470",
     "exception": false,
     "start_time": "2024-08-06T07:16:46.544494",
     "status": "completed"
    },
    "tags": []
   },
   "source": [
    "# k-最近傍法"
   ]
  },
  {
   "cell_type": "code",
   "execution_count": 4,
   "id": "2e566f62",
   "metadata": {
    "execution": {
     "iopub.execute_input": "2024-08-06T07:16:46.583177Z",
     "iopub.status.busy": "2024-08-06T07:16:46.582326Z",
     "iopub.status.idle": "2024-08-06T07:16:46.588198Z",
     "shell.execute_reply": "2024-08-06T07:16:46.587044Z"
    },
    "papermill": {
     "duration": 0.02214,
     "end_time": "2024-08-06T07:16:46.590897",
     "exception": false,
     "start_time": "2024-08-06T07:16:46.568757",
     "status": "completed"
    },
    "tags": []
   },
   "outputs": [],
   "source": [
    "train1 = train.copy()\n",
    "test1 = test.copy()"
   ]
  },
  {
   "cell_type": "markdown",
   "id": "31fd0c37",
   "metadata": {
    "papermill": {
     "duration": 0.011869,
     "end_time": "2024-08-06T07:16:46.615988",
     "exception": false,
     "start_time": "2024-08-06T07:16:46.604119",
     "status": "completed"
    },
    "tags": []
   },
   "source": [
    "## 前処理"
   ]
  },
  {
   "cell_type": "code",
   "execution_count": 5,
   "id": "497cd1dc",
   "metadata": {
    "execution": {
     "iopub.execute_input": "2024-08-06T07:16:46.643638Z",
     "iopub.status.busy": "2024-08-06T07:16:46.643236Z",
     "iopub.status.idle": "2024-08-06T07:16:46.654635Z",
     "shell.execute_reply": "2024-08-06T07:16:46.653421Z"
    },
    "papermill": {
     "duration": 0.028891,
     "end_time": "2024-08-06T07:16:46.657243",
     "exception": false,
     "start_time": "2024-08-06T07:16:46.628352",
     "status": "completed"
    },
    "tags": []
   },
   "outputs": [
    {
     "data": {
      "text/plain": [
       "PassengerId      0\n",
       "Survived         0\n",
       "Pclass           0\n",
       "Name             0\n",
       "Sex              0\n",
       "Age            177\n",
       "SibSp            0\n",
       "Parch            0\n",
       "Ticket           0\n",
       "Fare             0\n",
       "Cabin          687\n",
       "Embarked         2\n",
       "dtype: int64"
      ]
     },
     "execution_count": 5,
     "metadata": {},
     "output_type": "execute_result"
    }
   ],
   "source": [
    "# trainデータの欠損値確認\n",
    "train1.isnull().sum()"
   ]
  },
  {
   "cell_type": "code",
   "execution_count": 6,
   "id": "f16e2dde",
   "metadata": {
    "execution": {
     "iopub.execute_input": "2024-08-06T07:16:46.683562Z",
     "iopub.status.busy": "2024-08-06T07:16:46.683174Z",
     "iopub.status.idle": "2024-08-06T07:16:46.696477Z",
     "shell.execute_reply": "2024-08-06T07:16:46.695421Z"
    },
    "papermill": {
     "duration": 0.029401,
     "end_time": "2024-08-06T07:16:46.698979",
     "exception": false,
     "start_time": "2024-08-06T07:16:46.669578",
     "status": "completed"
    },
    "tags": []
   },
   "outputs": [],
   "source": [
    "train1[\"Age\"] = train1[\"Age\"].fillna(train1[\"Age\"].mode()[0])\n",
    "train1[\"Cabin\"] = train1[\"Cabin\"].fillna(train1[\"Cabin\"].mode()[0])\n",
    "train1[\"Embarked\"] = train1[\"Embarked\"].fillna(train1[\"Embarked\"].mode()[0])"
   ]
  },
  {
   "cell_type": "code",
   "execution_count": 7,
   "id": "0350e323",
   "metadata": {
    "execution": {
     "iopub.execute_input": "2024-08-06T07:16:46.725764Z",
     "iopub.status.busy": "2024-08-06T07:16:46.725371Z",
     "iopub.status.idle": "2024-08-06T07:16:46.735928Z",
     "shell.execute_reply": "2024-08-06T07:16:46.734913Z"
    },
    "papermill": {
     "duration": 0.026837,
     "end_time": "2024-08-06T07:16:46.738438",
     "exception": false,
     "start_time": "2024-08-06T07:16:46.711601",
     "status": "completed"
    },
    "tags": []
   },
   "outputs": [
    {
     "data": {
      "text/plain": [
       "PassengerId    0\n",
       "Survived       0\n",
       "Pclass         0\n",
       "Name           0\n",
       "Sex            0\n",
       "Age            0\n",
       "SibSp          0\n",
       "Parch          0\n",
       "Ticket         0\n",
       "Fare           0\n",
       "Cabin          0\n",
       "Embarked       0\n",
       "dtype: int64"
      ]
     },
     "execution_count": 7,
     "metadata": {},
     "output_type": "execute_result"
    }
   ],
   "source": [
    "train1.isnull().sum()"
   ]
  },
  {
   "cell_type": "code",
   "execution_count": 8,
   "id": "4cbaa8db",
   "metadata": {
    "execution": {
     "iopub.execute_input": "2024-08-06T07:16:46.767740Z",
     "iopub.status.busy": "2024-08-06T07:16:46.766845Z",
     "iopub.status.idle": "2024-08-06T07:16:46.776156Z",
     "shell.execute_reply": "2024-08-06T07:16:46.775122Z"
    },
    "papermill": {
     "duration": 0.026066,
     "end_time": "2024-08-06T07:16:46.778898",
     "exception": false,
     "start_time": "2024-08-06T07:16:46.752832",
     "status": "completed"
    },
    "tags": []
   },
   "outputs": [
    {
     "data": {
      "text/plain": [
       "PassengerId      0\n",
       "Pclass           0\n",
       "Name             0\n",
       "Sex              0\n",
       "Age             86\n",
       "SibSp            0\n",
       "Parch            0\n",
       "Ticket           0\n",
       "Fare             1\n",
       "Cabin          327\n",
       "Embarked         0\n",
       "dtype: int64"
      ]
     },
     "execution_count": 8,
     "metadata": {},
     "output_type": "execute_result"
    }
   ],
   "source": [
    "# testデータの欠損値\n",
    "test1.isnull().sum()"
   ]
  },
  {
   "cell_type": "code",
   "execution_count": 9,
   "id": "52eb1004",
   "metadata": {
    "execution": {
     "iopub.execute_input": "2024-08-06T07:16:46.806722Z",
     "iopub.status.busy": "2024-08-06T07:16:46.806310Z",
     "iopub.status.idle": "2024-08-06T07:16:46.816314Z",
     "shell.execute_reply": "2024-08-06T07:16:46.815075Z"
    },
    "papermill": {
     "duration": 0.026863,
     "end_time": "2024-08-06T07:16:46.819061",
     "exception": false,
     "start_time": "2024-08-06T07:16:46.792198",
     "status": "completed"
    },
    "tags": []
   },
   "outputs": [],
   "source": [
    "test1[\"Age\"] = test1[\"Age\"].fillna(test1[\"Age\"].mode()[0])\n",
    "test1[\"Cabin\"] = test1[\"Cabin\"].fillna(test1[\"Cabin\"].mode()[0])\n",
    "test1[\"Fare\"] = test1[\"Fare\"].fillna(test1[\"Fare\"].mode()[0])"
   ]
  },
  {
   "cell_type": "code",
   "execution_count": 10,
   "id": "6deb2f42",
   "metadata": {
    "execution": {
     "iopub.execute_input": "2024-08-06T07:16:46.846514Z",
     "iopub.status.busy": "2024-08-06T07:16:46.846142Z",
     "iopub.status.idle": "2024-08-06T07:16:46.855836Z",
     "shell.execute_reply": "2024-08-06T07:16:46.854695Z"
    },
    "papermill": {
     "duration": 0.026353,
     "end_time": "2024-08-06T07:16:46.858605",
     "exception": false,
     "start_time": "2024-08-06T07:16:46.832252",
     "status": "completed"
    },
    "tags": []
   },
   "outputs": [
    {
     "data": {
      "text/plain": [
       "PassengerId    0\n",
       "Pclass         0\n",
       "Name           0\n",
       "Sex            0\n",
       "Age            0\n",
       "SibSp          0\n",
       "Parch          0\n",
       "Ticket         0\n",
       "Fare           0\n",
       "Cabin          0\n",
       "Embarked       0\n",
       "dtype: int64"
      ]
     },
     "execution_count": 10,
     "metadata": {},
     "output_type": "execute_result"
    }
   ],
   "source": [
    "test1.isnull().sum()"
   ]
  },
  {
   "cell_type": "code",
   "execution_count": 11,
   "id": "2efc34be",
   "metadata": {
    "execution": {
     "iopub.execute_input": "2024-08-06T07:16:46.886582Z",
     "iopub.status.busy": "2024-08-06T07:16:46.886198Z",
     "iopub.status.idle": "2024-08-06T07:16:46.907535Z",
     "shell.execute_reply": "2024-08-06T07:16:46.906442Z"
    },
    "papermill": {
     "duration": 0.039103,
     "end_time": "2024-08-06T07:16:46.910636",
     "exception": false,
     "start_time": "2024-08-06T07:16:46.871533",
     "status": "completed"
    },
    "tags": []
   },
   "outputs": [],
   "source": [
    "# 文字列をダミー変数に\n",
    "train1 = pd.get_dummies(train1, columns=['Sex', 'Embarked'])\n",
    "test1 = pd.get_dummies(test1, columns=['Sex', 'Embarked'])"
   ]
  },
  {
   "cell_type": "code",
   "execution_count": 12,
   "id": "877b1fe3",
   "metadata": {
    "execution": {
     "iopub.execute_input": "2024-08-06T07:16:46.939053Z",
     "iopub.status.busy": "2024-08-06T07:16:46.938044Z",
     "iopub.status.idle": "2024-08-06T07:16:46.957354Z",
     "shell.execute_reply": "2024-08-06T07:16:46.956281Z"
    },
    "papermill": {
     "duration": 0.03601,
     "end_time": "2024-08-06T07:16:46.959770",
     "exception": false,
     "start_time": "2024-08-06T07:16:46.923760",
     "status": "completed"
    },
    "tags": []
   },
   "outputs": [
    {
     "data": {
      "text/html": [
       "<div>\n",
       "<style scoped>\n",
       "    .dataframe tbody tr th:only-of-type {\n",
       "        vertical-align: middle;\n",
       "    }\n",
       "\n",
       "    .dataframe tbody tr th {\n",
       "        vertical-align: top;\n",
       "    }\n",
       "\n",
       "    .dataframe thead th {\n",
       "        text-align: right;\n",
       "    }\n",
       "</style>\n",
       "<table border=\"1\" class=\"dataframe\">\n",
       "  <thead>\n",
       "    <tr style=\"text-align: right;\">\n",
       "      <th></th>\n",
       "      <th>PassengerId</th>\n",
       "      <th>Survived</th>\n",
       "      <th>Pclass</th>\n",
       "      <th>Name</th>\n",
       "      <th>Age</th>\n",
       "      <th>SibSp</th>\n",
       "      <th>Parch</th>\n",
       "      <th>Ticket</th>\n",
       "      <th>Fare</th>\n",
       "      <th>Cabin</th>\n",
       "      <th>Sex_female</th>\n",
       "      <th>Sex_male</th>\n",
       "      <th>Embarked_C</th>\n",
       "      <th>Embarked_Q</th>\n",
       "      <th>Embarked_S</th>\n",
       "    </tr>\n",
       "  </thead>\n",
       "  <tbody>\n",
       "    <tr>\n",
       "      <th>0</th>\n",
       "      <td>1</td>\n",
       "      <td>0</td>\n",
       "      <td>3</td>\n",
       "      <td>Braund, Mr. Owen Harris</td>\n",
       "      <td>22.0</td>\n",
       "      <td>1</td>\n",
       "      <td>0</td>\n",
       "      <td>A/5 21171</td>\n",
       "      <td>7.2500</td>\n",
       "      <td>B96 B98</td>\n",
       "      <td>False</td>\n",
       "      <td>True</td>\n",
       "      <td>False</td>\n",
       "      <td>False</td>\n",
       "      <td>True</td>\n",
       "    </tr>\n",
       "    <tr>\n",
       "      <th>1</th>\n",
       "      <td>2</td>\n",
       "      <td>1</td>\n",
       "      <td>1</td>\n",
       "      <td>Cumings, Mrs. John Bradley (Florence Briggs Th...</td>\n",
       "      <td>38.0</td>\n",
       "      <td>1</td>\n",
       "      <td>0</td>\n",
       "      <td>PC 17599</td>\n",
       "      <td>71.2833</td>\n",
       "      <td>C85</td>\n",
       "      <td>True</td>\n",
       "      <td>False</td>\n",
       "      <td>True</td>\n",
       "      <td>False</td>\n",
       "      <td>False</td>\n",
       "    </tr>\n",
       "    <tr>\n",
       "      <th>2</th>\n",
       "      <td>3</td>\n",
       "      <td>1</td>\n",
       "      <td>3</td>\n",
       "      <td>Heikkinen, Miss. Laina</td>\n",
       "      <td>26.0</td>\n",
       "      <td>0</td>\n",
       "      <td>0</td>\n",
       "      <td>STON/O2. 3101282</td>\n",
       "      <td>7.9250</td>\n",
       "      <td>B96 B98</td>\n",
       "      <td>True</td>\n",
       "      <td>False</td>\n",
       "      <td>False</td>\n",
       "      <td>False</td>\n",
       "      <td>True</td>\n",
       "    </tr>\n",
       "    <tr>\n",
       "      <th>3</th>\n",
       "      <td>4</td>\n",
       "      <td>1</td>\n",
       "      <td>1</td>\n",
       "      <td>Futrelle, Mrs. Jacques Heath (Lily May Peel)</td>\n",
       "      <td>35.0</td>\n",
       "      <td>1</td>\n",
       "      <td>0</td>\n",
       "      <td>113803</td>\n",
       "      <td>53.1000</td>\n",
       "      <td>C123</td>\n",
       "      <td>True</td>\n",
       "      <td>False</td>\n",
       "      <td>False</td>\n",
       "      <td>False</td>\n",
       "      <td>True</td>\n",
       "    </tr>\n",
       "    <tr>\n",
       "      <th>4</th>\n",
       "      <td>5</td>\n",
       "      <td>0</td>\n",
       "      <td>3</td>\n",
       "      <td>Allen, Mr. William Henry</td>\n",
       "      <td>35.0</td>\n",
       "      <td>0</td>\n",
       "      <td>0</td>\n",
       "      <td>373450</td>\n",
       "      <td>8.0500</td>\n",
       "      <td>B96 B98</td>\n",
       "      <td>False</td>\n",
       "      <td>True</td>\n",
       "      <td>False</td>\n",
       "      <td>False</td>\n",
       "      <td>True</td>\n",
       "    </tr>\n",
       "  </tbody>\n",
       "</table>\n",
       "</div>"
      ],
      "text/plain": [
       "   PassengerId  Survived  Pclass  \\\n",
       "0            1         0       3   \n",
       "1            2         1       1   \n",
       "2            3         1       3   \n",
       "3            4         1       1   \n",
       "4            5         0       3   \n",
       "\n",
       "                                                Name   Age  SibSp  Parch  \\\n",
       "0                            Braund, Mr. Owen Harris  22.0      1      0   \n",
       "1  Cumings, Mrs. John Bradley (Florence Briggs Th...  38.0      1      0   \n",
       "2                             Heikkinen, Miss. Laina  26.0      0      0   \n",
       "3       Futrelle, Mrs. Jacques Heath (Lily May Peel)  35.0      1      0   \n",
       "4                           Allen, Mr. William Henry  35.0      0      0   \n",
       "\n",
       "             Ticket     Fare    Cabin  Sex_female  Sex_male  Embarked_C  \\\n",
       "0         A/5 21171   7.2500  B96 B98       False      True       False   \n",
       "1          PC 17599  71.2833      C85        True     False        True   \n",
       "2  STON/O2. 3101282   7.9250  B96 B98        True     False       False   \n",
       "3            113803  53.1000     C123        True     False       False   \n",
       "4            373450   8.0500  B96 B98       False      True       False   \n",
       "\n",
       "   Embarked_Q  Embarked_S  \n",
       "0       False        True  \n",
       "1       False       False  \n",
       "2       False        True  \n",
       "3       False        True  \n",
       "4       False        True  "
      ]
     },
     "execution_count": 12,
     "metadata": {},
     "output_type": "execute_result"
    }
   ],
   "source": [
    "train1.head()"
   ]
  },
  {
   "cell_type": "markdown",
   "id": "d776a18c",
   "metadata": {
    "papermill": {
     "duration": 0.012944,
     "end_time": "2024-08-06T07:16:46.986041",
     "exception": false,
     "start_time": "2024-08-06T07:16:46.973097",
     "status": "completed"
    },
    "tags": []
   },
   "source": [
    "## 生存書予測"
   ]
  },
  {
   "cell_type": "code",
   "execution_count": 13,
   "id": "38ba7629",
   "metadata": {
    "execution": {
     "iopub.execute_input": "2024-08-06T07:16:47.014349Z",
     "iopub.status.busy": "2024-08-06T07:16:47.013952Z",
     "iopub.status.idle": "2024-08-06T07:16:48.490774Z",
     "shell.execute_reply": "2024-08-06T07:16:48.489567Z"
    },
    "papermill": {
     "duration": 1.494377,
     "end_time": "2024-08-06T07:16:48.493620",
     "exception": false,
     "start_time": "2024-08-06T07:16:46.999243",
     "status": "completed"
    },
    "tags": []
   },
   "outputs": [],
   "source": [
    "from sklearn.neighbors import KNeighborsClassifier\n",
    "clf = KNeighborsClassifier(n_neighbors=1)\n",
    "\n",
    "X_train1 = train1[[\"Pclass\", \"Age\", \"SibSp\", \"Parch\", \"Fare\", \"Sex_female\", \"Sex_male\", \"Embarked_C\", \"Embarked_Q\", \"Embarked_S\"]]\n",
    "y_train1 = train1[\"Survived\"]\n",
    "\n",
    "X_test1 = test1[[\"Pclass\", \"Age\", \"SibSp\", \"Parch\", \"Fare\", \"Sex_female\", \"Sex_male\", \"Embarked_C\", \"Embarked_Q\", \"Embarked_S\"]]\n",
    "\n",
    "clf.fit(X_train1, y_train1)\n",
    "\n",
    "# t_test に予測結果を格納\n",
    "y_test1 = clf.predict(X_test1)"
   ]
  },
  {
   "cell_type": "code",
   "execution_count": 14,
   "id": "2bbaed7f",
   "metadata": {
    "execution": {
     "iopub.execute_input": "2024-08-06T07:16:48.522066Z",
     "iopub.status.busy": "2024-08-06T07:16:48.521620Z",
     "iopub.status.idle": "2024-08-06T07:16:48.533236Z",
     "shell.execute_reply": "2024-08-06T07:16:48.531986Z"
    },
    "papermill": {
     "duration": 0.028938,
     "end_time": "2024-08-06T07:16:48.536063",
     "exception": false,
     "start_time": "2024-08-06T07:16:48.507125",
     "status": "completed"
    },
    "tags": []
   },
   "outputs": [],
   "source": [
    "# 回答ファイルの作成・エクスポート\n",
    "# PassengerId を取得\n",
    "PassengerId1 = np.array(test1[\"PassengerId\"]).astype(int)\n",
    "\n",
    "# y_test と PassengerId を結合\n",
    "answer1 = pd.DataFrame(y_test1, PassengerId1, columns = [\"Survived\"])\n",
    "\n",
    "# titanic_answer_01.csv としてエクスポート\n",
    "answer1.to_csv(\"titanic_answer_01.csv\", index_label = [\"PassengerId\"])"
   ]
  },
  {
   "cell_type": "code",
   "execution_count": 15,
   "id": "d662fb3c",
   "metadata": {
    "execution": {
     "iopub.execute_input": "2024-08-06T07:16:48.564526Z",
     "iopub.status.busy": "2024-08-06T07:16:48.564130Z",
     "iopub.status.idle": "2024-08-06T07:16:48.574215Z",
     "shell.execute_reply": "2024-08-06T07:16:48.573075Z"
    },
    "papermill": {
     "duration": 0.027299,
     "end_time": "2024-08-06T07:16:48.576887",
     "exception": false,
     "start_time": "2024-08-06T07:16:48.549588",
     "status": "completed"
    },
    "tags": []
   },
   "outputs": [
    {
     "data": {
      "text/html": [
       "<div>\n",
       "<style scoped>\n",
       "    .dataframe tbody tr th:only-of-type {\n",
       "        vertical-align: middle;\n",
       "    }\n",
       "\n",
       "    .dataframe tbody tr th {\n",
       "        vertical-align: top;\n",
       "    }\n",
       "\n",
       "    .dataframe thead th {\n",
       "        text-align: right;\n",
       "    }\n",
       "</style>\n",
       "<table border=\"1\" class=\"dataframe\">\n",
       "  <thead>\n",
       "    <tr style=\"text-align: right;\">\n",
       "      <th></th>\n",
       "      <th>Survived</th>\n",
       "    </tr>\n",
       "  </thead>\n",
       "  <tbody>\n",
       "    <tr>\n",
       "      <th>892</th>\n",
       "      <td>0</td>\n",
       "    </tr>\n",
       "    <tr>\n",
       "      <th>893</th>\n",
       "      <td>0</td>\n",
       "    </tr>\n",
       "    <tr>\n",
       "      <th>894</th>\n",
       "      <td>1</td>\n",
       "    </tr>\n",
       "    <tr>\n",
       "      <th>895</th>\n",
       "      <td>1</td>\n",
       "    </tr>\n",
       "    <tr>\n",
       "      <th>896</th>\n",
       "      <td>0</td>\n",
       "    </tr>\n",
       "  </tbody>\n",
       "</table>\n",
       "</div>"
      ],
      "text/plain": [
       "     Survived\n",
       "892         0\n",
       "893         0\n",
       "894         1\n",
       "895         1\n",
       "896         0"
      ]
     },
     "execution_count": 15,
     "metadata": {},
     "output_type": "execute_result"
    }
   ],
   "source": [
    "answer1.head()"
   ]
  },
  {
   "cell_type": "markdown",
   "id": "8a6bbbec",
   "metadata": {
    "papermill": {
     "duration": 0.013395,
     "end_time": "2024-08-06T07:16:48.603927",
     "exception": false,
     "start_time": "2024-08-06T07:16:48.590532",
     "status": "completed"
    },
    "tags": []
   },
   "source": [
    "# GBDT"
   ]
  },
  {
   "cell_type": "code",
   "execution_count": 16,
   "id": "b78bff94",
   "metadata": {
    "execution": {
     "iopub.execute_input": "2024-08-06T07:16:48.632962Z",
     "iopub.status.busy": "2024-08-06T07:16:48.632546Z",
     "iopub.status.idle": "2024-08-06T07:16:48.641100Z",
     "shell.execute_reply": "2024-08-06T07:16:48.639972Z"
    },
    "papermill": {
     "duration": 0.026258,
     "end_time": "2024-08-06T07:16:48.643839",
     "exception": false,
     "start_time": "2024-08-06T07:16:48.617581",
     "status": "completed"
    },
    "tags": []
   },
   "outputs": [],
   "source": [
    "# データの取得\n",
    "train2 = train.copy()\n",
    "test2 = test.copy()\n",
    "\n",
    "# 目的変数と特徴量に分ける\n",
    "train2_x = train2.drop(['Survived'], axis=1)\n",
    "train2_y = train['Survived']\n",
    "\n",
    "# テストデータは特徴量のみ\n",
    "test2_x = test2.copy()"
   ]
  },
  {
   "cell_type": "code",
   "execution_count": 17,
   "id": "76a14f4c",
   "metadata": {
    "execution": {
     "iopub.execute_input": "2024-08-06T07:16:48.673143Z",
     "iopub.status.busy": "2024-08-06T07:16:48.672687Z",
     "iopub.status.idle": "2024-08-06T07:16:48.690512Z",
     "shell.execute_reply": "2024-08-06T07:16:48.689253Z"
    },
    "papermill": {
     "duration": 0.035463,
     "end_time": "2024-08-06T07:16:48.693374",
     "exception": false,
     "start_time": "2024-08-06T07:16:48.657911",
     "status": "completed"
    },
    "tags": []
   },
   "outputs": [
    {
     "data": {
      "text/html": [
       "<div>\n",
       "<style scoped>\n",
       "    .dataframe tbody tr th:only-of-type {\n",
       "        vertical-align: middle;\n",
       "    }\n",
       "\n",
       "    .dataframe tbody tr th {\n",
       "        vertical-align: top;\n",
       "    }\n",
       "\n",
       "    .dataframe thead th {\n",
       "        text-align: right;\n",
       "    }\n",
       "</style>\n",
       "<table border=\"1\" class=\"dataframe\">\n",
       "  <thead>\n",
       "    <tr style=\"text-align: right;\">\n",
       "      <th></th>\n",
       "      <th>PassengerId</th>\n",
       "      <th>Survived</th>\n",
       "      <th>Pclass</th>\n",
       "      <th>Name</th>\n",
       "      <th>Sex</th>\n",
       "      <th>Age</th>\n",
       "      <th>SibSp</th>\n",
       "      <th>Parch</th>\n",
       "      <th>Ticket</th>\n",
       "      <th>Fare</th>\n",
       "      <th>Cabin</th>\n",
       "      <th>Embarked</th>\n",
       "    </tr>\n",
       "  </thead>\n",
       "  <tbody>\n",
       "    <tr>\n",
       "      <th>0</th>\n",
       "      <td>1</td>\n",
       "      <td>0</td>\n",
       "      <td>3</td>\n",
       "      <td>Braund, Mr. Owen Harris</td>\n",
       "      <td>male</td>\n",
       "      <td>22.0</td>\n",
       "      <td>1</td>\n",
       "      <td>0</td>\n",
       "      <td>A/5 21171</td>\n",
       "      <td>7.2500</td>\n",
       "      <td>NaN</td>\n",
       "      <td>S</td>\n",
       "    </tr>\n",
       "    <tr>\n",
       "      <th>1</th>\n",
       "      <td>2</td>\n",
       "      <td>1</td>\n",
       "      <td>1</td>\n",
       "      <td>Cumings, Mrs. John Bradley (Florence Briggs Th...</td>\n",
       "      <td>female</td>\n",
       "      <td>38.0</td>\n",
       "      <td>1</td>\n",
       "      <td>0</td>\n",
       "      <td>PC 17599</td>\n",
       "      <td>71.2833</td>\n",
       "      <td>C85</td>\n",
       "      <td>C</td>\n",
       "    </tr>\n",
       "    <tr>\n",
       "      <th>2</th>\n",
       "      <td>3</td>\n",
       "      <td>1</td>\n",
       "      <td>3</td>\n",
       "      <td>Heikkinen, Miss. Laina</td>\n",
       "      <td>female</td>\n",
       "      <td>26.0</td>\n",
       "      <td>0</td>\n",
       "      <td>0</td>\n",
       "      <td>STON/O2. 3101282</td>\n",
       "      <td>7.9250</td>\n",
       "      <td>NaN</td>\n",
       "      <td>S</td>\n",
       "    </tr>\n",
       "    <tr>\n",
       "      <th>3</th>\n",
       "      <td>4</td>\n",
       "      <td>1</td>\n",
       "      <td>1</td>\n",
       "      <td>Futrelle, Mrs. Jacques Heath (Lily May Peel)</td>\n",
       "      <td>female</td>\n",
       "      <td>35.0</td>\n",
       "      <td>1</td>\n",
       "      <td>0</td>\n",
       "      <td>113803</td>\n",
       "      <td>53.1000</td>\n",
       "      <td>C123</td>\n",
       "      <td>S</td>\n",
       "    </tr>\n",
       "    <tr>\n",
       "      <th>4</th>\n",
       "      <td>5</td>\n",
       "      <td>0</td>\n",
       "      <td>3</td>\n",
       "      <td>Allen, Mr. William Henry</td>\n",
       "      <td>male</td>\n",
       "      <td>35.0</td>\n",
       "      <td>0</td>\n",
       "      <td>0</td>\n",
       "      <td>373450</td>\n",
       "      <td>8.0500</td>\n",
       "      <td>NaN</td>\n",
       "      <td>S</td>\n",
       "    </tr>\n",
       "  </tbody>\n",
       "</table>\n",
       "</div>"
      ],
      "text/plain": [
       "   PassengerId  Survived  Pclass  \\\n",
       "0            1         0       3   \n",
       "1            2         1       1   \n",
       "2            3         1       3   \n",
       "3            4         1       1   \n",
       "4            5         0       3   \n",
       "\n",
       "                                                Name     Sex   Age  SibSp  \\\n",
       "0                            Braund, Mr. Owen Harris    male  22.0      1   \n",
       "1  Cumings, Mrs. John Bradley (Florence Briggs Th...  female  38.0      1   \n",
       "2                             Heikkinen, Miss. Laina  female  26.0      0   \n",
       "3       Futrelle, Mrs. Jacques Heath (Lily May Peel)  female  35.0      1   \n",
       "4                           Allen, Mr. William Henry    male  35.0      0   \n",
       "\n",
       "   Parch            Ticket     Fare Cabin Embarked  \n",
       "0      0         A/5 21171   7.2500   NaN        S  \n",
       "1      0          PC 17599  71.2833   C85        C  \n",
       "2      0  STON/O2. 3101282   7.9250   NaN        S  \n",
       "3      0            113803  53.1000  C123        S  \n",
       "4      0            373450   8.0500   NaN        S  "
      ]
     },
     "execution_count": 17,
     "metadata": {},
     "output_type": "execute_result"
    }
   ],
   "source": [
    "train2.head()"
   ]
  },
  {
   "cell_type": "markdown",
   "id": "be56939e",
   "metadata": {
    "papermill": {
     "duration": 0.01345,
     "end_time": "2024-08-06T07:16:48.720659",
     "exception": false,
     "start_time": "2024-08-06T07:16:48.707209",
     "status": "completed"
    },
    "tags": []
   },
   "source": [
    "## 特徴量の作成"
   ]
  },
  {
   "cell_type": "code",
   "execution_count": 18,
   "id": "ceeb6444",
   "metadata": {
    "execution": {
     "iopub.execute_input": "2024-08-06T07:16:48.750338Z",
     "iopub.status.busy": "2024-08-06T07:16:48.749514Z",
     "iopub.status.idle": "2024-08-06T07:16:48.758211Z",
     "shell.execute_reply": "2024-08-06T07:16:48.756162Z"
    },
    "papermill": {
     "duration": 0.026906,
     "end_time": "2024-08-06T07:16:48.761385",
     "exception": false,
     "start_time": "2024-08-06T07:16:48.734479",
     "status": "completed"
    },
    "tags": []
   },
   "outputs": [],
   "source": [
    "from sklearn.preprocessing import LabelEncoder\n",
    "\n",
    "# 変数PassegerIdを取得する\n",
    "train2_x = train2_x.drop(['PassengerId'], axis=1)\n",
    "test2_x = test2_x.drop(['PassengerId'], axis=1)"
   ]
  },
  {
   "cell_type": "code",
   "execution_count": 19,
   "id": "b4215309",
   "metadata": {
    "execution": {
     "iopub.execute_input": "2024-08-06T07:16:48.792326Z",
     "iopub.status.busy": "2024-08-06T07:16:48.790775Z",
     "iopub.status.idle": "2024-08-06T07:16:48.877860Z",
     "shell.execute_reply": "2024-08-06T07:16:48.876745Z"
    },
    "papermill": {
     "duration": 0.104984,
     "end_time": "2024-08-06T07:16:48.880561",
     "exception": false,
     "start_time": "2024-08-06T07:16:48.775577",
     "status": "completed"
    },
    "tags": []
   },
   "outputs": [],
   "source": [
    "# 変数Name, Ticket, Cabinを除外する\n",
    "train2_x = train2_x.drop(['Name', 'Ticket', 'Cabin'], axis=1)\n",
    "test2_x = test2_x.drop(['Name', 'Ticket', 'Cabin'], axis=1)"
   ]
  },
  {
   "cell_type": "code",
   "execution_count": 20,
   "id": "3f7e885d",
   "metadata": {
    "execution": {
     "iopub.execute_input": "2024-08-06T07:16:48.909741Z",
     "iopub.status.busy": "2024-08-06T07:16:48.909352Z",
     "iopub.status.idle": "2024-08-06T07:16:48.922264Z",
     "shell.execute_reply": "2024-08-06T07:16:48.921226Z"
    },
    "papermill": {
     "duration": 0.030335,
     "end_time": "2024-08-06T07:16:48.924755",
     "exception": false,
     "start_time": "2024-08-06T07:16:48.894420",
     "status": "completed"
    },
    "tags": []
   },
   "outputs": [],
   "source": [
    "# それぞれのカテゴリ変数にlabel encordingを適用する\n",
    "for c in ['Sex', 'Embarked']:\n",
    "    le = LabelEncoder()\n",
    "    le.fit(train2_x[c].fillna('NA'))\n",
    "    \n",
    "    # 学習データ、テストデータを変換する\n",
    "    train2_x[c] = le.transform(train2_x[c].fillna('NA'))\n",
    "    test2_x[c] = le.transform(test2_x[c].fillna('NA'))"
   ]
  },
  {
   "cell_type": "markdown",
   "id": "a12cdef0",
   "metadata": {
    "papermill": {
     "duration": 0.013579,
     "end_time": "2024-08-06T07:16:48.953216",
     "exception": false,
     "start_time": "2024-08-06T07:16:48.939637",
     "status": "completed"
    },
    "tags": []
   },
   "source": [
    "## モデルの作成\n",
    "今回は、GBDTの中でもよく使用されるxgboostを使用する"
   ]
  },
  {
   "cell_type": "code",
   "execution_count": 21,
   "id": "565ec228",
   "metadata": {
    "execution": {
     "iopub.execute_input": "2024-08-06T07:16:48.982929Z",
     "iopub.status.busy": "2024-08-06T07:16:48.981923Z",
     "iopub.status.idle": "2024-08-06T07:16:49.258622Z",
     "shell.execute_reply": "2024-08-06T07:16:49.257716Z"
    },
    "papermill": {
     "duration": 0.294543,
     "end_time": "2024-08-06T07:16:49.261457",
     "exception": false,
     "start_time": "2024-08-06T07:16:48.966914",
     "status": "completed"
    },
    "tags": []
   },
   "outputs": [
    {
     "data": {
      "text/html": [
       "<style>#sk-container-id-1 {color: black;background-color: white;}#sk-container-id-1 pre{padding: 0;}#sk-container-id-1 div.sk-toggleable {background-color: white;}#sk-container-id-1 label.sk-toggleable__label {cursor: pointer;display: block;width: 100%;margin-bottom: 0;padding: 0.3em;box-sizing: border-box;text-align: center;}#sk-container-id-1 label.sk-toggleable__label-arrow:before {content: \"▸\";float: left;margin-right: 0.25em;color: #696969;}#sk-container-id-1 label.sk-toggleable__label-arrow:hover:before {color: black;}#sk-container-id-1 div.sk-estimator:hover label.sk-toggleable__label-arrow:before {color: black;}#sk-container-id-1 div.sk-toggleable__content {max-height: 0;max-width: 0;overflow: hidden;text-align: left;background-color: #f0f8ff;}#sk-container-id-1 div.sk-toggleable__content pre {margin: 0.2em;color: black;border-radius: 0.25em;background-color: #f0f8ff;}#sk-container-id-1 input.sk-toggleable__control:checked~div.sk-toggleable__content {max-height: 200px;max-width: 100%;overflow: auto;}#sk-container-id-1 input.sk-toggleable__control:checked~label.sk-toggleable__label-arrow:before {content: \"▾\";}#sk-container-id-1 div.sk-estimator input.sk-toggleable__control:checked~label.sk-toggleable__label {background-color: #d4ebff;}#sk-container-id-1 div.sk-label input.sk-toggleable__control:checked~label.sk-toggleable__label {background-color: #d4ebff;}#sk-container-id-1 input.sk-hidden--visually {border: 0;clip: rect(1px 1px 1px 1px);clip: rect(1px, 1px, 1px, 1px);height: 1px;margin: -1px;overflow: hidden;padding: 0;position: absolute;width: 1px;}#sk-container-id-1 div.sk-estimator {font-family: monospace;background-color: #f0f8ff;border: 1px dotted black;border-radius: 0.25em;box-sizing: border-box;margin-bottom: 0.5em;}#sk-container-id-1 div.sk-estimator:hover {background-color: #d4ebff;}#sk-container-id-1 div.sk-parallel-item::after {content: \"\";width: 100%;border-bottom: 1px solid gray;flex-grow: 1;}#sk-container-id-1 div.sk-label:hover label.sk-toggleable__label {background-color: #d4ebff;}#sk-container-id-1 div.sk-serial::before {content: \"\";position: absolute;border-left: 1px solid gray;box-sizing: border-box;top: 0;bottom: 0;left: 50%;z-index: 0;}#sk-container-id-1 div.sk-serial {display: flex;flex-direction: column;align-items: center;background-color: white;padding-right: 0.2em;padding-left: 0.2em;position: relative;}#sk-container-id-1 div.sk-item {position: relative;z-index: 1;}#sk-container-id-1 div.sk-parallel {display: flex;align-items: stretch;justify-content: center;background-color: white;position: relative;}#sk-container-id-1 div.sk-item::before, #sk-container-id-1 div.sk-parallel-item::before {content: \"\";position: absolute;border-left: 1px solid gray;box-sizing: border-box;top: 0;bottom: 0;left: 50%;z-index: -1;}#sk-container-id-1 div.sk-parallel-item {display: flex;flex-direction: column;z-index: 1;position: relative;background-color: white;}#sk-container-id-1 div.sk-parallel-item:first-child::after {align-self: flex-end;width: 50%;}#sk-container-id-1 div.sk-parallel-item:last-child::after {align-self: flex-start;width: 50%;}#sk-container-id-1 div.sk-parallel-item:only-child::after {width: 0;}#sk-container-id-1 div.sk-dashed-wrapped {border: 1px dashed gray;margin: 0 0.4em 0.5em 0.4em;box-sizing: border-box;padding-bottom: 0.4em;background-color: white;}#sk-container-id-1 div.sk-label label {font-family: monospace;font-weight: bold;display: inline-block;line-height: 1.2em;}#sk-container-id-1 div.sk-label-container {text-align: center;}#sk-container-id-1 div.sk-container {/* jupyter's `normalize.less` sets `[hidden] { display: none; }` but bootstrap.min.css set `[hidden] { display: none !important; }` so we also need the `!important` here to be able to override the default hidden behavior on the sphinx rendered scikit-learn.org. See: https://github.com/scikit-learn/scikit-learn/issues/21755 */display: inline-block !important;position: relative;}#sk-container-id-1 div.sk-text-repr-fallback {display: none;}</style><div id=\"sk-container-id-1\" class=\"sk-top-container\"><div class=\"sk-text-repr-fallback\"><pre>XGBClassifier(base_score=None, booster=None, callbacks=None,\n",
       "              colsample_bylevel=None, colsample_bynode=None,\n",
       "              colsample_bytree=None, device=None, early_stopping_rounds=None,\n",
       "              enable_categorical=False, eval_metric=None, feature_types=None,\n",
       "              gamma=None, grow_policy=None, importance_type=None,\n",
       "              interaction_constraints=None, learning_rate=None, max_bin=None,\n",
       "              max_cat_threshold=None, max_cat_to_onehot=None,\n",
       "              max_delta_step=None, max_depth=None, max_leaves=None,\n",
       "              min_child_weight=None, missing=nan, monotone_constraints=None,\n",
       "              multi_strategy=None, n_estimators=20, n_jobs=None,\n",
       "              num_parallel_tree=None, random_state=71, ...)</pre><b>In a Jupyter environment, please rerun this cell to show the HTML representation or trust the notebook. <br />On GitHub, the HTML representation is unable to render, please try loading this page with nbviewer.org.</b></div><div class=\"sk-container\" hidden><div class=\"sk-item\"><div class=\"sk-estimator sk-toggleable\"><input class=\"sk-toggleable__control sk-hidden--visually\" id=\"sk-estimator-id-1\" type=\"checkbox\" checked><label for=\"sk-estimator-id-1\" class=\"sk-toggleable__label sk-toggleable__label-arrow\">XGBClassifier</label><div class=\"sk-toggleable__content\"><pre>XGBClassifier(base_score=None, booster=None, callbacks=None,\n",
       "              colsample_bylevel=None, colsample_bynode=None,\n",
       "              colsample_bytree=None, device=None, early_stopping_rounds=None,\n",
       "              enable_categorical=False, eval_metric=None, feature_types=None,\n",
       "              gamma=None, grow_policy=None, importance_type=None,\n",
       "              interaction_constraints=None, learning_rate=None, max_bin=None,\n",
       "              max_cat_threshold=None, max_cat_to_onehot=None,\n",
       "              max_delta_step=None, max_depth=None, max_leaves=None,\n",
       "              min_child_weight=None, missing=nan, monotone_constraints=None,\n",
       "              multi_strategy=None, n_estimators=20, n_jobs=None,\n",
       "              num_parallel_tree=None, random_state=71, ...)</pre></div></div></div></div></div>"
      ],
      "text/plain": [
       "XGBClassifier(base_score=None, booster=None, callbacks=None,\n",
       "              colsample_bylevel=None, colsample_bynode=None,\n",
       "              colsample_bytree=None, device=None, early_stopping_rounds=None,\n",
       "              enable_categorical=False, eval_metric=None, feature_types=None,\n",
       "              gamma=None, grow_policy=None, importance_type=None,\n",
       "              interaction_constraints=None, learning_rate=None, max_bin=None,\n",
       "              max_cat_threshold=None, max_cat_to_onehot=None,\n",
       "              max_delta_step=None, max_depth=None, max_leaves=None,\n",
       "              min_child_weight=None, missing=nan, monotone_constraints=None,\n",
       "              multi_strategy=None, n_estimators=20, n_jobs=None,\n",
       "              num_parallel_tree=None, random_state=71, ...)"
      ]
     },
     "execution_count": 21,
     "metadata": {},
     "output_type": "execute_result"
    }
   ],
   "source": [
    "from xgboost import XGBClassifier\n",
    "\n",
    "# モデルの作成および学習データを与えて学習\n",
    "model = XGBClassifier(n_estimators=20, random_state=71)\n",
    "model.fit(train2_x, train2_y)"
   ]
  },
  {
   "cell_type": "code",
   "execution_count": 22,
   "id": "26c52a76",
   "metadata": {
    "execution": {
     "iopub.execute_input": "2024-08-06T07:16:49.292195Z",
     "iopub.status.busy": "2024-08-06T07:16:49.291798Z",
     "iopub.status.idle": "2024-08-06T07:16:49.302253Z",
     "shell.execute_reply": "2024-08-06T07:16:49.301374Z"
    },
    "papermill": {
     "duration": 0.028371,
     "end_time": "2024-08-06T07:16:49.304657",
     "exception": false,
     "start_time": "2024-08-06T07:16:49.276286",
     "status": "completed"
    },
    "tags": []
   },
   "outputs": [],
   "source": [
    "# テストデータの予測値を確率で出力する\n",
    "pred = model.predict_proba(test2_x)[:,1]"
   ]
  },
  {
   "cell_type": "code",
   "execution_count": 23,
   "id": "c834246c",
   "metadata": {
    "execution": {
     "iopub.execute_input": "2024-08-06T07:16:49.338550Z",
     "iopub.status.busy": "2024-08-06T07:16:49.338132Z",
     "iopub.status.idle": "2024-08-06T07:16:49.343357Z",
     "shell.execute_reply": "2024-08-06T07:16:49.342092Z"
    },
    "papermill": {
     "duration": 0.023269,
     "end_time": "2024-08-06T07:16:49.345944",
     "exception": false,
     "start_time": "2024-08-06T07:16:49.322675",
     "status": "completed"
    },
    "tags": []
   },
   "outputs": [],
   "source": [
    "# テストデータの予測値を二値に変換する\n",
    "pred_label = np.where(pred>0.5,1,0)"
   ]
  },
  {
   "cell_type": "code",
   "execution_count": 24,
   "id": "95313a7c",
   "metadata": {
    "execution": {
     "iopub.execute_input": "2024-08-06T07:16:49.377155Z",
     "iopub.status.busy": "2024-08-06T07:16:49.375885Z",
     "iopub.status.idle": "2024-08-06T07:16:49.385231Z",
     "shell.execute_reply": "2024-08-06T07:16:49.384277Z"
    },
    "papermill": {
     "duration": 0.027399,
     "end_time": "2024-08-06T07:16:49.387593",
     "exception": false,
     "start_time": "2024-08-06T07:16:49.360194",
     "status": "completed"
    },
    "tags": []
   },
   "outputs": [],
   "source": [
    "# 提出用のファイルの作成\n",
    "submission = pd.DataFrame({'Survived':pred_label})\n",
    "submission.insert(0, 'PassengerId', test['PassengerId'])\n",
    "submission.to_csv('titanic_answer_02.csv', index=False)"
   ]
  },
  {
   "cell_type": "code",
   "execution_count": 25,
   "id": "2f74c1da",
   "metadata": {
    "execution": {
     "iopub.execute_input": "2024-08-06T07:16:49.417799Z",
     "iopub.status.busy": "2024-08-06T07:16:49.417388Z",
     "iopub.status.idle": "2024-08-06T07:16:49.427155Z",
     "shell.execute_reply": "2024-08-06T07:16:49.425930Z"
    },
    "papermill": {
     "duration": 0.027827,
     "end_time": "2024-08-06T07:16:49.429648",
     "exception": false,
     "start_time": "2024-08-06T07:16:49.401821",
     "status": "completed"
    },
    "tags": []
   },
   "outputs": [],
   "source": [
    "# 回答ファイルの作成・エクスポート\n",
    "# PassengerId を取得\n",
    "PassengerId2 = np.array(test2[\"PassengerId\"]).astype(int)\n",
    "\n",
    "# y_test と PassengerId を結合\n",
    "answer2 = pd.DataFrame(pred_label, PassengerId2, columns = [\"Survived\"])\n",
    "\n",
    "# titanic_answer_01.csv としてエクスポート\n",
    "answer2.to_csv(\"titanic_answer_02.csv\", index_label = [\"PassengerId\"])"
   ]
  },
  {
   "cell_type": "markdown",
   "id": "f9c80484",
   "metadata": {
    "papermill": {
     "duration": 0.013882,
     "end_time": "2024-08-06T07:16:49.457689",
     "exception": false,
     "start_time": "2024-08-06T07:16:49.443807",
     "status": "completed"
    },
    "tags": []
   },
   "source": [
    "# 提出用ファイルの確認"
   ]
  },
  {
   "cell_type": "code",
   "execution_count": 26,
   "id": "152f5ec7",
   "metadata": {
    "execution": {
     "iopub.execute_input": "2024-08-06T07:16:49.488281Z",
     "iopub.status.busy": "2024-08-06T07:16:49.487714Z",
     "iopub.status.idle": "2024-08-06T07:16:49.503526Z",
     "shell.execute_reply": "2024-08-06T07:16:49.502445Z"
    },
    "papermill": {
     "duration": 0.034302,
     "end_time": "2024-08-06T07:16:49.506543",
     "exception": false,
     "start_time": "2024-08-06T07:16:49.472241",
     "status": "completed"
    },
    "tags": []
   },
   "outputs": [
    {
     "data": {
      "text/html": [
       "<div>\n",
       "<style scoped>\n",
       "    .dataframe tbody tr th:only-of-type {\n",
       "        vertical-align: middle;\n",
       "    }\n",
       "\n",
       "    .dataframe tbody tr th {\n",
       "        vertical-align: top;\n",
       "    }\n",
       "\n",
       "    .dataframe thead th {\n",
       "        text-align: right;\n",
       "    }\n",
       "</style>\n",
       "<table border=\"1\" class=\"dataframe\">\n",
       "  <thead>\n",
       "    <tr style=\"text-align: right;\">\n",
       "      <th></th>\n",
       "      <th>PassengerId</th>\n",
       "      <th>Survived</th>\n",
       "    </tr>\n",
       "  </thead>\n",
       "  <tbody>\n",
       "    <tr>\n",
       "      <th>0</th>\n",
       "      <td>892</td>\n",
       "      <td>0</td>\n",
       "    </tr>\n",
       "    <tr>\n",
       "      <th>1</th>\n",
       "      <td>893</td>\n",
       "      <td>1</td>\n",
       "    </tr>\n",
       "    <tr>\n",
       "      <th>2</th>\n",
       "      <td>894</td>\n",
       "      <td>0</td>\n",
       "    </tr>\n",
       "    <tr>\n",
       "      <th>3</th>\n",
       "      <td>895</td>\n",
       "      <td>0</td>\n",
       "    </tr>\n",
       "    <tr>\n",
       "      <th>4</th>\n",
       "      <td>896</td>\n",
       "      <td>1</td>\n",
       "    </tr>\n",
       "  </tbody>\n",
       "</table>\n",
       "</div>"
      ],
      "text/plain": [
       "   PassengerId  Survived\n",
       "0          892         0\n",
       "1          893         1\n",
       "2          894         0\n",
       "3          895         0\n",
       "4          896         1"
      ]
     },
     "execution_count": 26,
     "metadata": {},
     "output_type": "execute_result"
    }
   ],
   "source": [
    "gender_submission = pd.read_csv(\"/kaggle/input/titanic/gender_submission.csv\")\n",
    "gender_submission.head()"
   ]
  },
  {
   "cell_type": "code",
   "execution_count": 27,
   "id": "a254d294",
   "metadata": {
    "execution": {
     "iopub.execute_input": "2024-08-06T07:16:49.537653Z",
     "iopub.status.busy": "2024-08-06T07:16:49.537236Z",
     "iopub.status.idle": "2024-08-06T07:16:49.547281Z",
     "shell.execute_reply": "2024-08-06T07:16:49.546143Z"
    },
    "papermill": {
     "duration": 0.028399,
     "end_time": "2024-08-06T07:16:49.549873",
     "exception": false,
     "start_time": "2024-08-06T07:16:49.521474",
     "status": "completed"
    },
    "tags": []
   },
   "outputs": [
    {
     "data": {
      "text/html": [
       "<div>\n",
       "<style scoped>\n",
       "    .dataframe tbody tr th:only-of-type {\n",
       "        vertical-align: middle;\n",
       "    }\n",
       "\n",
       "    .dataframe tbody tr th {\n",
       "        vertical-align: top;\n",
       "    }\n",
       "\n",
       "    .dataframe thead th {\n",
       "        text-align: right;\n",
       "    }\n",
       "</style>\n",
       "<table border=\"1\" class=\"dataframe\">\n",
       "  <thead>\n",
       "    <tr style=\"text-align: right;\">\n",
       "      <th></th>\n",
       "      <th>Survived</th>\n",
       "    </tr>\n",
       "  </thead>\n",
       "  <tbody>\n",
       "    <tr>\n",
       "      <th>892</th>\n",
       "      <td>0</td>\n",
       "    </tr>\n",
       "    <tr>\n",
       "      <th>893</th>\n",
       "      <td>0</td>\n",
       "    </tr>\n",
       "    <tr>\n",
       "      <th>894</th>\n",
       "      <td>1</td>\n",
       "    </tr>\n",
       "    <tr>\n",
       "      <th>895</th>\n",
       "      <td>1</td>\n",
       "    </tr>\n",
       "    <tr>\n",
       "      <th>896</th>\n",
       "      <td>0</td>\n",
       "    </tr>\n",
       "  </tbody>\n",
       "</table>\n",
       "</div>"
      ],
      "text/plain": [
       "     Survived\n",
       "892         0\n",
       "893         0\n",
       "894         1\n",
       "895         1\n",
       "896         0"
      ]
     },
     "execution_count": 27,
     "metadata": {},
     "output_type": "execute_result"
    }
   ],
   "source": [
    "answer1.head()"
   ]
  },
  {
   "cell_type": "code",
   "execution_count": 28,
   "id": "69b64dc5",
   "metadata": {
    "execution": {
     "iopub.execute_input": "2024-08-06T07:16:49.581337Z",
     "iopub.status.busy": "2024-08-06T07:16:49.580859Z",
     "iopub.status.idle": "2024-08-06T07:16:49.591243Z",
     "shell.execute_reply": "2024-08-06T07:16:49.590111Z"
    },
    "papermill": {
     "duration": 0.029025,
     "end_time": "2024-08-06T07:16:49.593712",
     "exception": false,
     "start_time": "2024-08-06T07:16:49.564687",
     "status": "completed"
    },
    "tags": []
   },
   "outputs": [
    {
     "data": {
      "text/html": [
       "<div>\n",
       "<style scoped>\n",
       "    .dataframe tbody tr th:only-of-type {\n",
       "        vertical-align: middle;\n",
       "    }\n",
       "\n",
       "    .dataframe tbody tr th {\n",
       "        vertical-align: top;\n",
       "    }\n",
       "\n",
       "    .dataframe thead th {\n",
       "        text-align: right;\n",
       "    }\n",
       "</style>\n",
       "<table border=\"1\" class=\"dataframe\">\n",
       "  <thead>\n",
       "    <tr style=\"text-align: right;\">\n",
       "      <th></th>\n",
       "      <th>Survived</th>\n",
       "    </tr>\n",
       "  </thead>\n",
       "  <tbody>\n",
       "    <tr>\n",
       "      <th>892</th>\n",
       "      <td>0</td>\n",
       "    </tr>\n",
       "    <tr>\n",
       "      <th>893</th>\n",
       "      <td>0</td>\n",
       "    </tr>\n",
       "    <tr>\n",
       "      <th>894</th>\n",
       "      <td>0</td>\n",
       "    </tr>\n",
       "    <tr>\n",
       "      <th>895</th>\n",
       "      <td>0</td>\n",
       "    </tr>\n",
       "    <tr>\n",
       "      <th>896</th>\n",
       "      <td>1</td>\n",
       "    </tr>\n",
       "  </tbody>\n",
       "</table>\n",
       "</div>"
      ],
      "text/plain": [
       "     Survived\n",
       "892         0\n",
       "893         0\n",
       "894         0\n",
       "895         0\n",
       "896         1"
      ]
     },
     "execution_count": 28,
     "metadata": {},
     "output_type": "execute_result"
    }
   ],
   "source": [
    "answer2.head()"
   ]
  },
  {
   "cell_type": "code",
   "execution_count": null,
   "id": "eff37745",
   "metadata": {
    "papermill": {
     "duration": 0.014958,
     "end_time": "2024-08-06T07:16:49.623680",
     "exception": false,
     "start_time": "2024-08-06T07:16:49.608722",
     "status": "completed"
    },
    "tags": []
   },
   "outputs": [],
   "source": []
  }
 ],
 "metadata": {
  "kaggle": {
   "accelerator": "none",
   "dataSources": [
    {
     "databundleVersionId": 26502,
     "sourceId": 3136,
     "sourceType": "competition"
    }
   ],
   "dockerImageVersionId": 30746,
   "isGpuEnabled": false,
   "isInternetEnabled": true,
   "language": "python",
   "sourceType": "notebook"
  },
  "kernelspec": {
   "display_name": "Python 3",
   "language": "python",
   "name": "python3"
  },
  "language_info": {
   "codemirror_mode": {
    "name": "ipython",
    "version": 3
   },
   "file_extension": ".py",
   "mimetype": "text/x-python",
   "name": "python",
   "nbconvert_exporter": "python",
   "pygments_lexer": "ipython3",
   "version": "3.10.13"
  },
  "papermill": {
   "default_parameters": {},
   "duration": 7.939888,
   "end_time": "2024-08-06T07:16:50.262072",
   "environment_variables": {},
   "exception": null,
   "input_path": "__notebook__.ipynb",
   "output_path": "__notebook__.ipynb",
   "parameters": {},
   "start_time": "2024-08-06T07:16:42.322184",
   "version": "2.5.0"
  }
 },
 "nbformat": 4,
 "nbformat_minor": 5
}
