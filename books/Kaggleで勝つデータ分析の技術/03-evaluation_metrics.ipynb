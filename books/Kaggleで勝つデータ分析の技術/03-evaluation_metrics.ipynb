{
  "nbformat": 4,
  "nbformat_minor": 0,
  "metadata": {
    "colab": {
      "provenance": [],
      "authorship_tag": "ABX9TyOuyCS2OBlxItMkz9AM9SE/",
      "include_colab_link": true
    },
    "kernelspec": {
      "name": "python3",
      "display_name": "Python 3"
    },
    "language_info": {
      "name": "python"
    }
  },
  "cells": [
    {
      "cell_type": "markdown",
      "metadata": {
        "id": "view-in-github",
        "colab_type": "text"
      },
      "source": [
        "<a href=\"https://colab.research.google.com/github/ShotaArima/kaggle/blob/main/books/Kaggle%E3%81%A7%E5%8B%9D%E3%81%A4%E3%83%87%E3%83%BC%E3%82%BF%E5%88%86%E6%9E%90%E3%81%AE%E6%8A%80%E8%A1%93/03-evaluation_metrics.ipynb\" target=\"_parent\"><img src=\"https://colab.research.google.com/assets/colab-badge.svg\" alt=\"Open In Colab\"/></a>"
      ]
    },
    {
      "cell_type": "markdown",
      "source": [
        "# 評価指標\n",
        "ここでは、評価指標についてまとめていく  \n",
        "文献 : \"Kaggleで勝つデータ分析の技術\" 技術評論社"
      ],
      "metadata": {
        "id": "_j5qxdGhj_jC"
      }
    },
    {
      "cell_type": "code",
      "source": [
        "# ライブラリのインポート\n",
        "import numpy as np"
      ],
      "metadata": {
        "id": "ycWfe3vUktV5"
      },
      "execution_count": 4,
      "outputs": []
    },
    {
      "cell_type": "markdown",
      "source": [
        "## RMSE (Root Mean Squared Error)\n",
        "$$\n",
        "\\mathrm{RMSE} = \\sqrt{\\cfrac{1}{N}\\sum^{n}_{i=1}(y_i-\\hat{y}_i)^2}\n",
        "$$"
      ],
      "metadata": {
        "id": "bk-54IWdkG4e"
      }
    },
    {
      "cell_type": "code",
      "source": [
        "from sklearn.metrics import mean_squared_error\n",
        "\n",
        "# y_tureが真の値、y_predが予測値\n",
        "y_true = [1.0, 1.5, 2.8, 1.2, 1.8]\n",
        "y_pred = [0.8, 1.5, 1.8, 1.3, 3.0]\n",
        "\n",
        "rmse = np.sqrt(mean_squared_error(y_true, y_pred))\n",
        "print(rmse)"
      ],
      "metadata": {
        "colab": {
          "base_uri": "https://localhost:8080/"
        },
        "id": "40U7S7Syj_Tm",
        "outputId": "d22d0c96-3a3d-4ec7-9f72-acf2c07550b6"
      },
      "execution_count": 6,
      "outputs": [
        {
          "output_type": "stream",
          "name": "stdout",
          "text": [
            "0.7056911505750939\n"
          ]
        }
      ]
    },
    {
      "cell_type": "code",
      "execution_count": null,
      "metadata": {
        "id": "rvOV9vy9j5Mb"
      },
      "outputs": [],
      "source": []
    }
  ]
}