{
 "cells": [
  {
   "cell_type": "markdown",
   "id": "47efa49e",
   "metadata": {
    "papermill": {
     "duration": 0.00841,
     "end_time": "2024-08-06T07:10:21.523298",
     "exception": false,
     "start_time": "2024-08-06T07:10:21.514888",
     "status": "completed"
    },
    "tags": []
   },
   "source": [
    "# データのインプット"
   ]
  },
  {
   "cell_type": "code",
   "execution_count": 1,
   "id": "46111f09",
   "metadata": {
    "_cell_guid": "b1076dfc-b9ad-4769-8c92-a6c4dae69d19",
    "_uuid": "8f2839f25d086af736a60e9eeb907d3b93b6e0e5",
    "execution": {
     "iopub.execute_input": "2024-08-06T07:10:21.541916Z",
     "iopub.status.busy": "2024-08-06T07:10:21.541475Z",
     "iopub.status.idle": "2024-08-06T07:10:22.431197Z",
     "shell.execute_reply": "2024-08-06T07:10:22.429894Z"
    },
    "papermill": {
     "duration": 0.902385,
     "end_time": "2024-08-06T07:10:22.433646",
     "exception": false,
     "start_time": "2024-08-06T07:10:21.531261",
     "status": "completed"
    },
    "tags": []
   },
   "outputs": [
    {
     "name": "stdout",
     "output_type": "stream",
     "text": [
      "/kaggle/input/titanic/train.csv\n",
      "/kaggle/input/titanic/test.csv\n",
      "/kaggle/input/titanic/gender_submission.csv\n"
     ]
    }
   ],
   "source": [
    "# This Python 3 environment comes with many helpful analytics libraries installed\n",
    "# It is defined by the kaggle/python Docker image: https://github.com/kaggle/docker-python\n",
    "# For example, here's several helpful packages to load\n",
    "\n",
    "import numpy as np # linear algebra\n",
    "import pandas as pd # data processing, CSV file I/O (e.g. pd.read_csv)\n",
    "\n",
    "# Input data files are available in the read-only \"../input/\" directory\n",
    "# For example, running this (by clicking run or pressing Shift+Enter) will list all files under the input directory\n",
    "\n",
    "import os\n",
    "for dirname, _, filenames in os.walk('/kaggle/input'):\n",
    "    for filename in filenames:\n",
    "        print(os.path.join(dirname, filename))\n",
    "\n",
    "# You can write up to 20GB to the current directory (/kaggle/working/) that gets preserved as output when you create a version using \"Save & Run All\" \n",
    "# You can also write temporary files to /kaggle/temp/, but they won't be saved outside of the current session"
   ]
  },
  {
   "cell_type": "code",
   "execution_count": 2,
   "id": "2320a0a7",
   "metadata": {
    "execution": {
     "iopub.execute_input": "2024-08-06T07:10:22.451408Z",
     "iopub.status.busy": "2024-08-06T07:10:22.450873Z",
     "iopub.status.idle": "2024-08-06T07:10:22.499548Z",
     "shell.execute_reply": "2024-08-06T07:10:22.498220Z"
    },
    "papermill": {
     "duration": 0.060407,
     "end_time": "2024-08-06T07:10:22.502109",
     "exception": false,
     "start_time": "2024-08-06T07:10:22.441702",
     "status": "completed"
    },
    "tags": []
   },
   "outputs": [
    {
     "data": {
      "text/html": [
       "<div>\n",
       "<style scoped>\n",
       "    .dataframe tbody tr th:only-of-type {\n",
       "        vertical-align: middle;\n",
       "    }\n",
       "\n",
       "    .dataframe tbody tr th {\n",
       "        vertical-align: top;\n",
       "    }\n",
       "\n",
       "    .dataframe thead th {\n",
       "        text-align: right;\n",
       "    }\n",
       "</style>\n",
       "<table border=\"1\" class=\"dataframe\">\n",
       "  <thead>\n",
       "    <tr style=\"text-align: right;\">\n",
       "      <th></th>\n",
       "      <th>PassengerId</th>\n",
       "      <th>Survived</th>\n",
       "      <th>Pclass</th>\n",
       "      <th>Name</th>\n",
       "      <th>Sex</th>\n",
       "      <th>Age</th>\n",
       "      <th>SibSp</th>\n",
       "      <th>Parch</th>\n",
       "      <th>Ticket</th>\n",
       "      <th>Fare</th>\n",
       "      <th>Cabin</th>\n",
       "      <th>Embarked</th>\n",
       "    </tr>\n",
       "  </thead>\n",
       "  <tbody>\n",
       "    <tr>\n",
       "      <th>0</th>\n",
       "      <td>1</td>\n",
       "      <td>0</td>\n",
       "      <td>3</td>\n",
       "      <td>Braund, Mr. Owen Harris</td>\n",
       "      <td>male</td>\n",
       "      <td>22.0</td>\n",
       "      <td>1</td>\n",
       "      <td>0</td>\n",
       "      <td>A/5 21171</td>\n",
       "      <td>7.2500</td>\n",
       "      <td>NaN</td>\n",
       "      <td>S</td>\n",
       "    </tr>\n",
       "    <tr>\n",
       "      <th>1</th>\n",
       "      <td>2</td>\n",
       "      <td>1</td>\n",
       "      <td>1</td>\n",
       "      <td>Cumings, Mrs. John Bradley (Florence Briggs Th...</td>\n",
       "      <td>female</td>\n",
       "      <td>38.0</td>\n",
       "      <td>1</td>\n",
       "      <td>0</td>\n",
       "      <td>PC 17599</td>\n",
       "      <td>71.2833</td>\n",
       "      <td>C85</td>\n",
       "      <td>C</td>\n",
       "    </tr>\n",
       "    <tr>\n",
       "      <th>2</th>\n",
       "      <td>3</td>\n",
       "      <td>1</td>\n",
       "      <td>3</td>\n",
       "      <td>Heikkinen, Miss. Laina</td>\n",
       "      <td>female</td>\n",
       "      <td>26.0</td>\n",
       "      <td>0</td>\n",
       "      <td>0</td>\n",
       "      <td>STON/O2. 3101282</td>\n",
       "      <td>7.9250</td>\n",
       "      <td>NaN</td>\n",
       "      <td>S</td>\n",
       "    </tr>\n",
       "    <tr>\n",
       "      <th>3</th>\n",
       "      <td>4</td>\n",
       "      <td>1</td>\n",
       "      <td>1</td>\n",
       "      <td>Futrelle, Mrs. Jacques Heath (Lily May Peel)</td>\n",
       "      <td>female</td>\n",
       "      <td>35.0</td>\n",
       "      <td>1</td>\n",
       "      <td>0</td>\n",
       "      <td>113803</td>\n",
       "      <td>53.1000</td>\n",
       "      <td>C123</td>\n",
       "      <td>S</td>\n",
       "    </tr>\n",
       "    <tr>\n",
       "      <th>4</th>\n",
       "      <td>5</td>\n",
       "      <td>0</td>\n",
       "      <td>3</td>\n",
       "      <td>Allen, Mr. William Henry</td>\n",
       "      <td>male</td>\n",
       "      <td>35.0</td>\n",
       "      <td>0</td>\n",
       "      <td>0</td>\n",
       "      <td>373450</td>\n",
       "      <td>8.0500</td>\n",
       "      <td>NaN</td>\n",
       "      <td>S</td>\n",
       "    </tr>\n",
       "  </tbody>\n",
       "</table>\n",
       "</div>"
      ],
      "text/plain": [
       "   PassengerId  Survived  Pclass  \\\n",
       "0            1         0       3   \n",
       "1            2         1       1   \n",
       "2            3         1       3   \n",
       "3            4         1       1   \n",
       "4            5         0       3   \n",
       "\n",
       "                                                Name     Sex   Age  SibSp  \\\n",
       "0                            Braund, Mr. Owen Harris    male  22.0      1   \n",
       "1  Cumings, Mrs. John Bradley (Florence Briggs Th...  female  38.0      1   \n",
       "2                             Heikkinen, Miss. Laina  female  26.0      0   \n",
       "3       Futrelle, Mrs. Jacques Heath (Lily May Peel)  female  35.0      1   \n",
       "4                           Allen, Mr. William Henry    male  35.0      0   \n",
       "\n",
       "   Parch            Ticket     Fare Cabin Embarked  \n",
       "0      0         A/5 21171   7.2500   NaN        S  \n",
       "1      0          PC 17599  71.2833   C85        C  \n",
       "2      0  STON/O2. 3101282   7.9250   NaN        S  \n",
       "3      0            113803  53.1000  C123        S  \n",
       "4      0            373450   8.0500   NaN        S  "
      ]
     },
     "execution_count": 2,
     "metadata": {},
     "output_type": "execute_result"
    }
   ],
   "source": [
    "train = pd.read_csv(\"/kaggle/input/titanic/train.csv\")\n",
    "train.head()"
   ]
  },
  {
   "cell_type": "code",
   "execution_count": 3,
   "id": "3ce46441",
   "metadata": {
    "execution": {
     "iopub.execute_input": "2024-08-06T07:10:22.520919Z",
     "iopub.status.busy": "2024-08-06T07:10:22.519823Z",
     "iopub.status.idle": "2024-08-06T07:10:22.542038Z",
     "shell.execute_reply": "2024-08-06T07:10:22.540953Z"
    },
    "papermill": {
     "duration": 0.033941,
     "end_time": "2024-08-06T07:10:22.544370",
     "exception": false,
     "start_time": "2024-08-06T07:10:22.510429",
     "status": "completed"
    },
    "tags": []
   },
   "outputs": [
    {
     "data": {
      "text/html": [
       "<div>\n",
       "<style scoped>\n",
       "    .dataframe tbody tr th:only-of-type {\n",
       "        vertical-align: middle;\n",
       "    }\n",
       "\n",
       "    .dataframe tbody tr th {\n",
       "        vertical-align: top;\n",
       "    }\n",
       "\n",
       "    .dataframe thead th {\n",
       "        text-align: right;\n",
       "    }\n",
       "</style>\n",
       "<table border=\"1\" class=\"dataframe\">\n",
       "  <thead>\n",
       "    <tr style=\"text-align: right;\">\n",
       "      <th></th>\n",
       "      <th>PassengerId</th>\n",
       "      <th>Pclass</th>\n",
       "      <th>Name</th>\n",
       "      <th>Sex</th>\n",
       "      <th>Age</th>\n",
       "      <th>SibSp</th>\n",
       "      <th>Parch</th>\n",
       "      <th>Ticket</th>\n",
       "      <th>Fare</th>\n",
       "      <th>Cabin</th>\n",
       "      <th>Embarked</th>\n",
       "    </tr>\n",
       "  </thead>\n",
       "  <tbody>\n",
       "    <tr>\n",
       "      <th>0</th>\n",
       "      <td>892</td>\n",
       "      <td>3</td>\n",
       "      <td>Kelly, Mr. James</td>\n",
       "      <td>male</td>\n",
       "      <td>34.5</td>\n",
       "      <td>0</td>\n",
       "      <td>0</td>\n",
       "      <td>330911</td>\n",
       "      <td>7.8292</td>\n",
       "      <td>NaN</td>\n",
       "      <td>Q</td>\n",
       "    </tr>\n",
       "    <tr>\n",
       "      <th>1</th>\n",
       "      <td>893</td>\n",
       "      <td>3</td>\n",
       "      <td>Wilkes, Mrs. James (Ellen Needs)</td>\n",
       "      <td>female</td>\n",
       "      <td>47.0</td>\n",
       "      <td>1</td>\n",
       "      <td>0</td>\n",
       "      <td>363272</td>\n",
       "      <td>7.0000</td>\n",
       "      <td>NaN</td>\n",
       "      <td>S</td>\n",
       "    </tr>\n",
       "    <tr>\n",
       "      <th>2</th>\n",
       "      <td>894</td>\n",
       "      <td>2</td>\n",
       "      <td>Myles, Mr. Thomas Francis</td>\n",
       "      <td>male</td>\n",
       "      <td>62.0</td>\n",
       "      <td>0</td>\n",
       "      <td>0</td>\n",
       "      <td>240276</td>\n",
       "      <td>9.6875</td>\n",
       "      <td>NaN</td>\n",
       "      <td>Q</td>\n",
       "    </tr>\n",
       "    <tr>\n",
       "      <th>3</th>\n",
       "      <td>895</td>\n",
       "      <td>3</td>\n",
       "      <td>Wirz, Mr. Albert</td>\n",
       "      <td>male</td>\n",
       "      <td>27.0</td>\n",
       "      <td>0</td>\n",
       "      <td>0</td>\n",
       "      <td>315154</td>\n",
       "      <td>8.6625</td>\n",
       "      <td>NaN</td>\n",
       "      <td>S</td>\n",
       "    </tr>\n",
       "    <tr>\n",
       "      <th>4</th>\n",
       "      <td>896</td>\n",
       "      <td>3</td>\n",
       "      <td>Hirvonen, Mrs. Alexander (Helga E Lindqvist)</td>\n",
       "      <td>female</td>\n",
       "      <td>22.0</td>\n",
       "      <td>1</td>\n",
       "      <td>1</td>\n",
       "      <td>3101298</td>\n",
       "      <td>12.2875</td>\n",
       "      <td>NaN</td>\n",
       "      <td>S</td>\n",
       "    </tr>\n",
       "  </tbody>\n",
       "</table>\n",
       "</div>"
      ],
      "text/plain": [
       "   PassengerId  Pclass                                          Name     Sex  \\\n",
       "0          892       3                              Kelly, Mr. James    male   \n",
       "1          893       3              Wilkes, Mrs. James (Ellen Needs)  female   \n",
       "2          894       2                     Myles, Mr. Thomas Francis    male   \n",
       "3          895       3                              Wirz, Mr. Albert    male   \n",
       "4          896       3  Hirvonen, Mrs. Alexander (Helga E Lindqvist)  female   \n",
       "\n",
       "    Age  SibSp  Parch   Ticket     Fare Cabin Embarked  \n",
       "0  34.5      0      0   330911   7.8292   NaN        Q  \n",
       "1  47.0      1      0   363272   7.0000   NaN        S  \n",
       "2  62.0      0      0   240276   9.6875   NaN        Q  \n",
       "3  27.0      0      0   315154   8.6625   NaN        S  \n",
       "4  22.0      1      1  3101298  12.2875   NaN        S  "
      ]
     },
     "execution_count": 3,
     "metadata": {},
     "output_type": "execute_result"
    }
   ],
   "source": [
    "test = pd.read_csv(\"/kaggle/input/titanic/test.csv\")\n",
    "test.head()"
   ]
  },
  {
   "cell_type": "markdown",
   "id": "3fb44783",
   "metadata": {
    "papermill": {
     "duration": 0.008122,
     "end_time": "2024-08-06T07:10:22.561382",
     "exception": false,
     "start_time": "2024-08-06T07:10:22.553260",
     "status": "completed"
    },
    "tags": []
   },
   "source": [
    "入力されたデータ\n",
    "# データの入力\n",
    "\n",
    "| 変数 | 定義 | キー |\n",
    "|------|------|------|\n",
    "| survival | 生存 | 0 = いいえ, 1 = はい |\n",
    "| pclass | チケットのクラス | 1 = 1等, 2 = 2等, 3 = 3等 |\n",
    "| sex | 性別 | |\n",
    "| Age | 年齢（歳） | |\n",
    "| sibsp | タイタニック号に乗船していた兄弟姉妹/配偶者の数 | |\n",
    "| parch | タイタニック号に乗船していた親/子供の数 | |\n",
    "| ticket | チケット番号 | |\n",
    "| fare | 乗客運賃 | |\n",
    "| cabin | 客室番号 | |\n",
    "| embarked | 出港地 | C = シェルブール, Q = クイーンズタウン, S = サウサンプトン |\n"
   ]
  },
  {
   "cell_type": "markdown",
   "id": "a446aa5d",
   "metadata": {
    "papermill": {
     "duration": 0.007969,
     "end_time": "2024-08-06T07:10:22.577747",
     "exception": false,
     "start_time": "2024-08-06T07:10:22.569778",
     "status": "completed"
    },
    "tags": []
   },
   "source": [
    "# k-最近傍法"
   ]
  },
  {
   "cell_type": "code",
   "execution_count": 4,
   "id": "d2c32e7c",
   "metadata": {
    "execution": {
     "iopub.execute_input": "2024-08-06T07:10:22.596303Z",
     "iopub.status.busy": "2024-08-06T07:10:22.595900Z",
     "iopub.status.idle": "2024-08-06T07:10:22.602017Z",
     "shell.execute_reply": "2024-08-06T07:10:22.600841Z"
    },
    "papermill": {
     "duration": 0.017847,
     "end_time": "2024-08-06T07:10:22.604224",
     "exception": false,
     "start_time": "2024-08-06T07:10:22.586377",
     "status": "completed"
    },
    "tags": []
   },
   "outputs": [],
   "source": [
    "train1 = train.copy()\n",
    "test1 = test.copy()"
   ]
  },
  {
   "cell_type": "markdown",
   "id": "b96d0374",
   "metadata": {
    "papermill": {
     "duration": 0.008144,
     "end_time": "2024-08-06T07:10:22.621641",
     "exception": false,
     "start_time": "2024-08-06T07:10:22.613497",
     "status": "completed"
    },
    "tags": []
   },
   "source": [
    "## 前処理"
   ]
  },
  {
   "cell_type": "code",
   "execution_count": 5,
   "id": "e696d6e0",
   "metadata": {
    "execution": {
     "iopub.execute_input": "2024-08-06T07:10:22.640097Z",
     "iopub.status.busy": "2024-08-06T07:10:22.639671Z",
     "iopub.status.idle": "2024-08-06T07:10:22.650617Z",
     "shell.execute_reply": "2024-08-06T07:10:22.649534Z"
    },
    "papermill": {
     "duration": 0.023375,
     "end_time": "2024-08-06T07:10:22.653340",
     "exception": false,
     "start_time": "2024-08-06T07:10:22.629965",
     "status": "completed"
    },
    "tags": []
   },
   "outputs": [
    {
     "data": {
      "text/plain": [
       "PassengerId      0\n",
       "Survived         0\n",
       "Pclass           0\n",
       "Name             0\n",
       "Sex              0\n",
       "Age            177\n",
       "SibSp            0\n",
       "Parch            0\n",
       "Ticket           0\n",
       "Fare             0\n",
       "Cabin          687\n",
       "Embarked         2\n",
       "dtype: int64"
      ]
     },
     "execution_count": 5,
     "metadata": {},
     "output_type": "execute_result"
    }
   ],
   "source": [
    "# trainデータの欠損値確認\n",
    "train1.isnull().sum()"
   ]
  },
  {
   "cell_type": "code",
   "execution_count": 6,
   "id": "c34fd4d4",
   "metadata": {
    "execution": {
     "iopub.execute_input": "2024-08-06T07:10:22.672697Z",
     "iopub.status.busy": "2024-08-06T07:10:22.672329Z",
     "iopub.status.idle": "2024-08-06T07:10:22.684410Z",
     "shell.execute_reply": "2024-08-06T07:10:22.683307Z"
    },
    "papermill": {
     "duration": 0.024708,
     "end_time": "2024-08-06T07:10:22.686595",
     "exception": false,
     "start_time": "2024-08-06T07:10:22.661887",
     "status": "completed"
    },
    "tags": []
   },
   "outputs": [],
   "source": [
    "train1[\"Age\"] = train1[\"Age\"].fillna(train1[\"Age\"].mode()[0])\n",
    "train1[\"Cabin\"] = train1[\"Cabin\"].fillna(train1[\"Cabin\"].mode()[0])\n",
    "train1[\"Embarked\"] = train1[\"Embarked\"].fillna(train1[\"Embarked\"].mode()[0])"
   ]
  },
  {
   "cell_type": "code",
   "execution_count": 7,
   "id": "382ed33e",
   "metadata": {
    "execution": {
     "iopub.execute_input": "2024-08-06T07:10:22.707590Z",
     "iopub.status.busy": "2024-08-06T07:10:22.706112Z",
     "iopub.status.idle": "2024-08-06T07:10:22.716102Z",
     "shell.execute_reply": "2024-08-06T07:10:22.715047Z"
    },
    "papermill": {
     "duration": 0.02288,
     "end_time": "2024-08-06T07:10:22.718385",
     "exception": false,
     "start_time": "2024-08-06T07:10:22.695505",
     "status": "completed"
    },
    "tags": []
   },
   "outputs": [
    {
     "data": {
      "text/plain": [
       "PassengerId    0\n",
       "Survived       0\n",
       "Pclass         0\n",
       "Name           0\n",
       "Sex            0\n",
       "Age            0\n",
       "SibSp          0\n",
       "Parch          0\n",
       "Ticket         0\n",
       "Fare           0\n",
       "Cabin          0\n",
       "Embarked       0\n",
       "dtype: int64"
      ]
     },
     "execution_count": 7,
     "metadata": {},
     "output_type": "execute_result"
    }
   ],
   "source": [
    "train1.isnull().sum()"
   ]
  },
  {
   "cell_type": "code",
   "execution_count": 8,
   "id": "2ac636e3",
   "metadata": {
    "execution": {
     "iopub.execute_input": "2024-08-06T07:10:22.737571Z",
     "iopub.status.busy": "2024-08-06T07:10:22.737168Z",
     "iopub.status.idle": "2024-08-06T07:10:22.745879Z",
     "shell.execute_reply": "2024-08-06T07:10:22.744876Z"
    },
    "papermill": {
     "duration": 0.020957,
     "end_time": "2024-08-06T07:10:22.748136",
     "exception": false,
     "start_time": "2024-08-06T07:10:22.727179",
     "status": "completed"
    },
    "tags": []
   },
   "outputs": [
    {
     "data": {
      "text/plain": [
       "PassengerId      0\n",
       "Pclass           0\n",
       "Name             0\n",
       "Sex              0\n",
       "Age             86\n",
       "SibSp            0\n",
       "Parch            0\n",
       "Ticket           0\n",
       "Fare             1\n",
       "Cabin          327\n",
       "Embarked         0\n",
       "dtype: int64"
      ]
     },
     "execution_count": 8,
     "metadata": {},
     "output_type": "execute_result"
    }
   ],
   "source": [
    "# testデータの欠損値\n",
    "test1.isnull().sum()"
   ]
  },
  {
   "cell_type": "code",
   "execution_count": 9,
   "id": "8b4d72d3",
   "metadata": {
    "execution": {
     "iopub.execute_input": "2024-08-06T07:10:22.768244Z",
     "iopub.status.busy": "2024-08-06T07:10:22.767831Z",
     "iopub.status.idle": "2024-08-06T07:10:22.777040Z",
     "shell.execute_reply": "2024-08-06T07:10:22.776053Z"
    },
    "papermill": {
     "duration": 0.022442,
     "end_time": "2024-08-06T07:10:22.779614",
     "exception": false,
     "start_time": "2024-08-06T07:10:22.757172",
     "status": "completed"
    },
    "tags": []
   },
   "outputs": [],
   "source": [
    "test1[\"Age\"] = test1[\"Age\"].fillna(test1[\"Age\"].mode()[0])\n",
    "test1[\"Cabin\"] = test1[\"Cabin\"].fillna(test1[\"Cabin\"].mode()[0])\n",
    "test1[\"Fare\"] = test1[\"Fare\"].fillna(test1[\"Fare\"].mode()[0])"
   ]
  },
  {
   "cell_type": "code",
   "execution_count": 10,
   "id": "d0c386b7",
   "metadata": {
    "execution": {
     "iopub.execute_input": "2024-08-06T07:10:22.799467Z",
     "iopub.status.busy": "2024-08-06T07:10:22.799054Z",
     "iopub.status.idle": "2024-08-06T07:10:22.807864Z",
     "shell.execute_reply": "2024-08-06T07:10:22.806752Z"
    },
    "papermill": {
     "duration": 0.021424,
     "end_time": "2024-08-06T07:10:22.810162",
     "exception": false,
     "start_time": "2024-08-06T07:10:22.788738",
     "status": "completed"
    },
    "tags": []
   },
   "outputs": [
    {
     "data": {
      "text/plain": [
       "PassengerId    0\n",
       "Pclass         0\n",
       "Name           0\n",
       "Sex            0\n",
       "Age            0\n",
       "SibSp          0\n",
       "Parch          0\n",
       "Ticket         0\n",
       "Fare           0\n",
       "Cabin          0\n",
       "Embarked       0\n",
       "dtype: int64"
      ]
     },
     "execution_count": 10,
     "metadata": {},
     "output_type": "execute_result"
    }
   ],
   "source": [
    "test1.isnull().sum()"
   ]
  },
  {
   "cell_type": "code",
   "execution_count": 11,
   "id": "2165b17f",
   "metadata": {
    "execution": {
     "iopub.execute_input": "2024-08-06T07:10:22.830511Z",
     "iopub.status.busy": "2024-08-06T07:10:22.830109Z",
     "iopub.status.idle": "2024-08-06T07:10:22.851628Z",
     "shell.execute_reply": "2024-08-06T07:10:22.850480Z"
    },
    "papermill": {
     "duration": 0.03447,
     "end_time": "2024-08-06T07:10:22.854103",
     "exception": false,
     "start_time": "2024-08-06T07:10:22.819633",
     "status": "completed"
    },
    "tags": []
   },
   "outputs": [],
   "source": [
    "# 文字列をダミー変数に\n",
    "train1 = pd.get_dummies(train1, columns=['Sex', 'Embarked'])\n",
    "test1 = pd.get_dummies(test1, columns=['Sex', 'Embarked'])"
   ]
  },
  {
   "cell_type": "code",
   "execution_count": 12,
   "id": "a1cb0136",
   "metadata": {
    "execution": {
     "iopub.execute_input": "2024-08-06T07:10:22.874413Z",
     "iopub.status.busy": "2024-08-06T07:10:22.873505Z",
     "iopub.status.idle": "2024-08-06T07:10:22.891226Z",
     "shell.execute_reply": "2024-08-06T07:10:22.890187Z"
    },
    "papermill": {
     "duration": 0.030095,
     "end_time": "2024-08-06T07:10:22.893349",
     "exception": false,
     "start_time": "2024-08-06T07:10:22.863254",
     "status": "completed"
    },
    "tags": []
   },
   "outputs": [
    {
     "data": {
      "text/html": [
       "<div>\n",
       "<style scoped>\n",
       "    .dataframe tbody tr th:only-of-type {\n",
       "        vertical-align: middle;\n",
       "    }\n",
       "\n",
       "    .dataframe tbody tr th {\n",
       "        vertical-align: top;\n",
       "    }\n",
       "\n",
       "    .dataframe thead th {\n",
       "        text-align: right;\n",
       "    }\n",
       "</style>\n",
       "<table border=\"1\" class=\"dataframe\">\n",
       "  <thead>\n",
       "    <tr style=\"text-align: right;\">\n",
       "      <th></th>\n",
       "      <th>PassengerId</th>\n",
       "      <th>Survived</th>\n",
       "      <th>Pclass</th>\n",
       "      <th>Name</th>\n",
       "      <th>Age</th>\n",
       "      <th>SibSp</th>\n",
       "      <th>Parch</th>\n",
       "      <th>Ticket</th>\n",
       "      <th>Fare</th>\n",
       "      <th>Cabin</th>\n",
       "      <th>Sex_female</th>\n",
       "      <th>Sex_male</th>\n",
       "      <th>Embarked_C</th>\n",
       "      <th>Embarked_Q</th>\n",
       "      <th>Embarked_S</th>\n",
       "    </tr>\n",
       "  </thead>\n",
       "  <tbody>\n",
       "    <tr>\n",
       "      <th>0</th>\n",
       "      <td>1</td>\n",
       "      <td>0</td>\n",
       "      <td>3</td>\n",
       "      <td>Braund, Mr. Owen Harris</td>\n",
       "      <td>22.0</td>\n",
       "      <td>1</td>\n",
       "      <td>0</td>\n",
       "      <td>A/5 21171</td>\n",
       "      <td>7.2500</td>\n",
       "      <td>B96 B98</td>\n",
       "      <td>False</td>\n",
       "      <td>True</td>\n",
       "      <td>False</td>\n",
       "      <td>False</td>\n",
       "      <td>True</td>\n",
       "    </tr>\n",
       "    <tr>\n",
       "      <th>1</th>\n",
       "      <td>2</td>\n",
       "      <td>1</td>\n",
       "      <td>1</td>\n",
       "      <td>Cumings, Mrs. John Bradley (Florence Briggs Th...</td>\n",
       "      <td>38.0</td>\n",
       "      <td>1</td>\n",
       "      <td>0</td>\n",
       "      <td>PC 17599</td>\n",
       "      <td>71.2833</td>\n",
       "      <td>C85</td>\n",
       "      <td>True</td>\n",
       "      <td>False</td>\n",
       "      <td>True</td>\n",
       "      <td>False</td>\n",
       "      <td>False</td>\n",
       "    </tr>\n",
       "    <tr>\n",
       "      <th>2</th>\n",
       "      <td>3</td>\n",
       "      <td>1</td>\n",
       "      <td>3</td>\n",
       "      <td>Heikkinen, Miss. Laina</td>\n",
       "      <td>26.0</td>\n",
       "      <td>0</td>\n",
       "      <td>0</td>\n",
       "      <td>STON/O2. 3101282</td>\n",
       "      <td>7.9250</td>\n",
       "      <td>B96 B98</td>\n",
       "      <td>True</td>\n",
       "      <td>False</td>\n",
       "      <td>False</td>\n",
       "      <td>False</td>\n",
       "      <td>True</td>\n",
       "    </tr>\n",
       "    <tr>\n",
       "      <th>3</th>\n",
       "      <td>4</td>\n",
       "      <td>1</td>\n",
       "      <td>1</td>\n",
       "      <td>Futrelle, Mrs. Jacques Heath (Lily May Peel)</td>\n",
       "      <td>35.0</td>\n",
       "      <td>1</td>\n",
       "      <td>0</td>\n",
       "      <td>113803</td>\n",
       "      <td>53.1000</td>\n",
       "      <td>C123</td>\n",
       "      <td>True</td>\n",
       "      <td>False</td>\n",
       "      <td>False</td>\n",
       "      <td>False</td>\n",
       "      <td>True</td>\n",
       "    </tr>\n",
       "    <tr>\n",
       "      <th>4</th>\n",
       "      <td>5</td>\n",
       "      <td>0</td>\n",
       "      <td>3</td>\n",
       "      <td>Allen, Mr. William Henry</td>\n",
       "      <td>35.0</td>\n",
       "      <td>0</td>\n",
       "      <td>0</td>\n",
       "      <td>373450</td>\n",
       "      <td>8.0500</td>\n",
       "      <td>B96 B98</td>\n",
       "      <td>False</td>\n",
       "      <td>True</td>\n",
       "      <td>False</td>\n",
       "      <td>False</td>\n",
       "      <td>True</td>\n",
       "    </tr>\n",
       "  </tbody>\n",
       "</table>\n",
       "</div>"
      ],
      "text/plain": [
       "   PassengerId  Survived  Pclass  \\\n",
       "0            1         0       3   \n",
       "1            2         1       1   \n",
       "2            3         1       3   \n",
       "3            4         1       1   \n",
       "4            5         0       3   \n",
       "\n",
       "                                                Name   Age  SibSp  Parch  \\\n",
       "0                            Braund, Mr. Owen Harris  22.0      1      0   \n",
       "1  Cumings, Mrs. John Bradley (Florence Briggs Th...  38.0      1      0   \n",
       "2                             Heikkinen, Miss. Laina  26.0      0      0   \n",
       "3       Futrelle, Mrs. Jacques Heath (Lily May Peel)  35.0      1      0   \n",
       "4                           Allen, Mr. William Henry  35.0      0      0   \n",
       "\n",
       "             Ticket     Fare    Cabin  Sex_female  Sex_male  Embarked_C  \\\n",
       "0         A/5 21171   7.2500  B96 B98       False      True       False   \n",
       "1          PC 17599  71.2833      C85        True     False        True   \n",
       "2  STON/O2. 3101282   7.9250  B96 B98        True     False       False   \n",
       "3            113803  53.1000     C123        True     False       False   \n",
       "4            373450   8.0500  B96 B98       False      True       False   \n",
       "\n",
       "   Embarked_Q  Embarked_S  \n",
       "0       False        True  \n",
       "1       False       False  \n",
       "2       False        True  \n",
       "3       False        True  \n",
       "4       False        True  "
      ]
     },
     "execution_count": 12,
     "metadata": {},
     "output_type": "execute_result"
    }
   ],
   "source": [
    "train1.head()"
   ]
  },
  {
   "cell_type": "markdown",
   "id": "0159e40b",
   "metadata": {
    "papermill": {
     "duration": 0.00895,
     "end_time": "2024-08-06T07:10:22.911733",
     "exception": false,
     "start_time": "2024-08-06T07:10:22.902783",
     "status": "completed"
    },
    "tags": []
   },
   "source": [
    "## 生存書予測"
   ]
  },
  {
   "cell_type": "code",
   "execution_count": 13,
   "id": "d64076fb",
   "metadata": {
    "execution": {
     "iopub.execute_input": "2024-08-06T07:10:22.932736Z",
     "iopub.status.busy": "2024-08-06T07:10:22.931625Z",
     "iopub.status.idle": "2024-08-06T07:10:24.506117Z",
     "shell.execute_reply": "2024-08-06T07:10:24.505051Z"
    },
    "papermill": {
     "duration": 1.587803,
     "end_time": "2024-08-06T07:10:24.508717",
     "exception": false,
     "start_time": "2024-08-06T07:10:22.920914",
     "status": "completed"
    },
    "tags": []
   },
   "outputs": [],
   "source": [
    "from sklearn.neighbors import KNeighborsClassifier\n",
    "clf = KNeighborsClassifier(n_neighbors=1)\n",
    "\n",
    "X_train1 = train1[[\"Pclass\", \"Age\", \"SibSp\", \"Parch\", \"Fare\", \"Sex_female\", \"Sex_male\", \"Embarked_C\", \"Embarked_Q\", \"Embarked_S\"]]\n",
    "y_train1 = train1[\"Survived\"]\n",
    "\n",
    "X_test1 = test1[[\"Pclass\", \"Age\", \"SibSp\", \"Parch\", \"Fare\", \"Sex_female\", \"Sex_male\", \"Embarked_C\", \"Embarked_Q\", \"Embarked_S\"]]\n",
    "\n",
    "clf.fit(X_train1, y_train1)\n",
    "\n",
    "# t_test に予測結果を格納\n",
    "y_test1 = clf.predict(X_test1)"
   ]
  },
  {
   "cell_type": "code",
   "execution_count": 14,
   "id": "19dbd211",
   "metadata": {
    "execution": {
     "iopub.execute_input": "2024-08-06T07:10:24.529047Z",
     "iopub.status.busy": "2024-08-06T07:10:24.528620Z",
     "iopub.status.idle": "2024-08-06T07:10:24.538637Z",
     "shell.execute_reply": "2024-08-06T07:10:24.537652Z"
    },
    "papermill": {
     "duration": 0.02279,
     "end_time": "2024-08-06T07:10:24.541031",
     "exception": false,
     "start_time": "2024-08-06T07:10:24.518241",
     "status": "completed"
    },
    "tags": []
   },
   "outputs": [],
   "source": [
    "# 回答ファイルの作成・エクスポート\n",
    "# PassengerId を取得\n",
    "PassengerId1 = np.array(test1[\"PassengerId\"]).astype(int)\n",
    "\n",
    "# y_test と PassengerId を結合\n",
    "answer1 = pd.DataFrame(y_test1, PassengerId1, columns = [\"Survived\"])\n",
    "\n",
    "# titanic_answer_01.csv としてエクスポート\n",
    "answer1.to_csv(\"titanic_answer_01.csv\", index_label = [\"PassengerId\"])"
   ]
  },
  {
   "cell_type": "code",
   "execution_count": 15,
   "id": "468bcb11",
   "metadata": {
    "execution": {
     "iopub.execute_input": "2024-08-06T07:10:24.561591Z",
     "iopub.status.busy": "2024-08-06T07:10:24.561194Z",
     "iopub.status.idle": "2024-08-06T07:10:24.571165Z",
     "shell.execute_reply": "2024-08-06T07:10:24.570013Z"
    },
    "papermill": {
     "duration": 0.022952,
     "end_time": "2024-08-06T07:10:24.573566",
     "exception": false,
     "start_time": "2024-08-06T07:10:24.550614",
     "status": "completed"
    },
    "tags": []
   },
   "outputs": [
    {
     "data": {
      "text/html": [
       "<div>\n",
       "<style scoped>\n",
       "    .dataframe tbody tr th:only-of-type {\n",
       "        vertical-align: middle;\n",
       "    }\n",
       "\n",
       "    .dataframe tbody tr th {\n",
       "        vertical-align: top;\n",
       "    }\n",
       "\n",
       "    .dataframe thead th {\n",
       "        text-align: right;\n",
       "    }\n",
       "</style>\n",
       "<table border=\"1\" class=\"dataframe\">\n",
       "  <thead>\n",
       "    <tr style=\"text-align: right;\">\n",
       "      <th></th>\n",
       "      <th>Survived</th>\n",
       "    </tr>\n",
       "  </thead>\n",
       "  <tbody>\n",
       "    <tr>\n",
       "      <th>892</th>\n",
       "      <td>0</td>\n",
       "    </tr>\n",
       "    <tr>\n",
       "      <th>893</th>\n",
       "      <td>0</td>\n",
       "    </tr>\n",
       "    <tr>\n",
       "      <th>894</th>\n",
       "      <td>1</td>\n",
       "    </tr>\n",
       "    <tr>\n",
       "      <th>895</th>\n",
       "      <td>1</td>\n",
       "    </tr>\n",
       "    <tr>\n",
       "      <th>896</th>\n",
       "      <td>0</td>\n",
       "    </tr>\n",
       "  </tbody>\n",
       "</table>\n",
       "</div>"
      ],
      "text/plain": [
       "     Survived\n",
       "892         0\n",
       "893         0\n",
       "894         1\n",
       "895         1\n",
       "896         0"
      ]
     },
     "execution_count": 15,
     "metadata": {},
     "output_type": "execute_result"
    }
   ],
   "source": [
    "answer1.head()"
   ]
  },
  {
   "cell_type": "markdown",
   "id": "2625396e",
   "metadata": {
    "papermill": {
     "duration": 0.00897,
     "end_time": "2024-08-06T07:10:24.592100",
     "exception": false,
     "start_time": "2024-08-06T07:10:24.583130",
     "status": "completed"
    },
    "tags": []
   },
   "source": [
    "# GBDT"
   ]
  },
  {
   "cell_type": "code",
   "execution_count": 16,
   "id": "442ba169",
   "metadata": {
    "execution": {
     "iopub.execute_input": "2024-08-06T07:10:24.613195Z",
     "iopub.status.busy": "2024-08-06T07:10:24.612117Z",
     "iopub.status.idle": "2024-08-06T07:10:24.619677Z",
     "shell.execute_reply": "2024-08-06T07:10:24.618719Z"
    },
    "papermill": {
     "duration": 0.020459,
     "end_time": "2024-08-06T07:10:24.622028",
     "exception": false,
     "start_time": "2024-08-06T07:10:24.601569",
     "status": "completed"
    },
    "tags": []
   },
   "outputs": [],
   "source": [
    "# データの取得\n",
    "train2 = train.copy()\n",
    "test2 = test.copy()\n",
    "\n",
    "# 目的変数と特徴量に分ける\n",
    "train2_x = train2.drop(['Survived'], axis=1)\n",
    "train2_y = train['Survived']\n",
    "\n",
    "# テストデータは特徴量のみ\n",
    "test2_x = test2.copy()"
   ]
  },
  {
   "cell_type": "code",
   "execution_count": 17,
   "id": "39d5e499",
   "metadata": {
    "execution": {
     "iopub.execute_input": "2024-08-06T07:10:24.642580Z",
     "iopub.status.busy": "2024-08-06T07:10:24.642159Z",
     "iopub.status.idle": "2024-08-06T07:10:24.657796Z",
     "shell.execute_reply": "2024-08-06T07:10:24.656765Z"
    },
    "papermill": {
     "duration": 0.028362,
     "end_time": "2024-08-06T07:10:24.660104",
     "exception": false,
     "start_time": "2024-08-06T07:10:24.631742",
     "status": "completed"
    },
    "tags": []
   },
   "outputs": [
    {
     "data": {
      "text/html": [
       "<div>\n",
       "<style scoped>\n",
       "    .dataframe tbody tr th:only-of-type {\n",
       "        vertical-align: middle;\n",
       "    }\n",
       "\n",
       "    .dataframe tbody tr th {\n",
       "        vertical-align: top;\n",
       "    }\n",
       "\n",
       "    .dataframe thead th {\n",
       "        text-align: right;\n",
       "    }\n",
       "</style>\n",
       "<table border=\"1\" class=\"dataframe\">\n",
       "  <thead>\n",
       "    <tr style=\"text-align: right;\">\n",
       "      <th></th>\n",
       "      <th>PassengerId</th>\n",
       "      <th>Survived</th>\n",
       "      <th>Pclass</th>\n",
       "      <th>Name</th>\n",
       "      <th>Sex</th>\n",
       "      <th>Age</th>\n",
       "      <th>SibSp</th>\n",
       "      <th>Parch</th>\n",
       "      <th>Ticket</th>\n",
       "      <th>Fare</th>\n",
       "      <th>Cabin</th>\n",
       "      <th>Embarked</th>\n",
       "    </tr>\n",
       "  </thead>\n",
       "  <tbody>\n",
       "    <tr>\n",
       "      <th>0</th>\n",
       "      <td>1</td>\n",
       "      <td>0</td>\n",
       "      <td>3</td>\n",
       "      <td>Braund, Mr. Owen Harris</td>\n",
       "      <td>male</td>\n",
       "      <td>22.0</td>\n",
       "      <td>1</td>\n",
       "      <td>0</td>\n",
       "      <td>A/5 21171</td>\n",
       "      <td>7.2500</td>\n",
       "      <td>NaN</td>\n",
       "      <td>S</td>\n",
       "    </tr>\n",
       "    <tr>\n",
       "      <th>1</th>\n",
       "      <td>2</td>\n",
       "      <td>1</td>\n",
       "      <td>1</td>\n",
       "      <td>Cumings, Mrs. John Bradley (Florence Briggs Th...</td>\n",
       "      <td>female</td>\n",
       "      <td>38.0</td>\n",
       "      <td>1</td>\n",
       "      <td>0</td>\n",
       "      <td>PC 17599</td>\n",
       "      <td>71.2833</td>\n",
       "      <td>C85</td>\n",
       "      <td>C</td>\n",
       "    </tr>\n",
       "    <tr>\n",
       "      <th>2</th>\n",
       "      <td>3</td>\n",
       "      <td>1</td>\n",
       "      <td>3</td>\n",
       "      <td>Heikkinen, Miss. Laina</td>\n",
       "      <td>female</td>\n",
       "      <td>26.0</td>\n",
       "      <td>0</td>\n",
       "      <td>0</td>\n",
       "      <td>STON/O2. 3101282</td>\n",
       "      <td>7.9250</td>\n",
       "      <td>NaN</td>\n",
       "      <td>S</td>\n",
       "    </tr>\n",
       "    <tr>\n",
       "      <th>3</th>\n",
       "      <td>4</td>\n",
       "      <td>1</td>\n",
       "      <td>1</td>\n",
       "      <td>Futrelle, Mrs. Jacques Heath (Lily May Peel)</td>\n",
       "      <td>female</td>\n",
       "      <td>35.0</td>\n",
       "      <td>1</td>\n",
       "      <td>0</td>\n",
       "      <td>113803</td>\n",
       "      <td>53.1000</td>\n",
       "      <td>C123</td>\n",
       "      <td>S</td>\n",
       "    </tr>\n",
       "    <tr>\n",
       "      <th>4</th>\n",
       "      <td>5</td>\n",
       "      <td>0</td>\n",
       "      <td>3</td>\n",
       "      <td>Allen, Mr. William Henry</td>\n",
       "      <td>male</td>\n",
       "      <td>35.0</td>\n",
       "      <td>0</td>\n",
       "      <td>0</td>\n",
       "      <td>373450</td>\n",
       "      <td>8.0500</td>\n",
       "      <td>NaN</td>\n",
       "      <td>S</td>\n",
       "    </tr>\n",
       "  </tbody>\n",
       "</table>\n",
       "</div>"
      ],
      "text/plain": [
       "   PassengerId  Survived  Pclass  \\\n",
       "0            1         0       3   \n",
       "1            2         1       1   \n",
       "2            3         1       3   \n",
       "3            4         1       1   \n",
       "4            5         0       3   \n",
       "\n",
       "                                                Name     Sex   Age  SibSp  \\\n",
       "0                            Braund, Mr. Owen Harris    male  22.0      1   \n",
       "1  Cumings, Mrs. John Bradley (Florence Briggs Th...  female  38.0      1   \n",
       "2                             Heikkinen, Miss. Laina  female  26.0      0   \n",
       "3       Futrelle, Mrs. Jacques Heath (Lily May Peel)  female  35.0      1   \n",
       "4                           Allen, Mr. William Henry    male  35.0      0   \n",
       "\n",
       "   Parch            Ticket     Fare Cabin Embarked  \n",
       "0      0         A/5 21171   7.2500   NaN        S  \n",
       "1      0          PC 17599  71.2833   C85        C  \n",
       "2      0  STON/O2. 3101282   7.9250   NaN        S  \n",
       "3      0            113803  53.1000  C123        S  \n",
       "4      0            373450   8.0500   NaN        S  "
      ]
     },
     "execution_count": 17,
     "metadata": {},
     "output_type": "execute_result"
    }
   ],
   "source": [
    "train2.head()"
   ]
  },
  {
   "cell_type": "markdown",
   "id": "b3ad74ca",
   "metadata": {
    "papermill": {
     "duration": 0.009133,
     "end_time": "2024-08-06T07:10:24.678931",
     "exception": false,
     "start_time": "2024-08-06T07:10:24.669798",
     "status": "completed"
    },
    "tags": []
   },
   "source": [
    "## 特徴量の作成"
   ]
  },
  {
   "cell_type": "code",
   "execution_count": 18,
   "id": "9b6160af",
   "metadata": {
    "execution": {
     "iopub.execute_input": "2024-08-06T07:10:24.701585Z",
     "iopub.status.busy": "2024-08-06T07:10:24.700769Z",
     "iopub.status.idle": "2024-08-06T07:10:24.708542Z",
     "shell.execute_reply": "2024-08-06T07:10:24.707204Z"
    },
    "papermill": {
     "duration": 0.021328,
     "end_time": "2024-08-06T07:10:24.711005",
     "exception": false,
     "start_time": "2024-08-06T07:10:24.689677",
     "status": "completed"
    },
    "tags": []
   },
   "outputs": [],
   "source": [
    "from sklearn.preprocessing import LabelEncoder\n",
    "\n",
    "# 変数PassegerIdを取得する\n",
    "train2_x = train2_x.drop(['PassengerId'], axis=1)\n",
    "test2_x = test2_x.drop(['PassengerId'], axis=1)"
   ]
  },
  {
   "cell_type": "code",
   "execution_count": 19,
   "id": "3f6c805b",
   "metadata": {
    "execution": {
     "iopub.execute_input": "2024-08-06T07:10:24.732551Z",
     "iopub.status.busy": "2024-08-06T07:10:24.732132Z",
     "iopub.status.idle": "2024-08-06T07:10:24.817178Z",
     "shell.execute_reply": "2024-08-06T07:10:24.816058Z"
    },
    "papermill": {
     "duration": 0.098477,
     "end_time": "2024-08-06T07:10:24.819539",
     "exception": false,
     "start_time": "2024-08-06T07:10:24.721062",
     "status": "completed"
    },
    "tags": []
   },
   "outputs": [],
   "source": [
    "# 変数Name, Ticket, Cabinを除外する\n",
    "train2_x = train2_x.drop(['Name', 'Ticket', 'Cabin'], axis=1)\n",
    "test2_x = test2_x.drop(['Name', 'Ticket', 'Cabin'], axis=1)"
   ]
  },
  {
   "cell_type": "code",
   "execution_count": 20,
   "id": "bfd246d1",
   "metadata": {
    "execution": {
     "iopub.execute_input": "2024-08-06T07:10:24.841229Z",
     "iopub.status.busy": "2024-08-06T07:10:24.840364Z",
     "iopub.status.idle": "2024-08-06T07:10:24.850937Z",
     "shell.execute_reply": "2024-08-06T07:10:24.849789Z"
    },
    "papermill": {
     "duration": 0.023807,
     "end_time": "2024-08-06T07:10:24.853144",
     "exception": false,
     "start_time": "2024-08-06T07:10:24.829337",
     "status": "completed"
    },
    "tags": []
   },
   "outputs": [],
   "source": [
    "# それぞれのカテゴリ変数にlabel encordingを適用する\n",
    "for c in ['Sex', 'Embarked']:\n",
    "    le = LabelEncoder()\n",
    "    le.fit(train2_x[c].fillna('NA'))\n",
    "    \n",
    "    # 学習データ、テストデータを変換する\n",
    "    train2_x[c] = le.transform(train2_x[c].fillna('NA'))\n",
    "    test2_x[c] = le.transform(test2_x[c].fillna('NA'))"
   ]
  },
  {
   "cell_type": "markdown",
   "id": "1e1fc7cb",
   "metadata": {
    "papermill": {
     "duration": 0.009338,
     "end_time": "2024-08-06T07:10:24.872175",
     "exception": false,
     "start_time": "2024-08-06T07:10:24.862837",
     "status": "completed"
    },
    "tags": []
   },
   "source": [
    "## モデルの作成\n",
    "今回は、GBDTの中でもよく使用されるxgboostを使用する"
   ]
  },
  {
   "cell_type": "code",
   "execution_count": 21,
   "id": "8ac5c594",
   "metadata": {
    "execution": {
     "iopub.execute_input": "2024-08-06T07:10:24.893454Z",
     "iopub.status.busy": "2024-08-06T07:10:24.892637Z",
     "iopub.status.idle": "2024-08-06T07:10:25.160093Z",
     "shell.execute_reply": "2024-08-06T07:10:25.158933Z"
    },
    "papermill": {
     "duration": 0.280678,
     "end_time": "2024-08-06T07:10:25.162468",
     "exception": false,
     "start_time": "2024-08-06T07:10:24.881790",
     "status": "completed"
    },
    "tags": []
   },
   "outputs": [
    {
     "data": {
      "text/html": [
       "<style>#sk-container-id-1 {color: black;background-color: white;}#sk-container-id-1 pre{padding: 0;}#sk-container-id-1 div.sk-toggleable {background-color: white;}#sk-container-id-1 label.sk-toggleable__label {cursor: pointer;display: block;width: 100%;margin-bottom: 0;padding: 0.3em;box-sizing: border-box;text-align: center;}#sk-container-id-1 label.sk-toggleable__label-arrow:before {content: \"▸\";float: left;margin-right: 0.25em;color: #696969;}#sk-container-id-1 label.sk-toggleable__label-arrow:hover:before {color: black;}#sk-container-id-1 div.sk-estimator:hover label.sk-toggleable__label-arrow:before {color: black;}#sk-container-id-1 div.sk-toggleable__content {max-height: 0;max-width: 0;overflow: hidden;text-align: left;background-color: #f0f8ff;}#sk-container-id-1 div.sk-toggleable__content pre {margin: 0.2em;color: black;border-radius: 0.25em;background-color: #f0f8ff;}#sk-container-id-1 input.sk-toggleable__control:checked~div.sk-toggleable__content {max-height: 200px;max-width: 100%;overflow: auto;}#sk-container-id-1 input.sk-toggleable__control:checked~label.sk-toggleable__label-arrow:before {content: \"▾\";}#sk-container-id-1 div.sk-estimator input.sk-toggleable__control:checked~label.sk-toggleable__label {background-color: #d4ebff;}#sk-container-id-1 div.sk-label input.sk-toggleable__control:checked~label.sk-toggleable__label {background-color: #d4ebff;}#sk-container-id-1 input.sk-hidden--visually {border: 0;clip: rect(1px 1px 1px 1px);clip: rect(1px, 1px, 1px, 1px);height: 1px;margin: -1px;overflow: hidden;padding: 0;position: absolute;width: 1px;}#sk-container-id-1 div.sk-estimator {font-family: monospace;background-color: #f0f8ff;border: 1px dotted black;border-radius: 0.25em;box-sizing: border-box;margin-bottom: 0.5em;}#sk-container-id-1 div.sk-estimator:hover {background-color: #d4ebff;}#sk-container-id-1 div.sk-parallel-item::after {content: \"\";width: 100%;border-bottom: 1px solid gray;flex-grow: 1;}#sk-container-id-1 div.sk-label:hover label.sk-toggleable__label {background-color: #d4ebff;}#sk-container-id-1 div.sk-serial::before {content: \"\";position: absolute;border-left: 1px solid gray;box-sizing: border-box;top: 0;bottom: 0;left: 50%;z-index: 0;}#sk-container-id-1 div.sk-serial {display: flex;flex-direction: column;align-items: center;background-color: white;padding-right: 0.2em;padding-left: 0.2em;position: relative;}#sk-container-id-1 div.sk-item {position: relative;z-index: 1;}#sk-container-id-1 div.sk-parallel {display: flex;align-items: stretch;justify-content: center;background-color: white;position: relative;}#sk-container-id-1 div.sk-item::before, #sk-container-id-1 div.sk-parallel-item::before {content: \"\";position: absolute;border-left: 1px solid gray;box-sizing: border-box;top: 0;bottom: 0;left: 50%;z-index: -1;}#sk-container-id-1 div.sk-parallel-item {display: flex;flex-direction: column;z-index: 1;position: relative;background-color: white;}#sk-container-id-1 div.sk-parallel-item:first-child::after {align-self: flex-end;width: 50%;}#sk-container-id-1 div.sk-parallel-item:last-child::after {align-self: flex-start;width: 50%;}#sk-container-id-1 div.sk-parallel-item:only-child::after {width: 0;}#sk-container-id-1 div.sk-dashed-wrapped {border: 1px dashed gray;margin: 0 0.4em 0.5em 0.4em;box-sizing: border-box;padding-bottom: 0.4em;background-color: white;}#sk-container-id-1 div.sk-label label {font-family: monospace;font-weight: bold;display: inline-block;line-height: 1.2em;}#sk-container-id-1 div.sk-label-container {text-align: center;}#sk-container-id-1 div.sk-container {/* jupyter's `normalize.less` sets `[hidden] { display: none; }` but bootstrap.min.css set `[hidden] { display: none !important; }` so we also need the `!important` here to be able to override the default hidden behavior on the sphinx rendered scikit-learn.org. See: https://github.com/scikit-learn/scikit-learn/issues/21755 */display: inline-block !important;position: relative;}#sk-container-id-1 div.sk-text-repr-fallback {display: none;}</style><div id=\"sk-container-id-1\" class=\"sk-top-container\"><div class=\"sk-text-repr-fallback\"><pre>XGBClassifier(base_score=None, booster=None, callbacks=None,\n",
       "              colsample_bylevel=None, colsample_bynode=None,\n",
       "              colsample_bytree=None, device=None, early_stopping_rounds=None,\n",
       "              enable_categorical=False, eval_metric=None, feature_types=None,\n",
       "              gamma=None, grow_policy=None, importance_type=None,\n",
       "              interaction_constraints=None, learning_rate=None, max_bin=None,\n",
       "              max_cat_threshold=None, max_cat_to_onehot=None,\n",
       "              max_delta_step=None, max_depth=None, max_leaves=None,\n",
       "              min_child_weight=None, missing=nan, monotone_constraints=None,\n",
       "              multi_strategy=None, n_estimators=20, n_jobs=None,\n",
       "              num_parallel_tree=None, random_state=71, ...)</pre><b>In a Jupyter environment, please rerun this cell to show the HTML representation or trust the notebook. <br />On GitHub, the HTML representation is unable to render, please try loading this page with nbviewer.org.</b></div><div class=\"sk-container\" hidden><div class=\"sk-item\"><div class=\"sk-estimator sk-toggleable\"><input class=\"sk-toggleable__control sk-hidden--visually\" id=\"sk-estimator-id-1\" type=\"checkbox\" checked><label for=\"sk-estimator-id-1\" class=\"sk-toggleable__label sk-toggleable__label-arrow\">XGBClassifier</label><div class=\"sk-toggleable__content\"><pre>XGBClassifier(base_score=None, booster=None, callbacks=None,\n",
       "              colsample_bylevel=None, colsample_bynode=None,\n",
       "              colsample_bytree=None, device=None, early_stopping_rounds=None,\n",
       "              enable_categorical=False, eval_metric=None, feature_types=None,\n",
       "              gamma=None, grow_policy=None, importance_type=None,\n",
       "              interaction_constraints=None, learning_rate=None, max_bin=None,\n",
       "              max_cat_threshold=None, max_cat_to_onehot=None,\n",
       "              max_delta_step=None, max_depth=None, max_leaves=None,\n",
       "              min_child_weight=None, missing=nan, monotone_constraints=None,\n",
       "              multi_strategy=None, n_estimators=20, n_jobs=None,\n",
       "              num_parallel_tree=None, random_state=71, ...)</pre></div></div></div></div></div>"
      ],
      "text/plain": [
       "XGBClassifier(base_score=None, booster=None, callbacks=None,\n",
       "              colsample_bylevel=None, colsample_bynode=None,\n",
       "              colsample_bytree=None, device=None, early_stopping_rounds=None,\n",
       "              enable_categorical=False, eval_metric=None, feature_types=None,\n",
       "              gamma=None, grow_policy=None, importance_type=None,\n",
       "              interaction_constraints=None, learning_rate=None, max_bin=None,\n",
       "              max_cat_threshold=None, max_cat_to_onehot=None,\n",
       "              max_delta_step=None, max_depth=None, max_leaves=None,\n",
       "              min_child_weight=None, missing=nan, monotone_constraints=None,\n",
       "              multi_strategy=None, n_estimators=20, n_jobs=None,\n",
       "              num_parallel_tree=None, random_state=71, ...)"
      ]
     },
     "execution_count": 21,
     "metadata": {},
     "output_type": "execute_result"
    }
   ],
   "source": [
    "from xgboost import XGBClassifier\n",
    "\n",
    "# モデルの作成および学習データを与えて学習\n",
    "model = XGBClassifier(n_estimators=20, random_state=71)\n",
    "model.fit(train2_x, train2_y)"
   ]
  },
  {
   "cell_type": "code",
   "execution_count": 22,
   "id": "20fcfd50",
   "metadata": {
    "execution": {
     "iopub.execute_input": "2024-08-06T07:10:25.185939Z",
     "iopub.status.busy": "2024-08-06T07:10:25.185527Z",
     "iopub.status.idle": "2024-08-06T07:10:25.195790Z",
     "shell.execute_reply": "2024-08-06T07:10:25.194921Z"
    },
    "papermill": {
     "duration": 0.023785,
     "end_time": "2024-08-06T07:10:25.198119",
     "exception": false,
     "start_time": "2024-08-06T07:10:25.174334",
     "status": "completed"
    },
    "tags": []
   },
   "outputs": [],
   "source": [
    "# テストデータの予測値を確率で出力する\n",
    "pred = model.predict_proba(test2_x)[:,1]"
   ]
  },
  {
   "cell_type": "code",
   "execution_count": 23,
   "id": "0dcce0f7",
   "metadata": {
    "execution": {
     "iopub.execute_input": "2024-08-06T07:10:25.223136Z",
     "iopub.status.busy": "2024-08-06T07:10:25.222672Z",
     "iopub.status.idle": "2024-08-06T07:10:25.227960Z",
     "shell.execute_reply": "2024-08-06T07:10:25.226827Z"
    },
    "papermill": {
     "duration": 0.018777,
     "end_time": "2024-08-06T07:10:25.230125",
     "exception": false,
     "start_time": "2024-08-06T07:10:25.211348",
     "status": "completed"
    },
    "tags": []
   },
   "outputs": [],
   "source": [
    "# テストデータの予測値を二値に変換する\n",
    "pred_label = np.where(pred>0.5,1,0)"
   ]
  },
  {
   "cell_type": "code",
   "execution_count": 24,
   "id": "179c691a",
   "metadata": {
    "execution": {
     "iopub.execute_input": "2024-08-06T07:10:25.251632Z",
     "iopub.status.busy": "2024-08-06T07:10:25.251244Z",
     "iopub.status.idle": "2024-08-06T07:10:25.259692Z",
     "shell.execute_reply": "2024-08-06T07:10:25.258594Z"
    },
    "papermill": {
     "duration": 0.021853,
     "end_time": "2024-08-06T07:10:25.262041",
     "exception": false,
     "start_time": "2024-08-06T07:10:25.240188",
     "status": "completed"
    },
    "tags": []
   },
   "outputs": [],
   "source": [
    "# 提出用のファイルの作成\n",
    "submission = pd.DataFrame({'Survived':pred_label})\n",
    "submission.insert(0, '', test['PassengerId'])\n",
    "submission.to_csv('titanic_answer_02.csv', index=False)"
   ]
  },
  {
   "cell_type": "markdown",
   "id": "b10c7f05",
   "metadata": {
    "papermill": {
     "duration": 0.009513,
     "end_time": "2024-08-06T07:10:25.281565",
     "exception": false,
     "start_time": "2024-08-06T07:10:25.272052",
     "status": "completed"
    },
    "tags": []
   },
   "source": [
    "# 提出用ファイルの確認"
   ]
  },
  {
   "cell_type": "code",
   "execution_count": 25,
   "id": "8815721d",
   "metadata": {
    "execution": {
     "iopub.execute_input": "2024-08-06T07:10:25.302806Z",
     "iopub.status.busy": "2024-08-06T07:10:25.302409Z",
     "iopub.status.idle": "2024-08-06T07:10:25.316492Z",
     "shell.execute_reply": "2024-08-06T07:10:25.315369Z"
    },
    "papermill": {
     "duration": 0.027452,
     "end_time": "2024-08-06T07:10:25.318930",
     "exception": false,
     "start_time": "2024-08-06T07:10:25.291478",
     "status": "completed"
    },
    "tags": []
   },
   "outputs": [
    {
     "data": {
      "text/html": [
       "<div>\n",
       "<style scoped>\n",
       "    .dataframe tbody tr th:only-of-type {\n",
       "        vertical-align: middle;\n",
       "    }\n",
       "\n",
       "    .dataframe tbody tr th {\n",
       "        vertical-align: top;\n",
       "    }\n",
       "\n",
       "    .dataframe thead th {\n",
       "        text-align: right;\n",
       "    }\n",
       "</style>\n",
       "<table border=\"1\" class=\"dataframe\">\n",
       "  <thead>\n",
       "    <tr style=\"text-align: right;\">\n",
       "      <th></th>\n",
       "      <th>PassengerId</th>\n",
       "      <th>Survived</th>\n",
       "    </tr>\n",
       "  </thead>\n",
       "  <tbody>\n",
       "    <tr>\n",
       "      <th>0</th>\n",
       "      <td>892</td>\n",
       "      <td>0</td>\n",
       "    </tr>\n",
       "    <tr>\n",
       "      <th>1</th>\n",
       "      <td>893</td>\n",
       "      <td>1</td>\n",
       "    </tr>\n",
       "    <tr>\n",
       "      <th>2</th>\n",
       "      <td>894</td>\n",
       "      <td>0</td>\n",
       "    </tr>\n",
       "    <tr>\n",
       "      <th>3</th>\n",
       "      <td>895</td>\n",
       "      <td>0</td>\n",
       "    </tr>\n",
       "    <tr>\n",
       "      <th>4</th>\n",
       "      <td>896</td>\n",
       "      <td>1</td>\n",
       "    </tr>\n",
       "  </tbody>\n",
       "</table>\n",
       "</div>"
      ],
      "text/plain": [
       "   PassengerId  Survived\n",
       "0          892         0\n",
       "1          893         1\n",
       "2          894         0\n",
       "3          895         0\n",
       "4          896         1"
      ]
     },
     "execution_count": 25,
     "metadata": {},
     "output_type": "execute_result"
    }
   ],
   "source": [
    "gender_submission = pd.read_csv(\"/kaggle/input/titanic/gender_submission.csv\")\n",
    "gender_submission.head()"
   ]
  },
  {
   "cell_type": "code",
   "execution_count": 26,
   "id": "dfb6db84",
   "metadata": {
    "execution": {
     "iopub.execute_input": "2024-08-06T07:10:25.341169Z",
     "iopub.status.busy": "2024-08-06T07:10:25.340769Z",
     "iopub.status.idle": "2024-08-06T07:10:25.350128Z",
     "shell.execute_reply": "2024-08-06T07:10:25.349069Z"
    },
    "papermill": {
     "duration": 0.023284,
     "end_time": "2024-08-06T07:10:25.352575",
     "exception": false,
     "start_time": "2024-08-06T07:10:25.329291",
     "status": "completed"
    },
    "tags": []
   },
   "outputs": [
    {
     "data": {
      "text/html": [
       "<div>\n",
       "<style scoped>\n",
       "    .dataframe tbody tr th:only-of-type {\n",
       "        vertical-align: middle;\n",
       "    }\n",
       "\n",
       "    .dataframe tbody tr th {\n",
       "        vertical-align: top;\n",
       "    }\n",
       "\n",
       "    .dataframe thead th {\n",
       "        text-align: right;\n",
       "    }\n",
       "</style>\n",
       "<table border=\"1\" class=\"dataframe\">\n",
       "  <thead>\n",
       "    <tr style=\"text-align: right;\">\n",
       "      <th></th>\n",
       "      <th>Survived</th>\n",
       "    </tr>\n",
       "  </thead>\n",
       "  <tbody>\n",
       "    <tr>\n",
       "      <th>892</th>\n",
       "      <td>0</td>\n",
       "    </tr>\n",
       "    <tr>\n",
       "      <th>893</th>\n",
       "      <td>0</td>\n",
       "    </tr>\n",
       "    <tr>\n",
       "      <th>894</th>\n",
       "      <td>1</td>\n",
       "    </tr>\n",
       "    <tr>\n",
       "      <th>895</th>\n",
       "      <td>1</td>\n",
       "    </tr>\n",
       "    <tr>\n",
       "      <th>896</th>\n",
       "      <td>0</td>\n",
       "    </tr>\n",
       "  </tbody>\n",
       "</table>\n",
       "</div>"
      ],
      "text/plain": [
       "     Survived\n",
       "892         0\n",
       "893         0\n",
       "894         1\n",
       "895         1\n",
       "896         0"
      ]
     },
     "execution_count": 26,
     "metadata": {},
     "output_type": "execute_result"
    }
   ],
   "source": [
    "answer1.head()"
   ]
  },
  {
   "cell_type": "code",
   "execution_count": 27,
   "id": "db2707a8",
   "metadata": {
    "execution": {
     "iopub.execute_input": "2024-08-06T07:10:25.374768Z",
     "iopub.status.busy": "2024-08-06T07:10:25.374046Z",
     "iopub.status.idle": "2024-08-06T07:10:25.383186Z",
     "shell.execute_reply": "2024-08-06T07:10:25.382183Z"
    },
    "papermill": {
     "duration": 0.022568,
     "end_time": "2024-08-06T07:10:25.385348",
     "exception": false,
     "start_time": "2024-08-06T07:10:25.362780",
     "status": "completed"
    },
    "tags": []
   },
   "outputs": [
    {
     "data": {
      "text/html": [
       "<div>\n",
       "<style scoped>\n",
       "    .dataframe tbody tr th:only-of-type {\n",
       "        vertical-align: middle;\n",
       "    }\n",
       "\n",
       "    .dataframe tbody tr th {\n",
       "        vertical-align: top;\n",
       "    }\n",
       "\n",
       "    .dataframe thead th {\n",
       "        text-align: right;\n",
       "    }\n",
       "</style>\n",
       "<table border=\"1\" class=\"dataframe\">\n",
       "  <thead>\n",
       "    <tr style=\"text-align: right;\">\n",
       "      <th></th>\n",
       "      <th></th>\n",
       "      <th>Survived</th>\n",
       "    </tr>\n",
       "  </thead>\n",
       "  <tbody>\n",
       "    <tr>\n",
       "      <th>0</th>\n",
       "      <td>892</td>\n",
       "      <td>0</td>\n",
       "    </tr>\n",
       "    <tr>\n",
       "      <th>1</th>\n",
       "      <td>893</td>\n",
       "      <td>0</td>\n",
       "    </tr>\n",
       "    <tr>\n",
       "      <th>2</th>\n",
       "      <td>894</td>\n",
       "      <td>0</td>\n",
       "    </tr>\n",
       "    <tr>\n",
       "      <th>3</th>\n",
       "      <td>895</td>\n",
       "      <td>0</td>\n",
       "    </tr>\n",
       "    <tr>\n",
       "      <th>4</th>\n",
       "      <td>896</td>\n",
       "      <td>1</td>\n",
       "    </tr>\n",
       "  </tbody>\n",
       "</table>\n",
       "</div>"
      ],
      "text/plain": [
       "        Survived\n",
       "0  892         0\n",
       "1  893         0\n",
       "2  894         0\n",
       "3  895         0\n",
       "4  896         1"
      ]
     },
     "execution_count": 27,
     "metadata": {},
     "output_type": "execute_result"
    }
   ],
   "source": [
    "submission.head()"
   ]
  },
  {
   "cell_type": "code",
   "execution_count": null,
   "id": "0ad0bcbd",
   "metadata": {
    "papermill": {
     "duration": 0.010284,
     "end_time": "2024-08-06T07:10:25.406427",
     "exception": false,
     "start_time": "2024-08-06T07:10:25.396143",
     "status": "completed"
    },
    "tags": []
   },
   "outputs": [],
   "source": []
  }
 ],
 "metadata": {
  "kaggle": {
   "accelerator": "none",
   "dataSources": [
    {
     "databundleVersionId": 26502,
     "sourceId": 3136,
     "sourceType": "competition"
    }
   ],
   "dockerImageVersionId": 30746,
   "isGpuEnabled": false,
   "isInternetEnabled": true,
   "language": "python",
   "sourceType": "notebook"
  },
  "kernelspec": {
   "display_name": "Python 3",
   "language": "python",
   "name": "python3"
  },
  "language_info": {
   "codemirror_mode": {
    "name": "ipython",
    "version": 3
   },
   "file_extension": ".py",
   "mimetype": "text/x-python",
   "name": "python",
   "nbconvert_exporter": "python",
   "pygments_lexer": "ipython3",
   "version": "3.10.13"
  },
  "papermill": {
   "default_parameters": {},
   "duration": 7.36785,
   "end_time": "2024-08-06T07:10:26.038164",
   "environment_variables": {},
   "exception": null,
   "input_path": "__notebook__.ipynb",
   "output_path": "__notebook__.ipynb",
   "parameters": {},
   "start_time": "2024-08-06T07:10:18.670314",
   "version": "2.5.0"
  }
 },
 "nbformat": 4,
 "nbformat_minor": 5
}
