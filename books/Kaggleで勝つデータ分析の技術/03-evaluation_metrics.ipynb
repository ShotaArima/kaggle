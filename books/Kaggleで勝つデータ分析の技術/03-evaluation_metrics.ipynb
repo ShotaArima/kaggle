{
  "nbformat": 4,
  "nbformat_minor": 0,
  "metadata": {
    "colab": {
      "provenance": [],
      "toc_visible": true,
      "include_colab_link": true
    },
    "kernelspec": {
      "name": "python3",
      "display_name": "Python 3"
    },
    "language_info": {
      "name": "python"
    }
  },
  "cells": [
    {
      "cell_type": "markdown",
      "metadata": {
        "id": "view-in-github",
        "colab_type": "text"
      },
      "source": [
        "<a href=\"https://colab.research.google.com/github/ShotaArima/kaggle/blob/main/books/Kaggle%E3%81%A7%E5%8B%9D%E3%81%A4%E3%83%87%E3%83%BC%E3%82%BF%E5%88%86%E6%9E%90%E3%81%AE%E6%8A%80%E8%A1%93/03-evaluation_metrics.ipynb\" target=\"_parent\"><img src=\"https://colab.research.google.com/assets/colab-badge.svg\" alt=\"Open In Colab\"/></a>"
      ]
    },
    {
      "cell_type": "markdown",
      "source": [
        "# 評価指標\n",
        "ここでは、評価指標についてまとめていく  \n",
        "文献 : \"Kaggleで勝つデータ分析の技術\" 技術評論社"
      ],
      "metadata": {
        "id": "_j5qxdGhj_jC"
      }
    },
    {
      "cell_type": "code",
      "source": [
        "# ライブラリのインポート\n",
        "import numpy as np"
      ],
      "metadata": {
        "id": "ycWfe3vUktV5"
      },
      "execution_count": 5,
      "outputs": []
    },
    {
      "cell_type": "markdown",
      "source": [
        "## RMSE (Root Mean Squared Error)\n",
        "$$\n",
        "\\mathrm{RMSE} = \\sqrt{\\cfrac{1}{N}\\sum^{n}_{i=1}(y_i-\\hat{y}_i)^2}\n",
        "$$"
      ],
      "metadata": {
        "id": "bk-54IWdkG4e"
      }
    },
    {
      "cell_type": "code",
      "source": [
        "from sklearn.metrics import mean_squared_error\n",
        "\n",
        "# y_tureが真の値、y_predが予測値\n",
        "y_true = [100, 160, 60]\n",
        "y_pred = [80, 100, 100]\n",
        "\n",
        "rmse = np.sqrt(mean_squared_error(y_true, y_pred))\n",
        "print(rmse)"
      ],
      "metadata": {
        "colab": {
          "base_uri": "https://localhost:8080/"
        },
        "id": "40U7S7Syj_Tm",
        "outputId": "1590a54d-7455-4d94-cfad-15b7f50963d8"
      },
      "execution_count": 10,
      "outputs": [
        {
          "output_type": "stream",
          "name": "stdout",
          "text": [
            "43.20493798938573\n"
          ]
        }
      ]
    },
    {
      "cell_type": "markdown",
      "source": [
        "## RMSLE (Root Mean Squared Logarithmic Error)\n",
        "$$\n",
        "\\mathrm{RMSLE} = \\sqrt{\\cfrac{1}{N}\\sum^{N}_{i=1}((\\log{(1+y_i)})-\\log{(1+\\hat{y_i})})^2}\n",
        "$$"
      ],
      "metadata": {
        "id": "P1Dv7nsLNczF"
      }
    },
    {
      "cell_type": "code",
      "execution_count": 11,
      "metadata": {
        "id": "rvOV9vy9j5Mb",
        "outputId": "aee34b87-8a80-4b71-e3e5-a556a0a9cfb9",
        "colab": {
          "base_uri": "https://localhost:8080/"
        }
      },
      "outputs": [
        {
          "output_type": "stream",
          "name": "stdout",
          "text": [
            "1.4944905400842203\n"
          ]
        }
      ],
      "source": [
        "from sklearn.metrics import mean_squared_log_error\n",
        "\n",
        "# y_tureが真の値、y_predが予測値\n",
        "y_true = [100, 0, 400]\n",
        "y_pred = [200, 10, 200]\n",
        "\n",
        "rmsle = np.sqrt(mean_squared_log_error(y_true, y_pred))\n",
        "print(rmsle)"
      ]
    },
    {
      "cell_type": "markdown",
      "source": [
        "## MAE (Mean Absolute Error)\n",
        "$$\n",
        "\\mathrm{MAE} = \\cfrac{1}{N}\\sum^{N}_{i=1}|y_i-\\hat{y_i}|\n",
        "$$"
      ],
      "metadata": {
        "id": "YznUZO_EOmrv"
      }
    },
    {
      "cell_type": "code",
      "source": [
        "from sklearn.metrics import mean_absolute_error\n",
        "\n",
        "# y_tureが真の値、y_predが予測値\n",
        "y_true = [100, 160, 60]\n",
        "y_pred = [80, 100, 100]\n",
        "\n",
        "mae = mean_absolute_error(y_true, y_pred)\n",
        "print(mae)"
      ],
      "metadata": {
        "id": "uSclqpnuNyiG",
        "outputId": "c7d2430d-c365-48e8-975e-7ddc30fb2c55",
        "colab": {
          "base_uri": "https://localhost:8080/"
        }
      },
      "execution_count": 13,
      "outputs": [
        {
          "output_type": "stream",
          "name": "stdout",
          "text": [
            "40.0\n"
          ]
        }
      ]
    },
    {
      "cell_type": "markdown",
      "source": [
        "## 決定係数 ($\\mathrm{R^2}$)\n",
        "$$\n",
        "\\mathrm{R}^2=1-\\cfrac{\\sum^{N}_{i=1}(y_i-\\hat{y_i})^2}{y_i-\\bar{y}} \\\\\n",
        "\\bar{y}=\\cfrac{1}{N}\\sum^{N}_{i=1}y_i\n",
        "$$"
      ],
      "metadata": {
        "id": "SBSXvdb_Qq7k"
      }
    },
    {
      "cell_type": "code",
      "source": [
        "from sklearn.metrics import r2_score\n",
        "\n",
        "# y_tureが真の値、y_predが予測値\n",
        "y_true = [100, 160, 60]\n",
        "y_pred = [80, 100, 100]\n",
        "\n",
        "r = r2_score(y_true, y_pred)\n",
        "print(r)"
      ],
      "metadata": {
        "id": "trCRbqf0PHSP",
        "outputId": "3212e284-1b8a-4d05-b9a7-4d9cf9b9dd3d",
        "colab": {
          "base_uri": "https://localhost:8080/"
        }
      },
      "execution_count": 14,
      "outputs": [
        {
          "output_type": "stream",
          "name": "stdout",
          "text": [
            "-0.10526315789473695\n"
          ]
        }
      ]
    },
    {
      "cell_type": "markdown",
      "source": [
        "# 二値分類における評価指標\n",
        "正例か負例かを予測値とする場合"
      ],
      "metadata": {
        "id": "81yMX3b0Rf30"
      }
    },
    {
      "cell_type": "code",
      "source": [
        "from sklearn.metrics import confusion_matrix\n",
        "\n",
        "# 0,1で表現される二値分類の真の値と予測値\n",
        "y_true = [1, 0, 1, 1, 0, 1, 1, 0]\n",
        "y_pred = [0, 0, 1, 1, 0, 0, 1, 1]\n",
        "\n",
        "tp = np.sum((np.array(y_true)==1)&(np.array(y_pred)==1))\n",
        "tn = np.sum((np.array(y_true)==1)&(np.array(y_pred)==0))\n",
        "fp = np.sum((np.array(y_true)==0)&(np.array(y_pred)==1))\n",
        "fn = np.sum((np.array(y_true)==0)&(np.array(y_pred)==0))\n",
        "\n",
        "confusion_matrix1 = np.array([[tp, fp], [fn, tn]])\n",
        "\n",
        "print(confusion_matrix1)\n",
        "\n",
        "# scikit-learnのmetricsモジュールのconfusion_matrixでも作成できるが、\n",
        "# 混合行列の要素の配置が違うので注意が必要\n",
        "confusion_matrix2 = confusion_matrix(y_true, y_pred)\n",
        "print(confusion_matrix2)"
      ],
      "metadata": {
        "id": "1aW1Mop8RcQo",
        "outputId": "611cdf4f-1295-43d7-9e03-f1c71b8b00ea",
        "colab": {
          "base_uri": "https://localhost:8080/"
        }
      },
      "execution_count": 15,
      "outputs": [
        {
          "output_type": "stream",
          "name": "stdout",
          "text": [
            "[[3 1]\n",
            " [2 2]]\n",
            "[[2 1]\n",
            " [2 3]]\n"
          ]
        }
      ]
    },
    {
      "cell_type": "code",
      "source": [],
      "metadata": {
        "id": "FawGkFNfTMWG"
      },
      "execution_count": null,
      "outputs": []
    }
  ]
}