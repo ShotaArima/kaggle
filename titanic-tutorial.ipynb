{
 "cells": [
  {
   "cell_type": "markdown",
   "id": "1393de39",
   "metadata": {
    "papermill": {
     "duration": 0.00553,
     "end_time": "2024-08-03T21:31:37.299794",
     "exception": false,
     "start_time": "2024-08-03T21:31:37.294264",
     "status": "completed"
    },
    "tags": []
   },
   "source": [
    "# データのインプット"
   ]
  },
  {
   "cell_type": "code",
   "execution_count": 1,
   "id": "d2146f1f",
   "metadata": {
    "_cell_guid": "b1076dfc-b9ad-4769-8c92-a6c4dae69d19",
    "_uuid": "8f2839f25d086af736a60e9eeb907d3b93b6e0e5",
    "execution": {
     "iopub.execute_input": "2024-08-03T21:31:37.311299Z",
     "iopub.status.busy": "2024-08-03T21:31:37.310805Z",
     "iopub.status.idle": "2024-08-03T21:31:38.249710Z",
     "shell.execute_reply": "2024-08-03T21:31:38.248553Z"
    },
    "papermill": {
     "duration": 0.947268,
     "end_time": "2024-08-03T21:31:38.252140",
     "exception": false,
     "start_time": "2024-08-03T21:31:37.304872",
     "status": "completed"
    },
    "tags": []
   },
   "outputs": [
    {
     "name": "stdout",
     "output_type": "stream",
     "text": [
      "/kaggle/input/titanic/train.csv\n",
      "/kaggle/input/titanic/test.csv\n",
      "/kaggle/input/titanic/gender_submission.csv\n"
     ]
    }
   ],
   "source": [
    "# This Python 3 environment comes with many helpful analytics libraries installed\n",
    "# It is defined by the kaggle/python Docker image: https://github.com/kaggle/docker-python\n",
    "# For example, here's several helpful packages to load\n",
    "\n",
    "import numpy as np # linear algebra\n",
    "import pandas as pd # data processing, CSV file I/O (e.g. pd.read_csv)\n",
    "\n",
    "# Input data files are available in the read-only \"../input/\" directory\n",
    "# For example, running this (by clicking run or pressing Shift+Enter) will list all files under the input directory\n",
    "\n",
    "import os\n",
    "for dirname, _, filenames in os.walk('/kaggle/input'):\n",
    "    for filename in filenames:\n",
    "        print(os.path.join(dirname, filename))\n",
    "\n",
    "# You can write up to 20GB to the current directory (/kaggle/working/) that gets preserved as output when you create a version using \"Save & Run All\" \n",
    "# You can also write temporary files to /kaggle/temp/, but they won't be saved outside of the current session"
   ]
  },
  {
   "cell_type": "code",
   "execution_count": 2,
   "id": "ba7b3a46",
   "metadata": {
    "execution": {
     "iopub.execute_input": "2024-08-03T21:31:38.263333Z",
     "iopub.status.busy": "2024-08-03T21:31:38.262841Z",
     "iopub.status.idle": "2024-08-03T21:31:38.308525Z",
     "shell.execute_reply": "2024-08-03T21:31:38.307260Z"
    },
    "papermill": {
     "duration": 0.054305,
     "end_time": "2024-08-03T21:31:38.311171",
     "exception": false,
     "start_time": "2024-08-03T21:31:38.256866",
     "status": "completed"
    },
    "tags": []
   },
   "outputs": [
    {
     "data": {
      "text/html": [
       "<div>\n",
       "<style scoped>\n",
       "    .dataframe tbody tr th:only-of-type {\n",
       "        vertical-align: middle;\n",
       "    }\n",
       "\n",
       "    .dataframe tbody tr th {\n",
       "        vertical-align: top;\n",
       "    }\n",
       "\n",
       "    .dataframe thead th {\n",
       "        text-align: right;\n",
       "    }\n",
       "</style>\n",
       "<table border=\"1\" class=\"dataframe\">\n",
       "  <thead>\n",
       "    <tr style=\"text-align: right;\">\n",
       "      <th></th>\n",
       "      <th>PassengerId</th>\n",
       "      <th>Survived</th>\n",
       "      <th>Pclass</th>\n",
       "      <th>Name</th>\n",
       "      <th>Sex</th>\n",
       "      <th>Age</th>\n",
       "      <th>SibSp</th>\n",
       "      <th>Parch</th>\n",
       "      <th>Ticket</th>\n",
       "      <th>Fare</th>\n",
       "      <th>Cabin</th>\n",
       "      <th>Embarked</th>\n",
       "    </tr>\n",
       "  </thead>\n",
       "  <tbody>\n",
       "    <tr>\n",
       "      <th>0</th>\n",
       "      <td>1</td>\n",
       "      <td>0</td>\n",
       "      <td>3</td>\n",
       "      <td>Braund, Mr. Owen Harris</td>\n",
       "      <td>male</td>\n",
       "      <td>22.0</td>\n",
       "      <td>1</td>\n",
       "      <td>0</td>\n",
       "      <td>A/5 21171</td>\n",
       "      <td>7.2500</td>\n",
       "      <td>NaN</td>\n",
       "      <td>S</td>\n",
       "    </tr>\n",
       "    <tr>\n",
       "      <th>1</th>\n",
       "      <td>2</td>\n",
       "      <td>1</td>\n",
       "      <td>1</td>\n",
       "      <td>Cumings, Mrs. John Bradley (Florence Briggs Th...</td>\n",
       "      <td>female</td>\n",
       "      <td>38.0</td>\n",
       "      <td>1</td>\n",
       "      <td>0</td>\n",
       "      <td>PC 17599</td>\n",
       "      <td>71.2833</td>\n",
       "      <td>C85</td>\n",
       "      <td>C</td>\n",
       "    </tr>\n",
       "    <tr>\n",
       "      <th>2</th>\n",
       "      <td>3</td>\n",
       "      <td>1</td>\n",
       "      <td>3</td>\n",
       "      <td>Heikkinen, Miss. Laina</td>\n",
       "      <td>female</td>\n",
       "      <td>26.0</td>\n",
       "      <td>0</td>\n",
       "      <td>0</td>\n",
       "      <td>STON/O2. 3101282</td>\n",
       "      <td>7.9250</td>\n",
       "      <td>NaN</td>\n",
       "      <td>S</td>\n",
       "    </tr>\n",
       "    <tr>\n",
       "      <th>3</th>\n",
       "      <td>4</td>\n",
       "      <td>1</td>\n",
       "      <td>1</td>\n",
       "      <td>Futrelle, Mrs. Jacques Heath (Lily May Peel)</td>\n",
       "      <td>female</td>\n",
       "      <td>35.0</td>\n",
       "      <td>1</td>\n",
       "      <td>0</td>\n",
       "      <td>113803</td>\n",
       "      <td>53.1000</td>\n",
       "      <td>C123</td>\n",
       "      <td>S</td>\n",
       "    </tr>\n",
       "    <tr>\n",
       "      <th>4</th>\n",
       "      <td>5</td>\n",
       "      <td>0</td>\n",
       "      <td>3</td>\n",
       "      <td>Allen, Mr. William Henry</td>\n",
       "      <td>male</td>\n",
       "      <td>35.0</td>\n",
       "      <td>0</td>\n",
       "      <td>0</td>\n",
       "      <td>373450</td>\n",
       "      <td>8.0500</td>\n",
       "      <td>NaN</td>\n",
       "      <td>S</td>\n",
       "    </tr>\n",
       "  </tbody>\n",
       "</table>\n",
       "</div>"
      ],
      "text/plain": [
       "   PassengerId  Survived  Pclass  \\\n",
       "0            1         0       3   \n",
       "1            2         1       1   \n",
       "2            3         1       3   \n",
       "3            4         1       1   \n",
       "4            5         0       3   \n",
       "\n",
       "                                                Name     Sex   Age  SibSp  \\\n",
       "0                            Braund, Mr. Owen Harris    male  22.0      1   \n",
       "1  Cumings, Mrs. John Bradley (Florence Briggs Th...  female  38.0      1   \n",
       "2                             Heikkinen, Miss. Laina  female  26.0      0   \n",
       "3       Futrelle, Mrs. Jacques Heath (Lily May Peel)  female  35.0      1   \n",
       "4                           Allen, Mr. William Henry    male  35.0      0   \n",
       "\n",
       "   Parch            Ticket     Fare Cabin Embarked  \n",
       "0      0         A/5 21171   7.2500   NaN        S  \n",
       "1      0          PC 17599  71.2833   C85        C  \n",
       "2      0  STON/O2. 3101282   7.9250   NaN        S  \n",
       "3      0            113803  53.1000  C123        S  \n",
       "4      0            373450   8.0500   NaN        S  "
      ]
     },
     "execution_count": 2,
     "metadata": {},
     "output_type": "execute_result"
    }
   ],
   "source": [
    "train = pd.read_csv(\"/kaggle/input/titanic/train.csv\")\n",
    "train.head()"
   ]
  },
  {
   "cell_type": "code",
   "execution_count": 3,
   "id": "f9e679a9",
   "metadata": {
    "execution": {
     "iopub.execute_input": "2024-08-03T21:31:38.323674Z",
     "iopub.status.busy": "2024-08-03T21:31:38.322898Z",
     "iopub.status.idle": "2024-08-03T21:31:38.345247Z",
     "shell.execute_reply": "2024-08-03T21:31:38.343985Z"
    },
    "papermill": {
     "duration": 0.031017,
     "end_time": "2024-08-03T21:31:38.347688",
     "exception": false,
     "start_time": "2024-08-03T21:31:38.316671",
     "status": "completed"
    },
    "tags": []
   },
   "outputs": [
    {
     "data": {
      "text/html": [
       "<div>\n",
       "<style scoped>\n",
       "    .dataframe tbody tr th:only-of-type {\n",
       "        vertical-align: middle;\n",
       "    }\n",
       "\n",
       "    .dataframe tbody tr th {\n",
       "        vertical-align: top;\n",
       "    }\n",
       "\n",
       "    .dataframe thead th {\n",
       "        text-align: right;\n",
       "    }\n",
       "</style>\n",
       "<table border=\"1\" class=\"dataframe\">\n",
       "  <thead>\n",
       "    <tr style=\"text-align: right;\">\n",
       "      <th></th>\n",
       "      <th>PassengerId</th>\n",
       "      <th>Pclass</th>\n",
       "      <th>Name</th>\n",
       "      <th>Sex</th>\n",
       "      <th>Age</th>\n",
       "      <th>SibSp</th>\n",
       "      <th>Parch</th>\n",
       "      <th>Ticket</th>\n",
       "      <th>Fare</th>\n",
       "      <th>Cabin</th>\n",
       "      <th>Embarked</th>\n",
       "    </tr>\n",
       "  </thead>\n",
       "  <tbody>\n",
       "    <tr>\n",
       "      <th>0</th>\n",
       "      <td>892</td>\n",
       "      <td>3</td>\n",
       "      <td>Kelly, Mr. James</td>\n",
       "      <td>male</td>\n",
       "      <td>34.5</td>\n",
       "      <td>0</td>\n",
       "      <td>0</td>\n",
       "      <td>330911</td>\n",
       "      <td>7.8292</td>\n",
       "      <td>NaN</td>\n",
       "      <td>Q</td>\n",
       "    </tr>\n",
       "    <tr>\n",
       "      <th>1</th>\n",
       "      <td>893</td>\n",
       "      <td>3</td>\n",
       "      <td>Wilkes, Mrs. James (Ellen Needs)</td>\n",
       "      <td>female</td>\n",
       "      <td>47.0</td>\n",
       "      <td>1</td>\n",
       "      <td>0</td>\n",
       "      <td>363272</td>\n",
       "      <td>7.0000</td>\n",
       "      <td>NaN</td>\n",
       "      <td>S</td>\n",
       "    </tr>\n",
       "    <tr>\n",
       "      <th>2</th>\n",
       "      <td>894</td>\n",
       "      <td>2</td>\n",
       "      <td>Myles, Mr. Thomas Francis</td>\n",
       "      <td>male</td>\n",
       "      <td>62.0</td>\n",
       "      <td>0</td>\n",
       "      <td>0</td>\n",
       "      <td>240276</td>\n",
       "      <td>9.6875</td>\n",
       "      <td>NaN</td>\n",
       "      <td>Q</td>\n",
       "    </tr>\n",
       "    <tr>\n",
       "      <th>3</th>\n",
       "      <td>895</td>\n",
       "      <td>3</td>\n",
       "      <td>Wirz, Mr. Albert</td>\n",
       "      <td>male</td>\n",
       "      <td>27.0</td>\n",
       "      <td>0</td>\n",
       "      <td>0</td>\n",
       "      <td>315154</td>\n",
       "      <td>8.6625</td>\n",
       "      <td>NaN</td>\n",
       "      <td>S</td>\n",
       "    </tr>\n",
       "    <tr>\n",
       "      <th>4</th>\n",
       "      <td>896</td>\n",
       "      <td>3</td>\n",
       "      <td>Hirvonen, Mrs. Alexander (Helga E Lindqvist)</td>\n",
       "      <td>female</td>\n",
       "      <td>22.0</td>\n",
       "      <td>1</td>\n",
       "      <td>1</td>\n",
       "      <td>3101298</td>\n",
       "      <td>12.2875</td>\n",
       "      <td>NaN</td>\n",
       "      <td>S</td>\n",
       "    </tr>\n",
       "  </tbody>\n",
       "</table>\n",
       "</div>"
      ],
      "text/plain": [
       "   PassengerId  Pclass                                          Name     Sex  \\\n",
       "0          892       3                              Kelly, Mr. James    male   \n",
       "1          893       3              Wilkes, Mrs. James (Ellen Needs)  female   \n",
       "2          894       2                     Myles, Mr. Thomas Francis    male   \n",
       "3          895       3                              Wirz, Mr. Albert    male   \n",
       "4          896       3  Hirvonen, Mrs. Alexander (Helga E Lindqvist)  female   \n",
       "\n",
       "    Age  SibSp  Parch   Ticket     Fare Cabin Embarked  \n",
       "0  34.5      0      0   330911   7.8292   NaN        Q  \n",
       "1  47.0      1      0   363272   7.0000   NaN        S  \n",
       "2  62.0      0      0   240276   9.6875   NaN        Q  \n",
       "3  27.0      0      0   315154   8.6625   NaN        S  \n",
       "4  22.0      1      1  3101298  12.2875   NaN        S  "
      ]
     },
     "execution_count": 3,
     "metadata": {},
     "output_type": "execute_result"
    }
   ],
   "source": [
    "test = pd.read_csv(\"/kaggle/input/titanic/test.csv\")\n",
    "test.head()"
   ]
  },
  {
   "cell_type": "markdown",
   "id": "8baa9589",
   "metadata": {
    "papermill": {
     "duration": 0.005136,
     "end_time": "2024-08-03T21:31:38.358250",
     "exception": false,
     "start_time": "2024-08-03T21:31:38.353114",
     "status": "completed"
    },
    "tags": []
   },
   "source": [
    "入力されたデータ\n",
    "# データの入力\n",
    "\n",
    "| 変数 | 定義 | キー |\n",
    "|------|------|------|\n",
    "| survival | 生存 | 0 = いいえ, 1 = はい |\n",
    "| pclass | チケットのクラス | 1 = 1等, 2 = 2等, 3 = 3等 |\n",
    "| sex | 性別 | |\n",
    "| Age | 年齢（歳） | |\n",
    "| sibsp | タイタニック号に乗船していた兄弟姉妹/配偶者の数 | |\n",
    "| parch | タイタニック号に乗船していた親/子供の数 | |\n",
    "| ticket | チケット番号 | |\n",
    "| fare | 乗客運賃 | |\n",
    "| cabin | 客室番号 | |\n",
    "| embarked | 出港地 | C = シェルブール, Q = クイーンズタウン, S = サウサンプトン |\n"
   ]
  },
  {
   "cell_type": "markdown",
   "id": "52fab740",
   "metadata": {
    "papermill": {
     "duration": 0.004884,
     "end_time": "2024-08-03T21:31:38.368444",
     "exception": false,
     "start_time": "2024-08-03T21:31:38.363560",
     "status": "completed"
    },
    "tags": []
   },
   "source": [
    "# 前処理"
   ]
  },
  {
   "cell_type": "code",
   "execution_count": 4,
   "id": "02d02f1b",
   "metadata": {
    "execution": {
     "iopub.execute_input": "2024-08-03T21:31:38.381770Z",
     "iopub.status.busy": "2024-08-03T21:31:38.380624Z",
     "iopub.status.idle": "2024-08-03T21:31:38.392420Z",
     "shell.execute_reply": "2024-08-03T21:31:38.391196Z"
    },
    "papermill": {
     "duration": 0.020969,
     "end_time": "2024-08-03T21:31:38.394910",
     "exception": false,
     "start_time": "2024-08-03T21:31:38.373941",
     "status": "completed"
    },
    "tags": []
   },
   "outputs": [
    {
     "data": {
      "text/plain": [
       "PassengerId      0\n",
       "Survived         0\n",
       "Pclass           0\n",
       "Name             0\n",
       "Sex              0\n",
       "Age            177\n",
       "SibSp            0\n",
       "Parch            0\n",
       "Ticket           0\n",
       "Fare             0\n",
       "Cabin          687\n",
       "Embarked         2\n",
       "dtype: int64"
      ]
     },
     "execution_count": 4,
     "metadata": {},
     "output_type": "execute_result"
    }
   ],
   "source": [
    "# trainデータの欠損値確認\n",
    "train.isnull().sum()"
   ]
  },
  {
   "cell_type": "code",
   "execution_count": 5,
   "id": "eeb256ad",
   "metadata": {
    "execution": {
     "iopub.execute_input": "2024-08-03T21:31:38.407973Z",
     "iopub.status.busy": "2024-08-03T21:31:38.407581Z",
     "iopub.status.idle": "2024-08-03T21:31:38.420211Z",
     "shell.execute_reply": "2024-08-03T21:31:38.419186Z"
    },
    "papermill": {
     "duration": 0.02176,
     "end_time": "2024-08-03T21:31:38.422554",
     "exception": false,
     "start_time": "2024-08-03T21:31:38.400794",
     "status": "completed"
    },
    "tags": []
   },
   "outputs": [],
   "source": [
    "train[\"Age\"] = train[\"Age\"].fillna(train[\"Age\"].mode()[0])\n",
    "train[\"Cabin\"] = train[\"Cabin\"].fillna(train[\"Cabin\"].mode()[0])\n",
    "train[\"Embarked\"] = train[\"Embarked\"].fillna(train[\"Embarked\"].mode()[0])"
   ]
  },
  {
   "cell_type": "code",
   "execution_count": 6,
   "id": "5e1bf15e",
   "metadata": {
    "execution": {
     "iopub.execute_input": "2024-08-03T21:31:38.435422Z",
     "iopub.status.busy": "2024-08-03T21:31:38.434988Z",
     "iopub.status.idle": "2024-08-03T21:31:38.444315Z",
     "shell.execute_reply": "2024-08-03T21:31:38.443194Z"
    },
    "papermill": {
     "duration": 0.019028,
     "end_time": "2024-08-03T21:31:38.446899",
     "exception": false,
     "start_time": "2024-08-03T21:31:38.427871",
     "status": "completed"
    },
    "tags": []
   },
   "outputs": [
    {
     "data": {
      "text/plain": [
       "PassengerId    0\n",
       "Survived       0\n",
       "Pclass         0\n",
       "Name           0\n",
       "Sex            0\n",
       "Age            0\n",
       "SibSp          0\n",
       "Parch          0\n",
       "Ticket         0\n",
       "Fare           0\n",
       "Cabin          0\n",
       "Embarked       0\n",
       "dtype: int64"
      ]
     },
     "execution_count": 6,
     "metadata": {},
     "output_type": "execute_result"
    }
   ],
   "source": [
    "train.isnull().sum()"
   ]
  },
  {
   "cell_type": "code",
   "execution_count": 7,
   "id": "10db219d",
   "metadata": {
    "execution": {
     "iopub.execute_input": "2024-08-03T21:31:38.460414Z",
     "iopub.status.busy": "2024-08-03T21:31:38.459291Z",
     "iopub.status.idle": "2024-08-03T21:31:38.468157Z",
     "shell.execute_reply": "2024-08-03T21:31:38.467095Z"
    },
    "papermill": {
     "duration": 0.018052,
     "end_time": "2024-08-03T21:31:38.470545",
     "exception": false,
     "start_time": "2024-08-03T21:31:38.452493",
     "status": "completed"
    },
    "tags": []
   },
   "outputs": [
    {
     "data": {
      "text/plain": [
       "PassengerId      0\n",
       "Pclass           0\n",
       "Name             0\n",
       "Sex              0\n",
       "Age             86\n",
       "SibSp            0\n",
       "Parch            0\n",
       "Ticket           0\n",
       "Fare             1\n",
       "Cabin          327\n",
       "Embarked         0\n",
       "dtype: int64"
      ]
     },
     "execution_count": 7,
     "metadata": {},
     "output_type": "execute_result"
    }
   ],
   "source": [
    "# testデータの欠損値\n",
    "test.isnull().sum()"
   ]
  },
  {
   "cell_type": "code",
   "execution_count": 8,
   "id": "3fb418c6",
   "metadata": {
    "execution": {
     "iopub.execute_input": "2024-08-03T21:31:38.483464Z",
     "iopub.status.busy": "2024-08-03T21:31:38.483043Z",
     "iopub.status.idle": "2024-08-03T21:31:38.492257Z",
     "shell.execute_reply": "2024-08-03T21:31:38.490860Z"
    },
    "papermill": {
     "duration": 0.018431,
     "end_time": "2024-08-03T21:31:38.494699",
     "exception": false,
     "start_time": "2024-08-03T21:31:38.476268",
     "status": "completed"
    },
    "tags": []
   },
   "outputs": [],
   "source": [
    "test[\"Age\"] = test[\"Age\"].fillna(test[\"Age\"].mode()[0])\n",
    "test[\"Cabin\"] = test[\"Cabin\"].fillna(test[\"Cabin\"].mode()[0])\n",
    "test[\"Fare\"] = test[\"Fare\"].fillna(test[\"Fare\"].mode()[0])"
   ]
  },
  {
   "cell_type": "code",
   "execution_count": 9,
   "id": "3a48722c",
   "metadata": {
    "execution": {
     "iopub.execute_input": "2024-08-03T21:31:38.508103Z",
     "iopub.status.busy": "2024-08-03T21:31:38.507740Z",
     "iopub.status.idle": "2024-08-03T21:31:38.516814Z",
     "shell.execute_reply": "2024-08-03T21:31:38.515632Z"
    },
    "papermill": {
     "duration": 0.018286,
     "end_time": "2024-08-03T21:31:38.519052",
     "exception": false,
     "start_time": "2024-08-03T21:31:38.500766",
     "status": "completed"
    },
    "tags": []
   },
   "outputs": [
    {
     "data": {
      "text/plain": [
       "PassengerId    0\n",
       "Pclass         0\n",
       "Name           0\n",
       "Sex            0\n",
       "Age            0\n",
       "SibSp          0\n",
       "Parch          0\n",
       "Ticket         0\n",
       "Fare           0\n",
       "Cabin          0\n",
       "Embarked       0\n",
       "dtype: int64"
      ]
     },
     "execution_count": 9,
     "metadata": {},
     "output_type": "execute_result"
    }
   ],
   "source": [
    "test.isnull().sum()"
   ]
  },
  {
   "cell_type": "code",
   "execution_count": 10,
   "id": "5ac61f0e",
   "metadata": {
    "execution": {
     "iopub.execute_input": "2024-08-03T21:31:38.531952Z",
     "iopub.status.busy": "2024-08-03T21:31:38.531604Z",
     "iopub.status.idle": "2024-08-03T21:31:38.554561Z",
     "shell.execute_reply": "2024-08-03T21:31:38.553357Z"
    },
    "papermill": {
     "duration": 0.032461,
     "end_time": "2024-08-03T21:31:38.557190",
     "exception": false,
     "start_time": "2024-08-03T21:31:38.524729",
     "status": "completed"
    },
    "tags": []
   },
   "outputs": [],
   "source": [
    "# 文字列をダミー変数に\n",
    "train = pd.get_dummies(train, columns=['Sex', 'Embarked'])\n",
    "test = pd.get_dummies(test, columns=['Sex', 'Embarked'])"
   ]
  },
  {
   "cell_type": "code",
   "execution_count": 11,
   "id": "518a0e98",
   "metadata": {
    "execution": {
     "iopub.execute_input": "2024-08-03T21:31:38.571399Z",
     "iopub.status.busy": "2024-08-03T21:31:38.570881Z",
     "iopub.status.idle": "2024-08-03T21:31:38.588750Z",
     "shell.execute_reply": "2024-08-03T21:31:38.587643Z"
    },
    "papermill": {
     "duration": 0.028184,
     "end_time": "2024-08-03T21:31:38.591082",
     "exception": false,
     "start_time": "2024-08-03T21:31:38.562898",
     "status": "completed"
    },
    "tags": []
   },
   "outputs": [
    {
     "data": {
      "text/html": [
       "<div>\n",
       "<style scoped>\n",
       "    .dataframe tbody tr th:only-of-type {\n",
       "        vertical-align: middle;\n",
       "    }\n",
       "\n",
       "    .dataframe tbody tr th {\n",
       "        vertical-align: top;\n",
       "    }\n",
       "\n",
       "    .dataframe thead th {\n",
       "        text-align: right;\n",
       "    }\n",
       "</style>\n",
       "<table border=\"1\" class=\"dataframe\">\n",
       "  <thead>\n",
       "    <tr style=\"text-align: right;\">\n",
       "      <th></th>\n",
       "      <th>PassengerId</th>\n",
       "      <th>Survived</th>\n",
       "      <th>Pclass</th>\n",
       "      <th>Name</th>\n",
       "      <th>Age</th>\n",
       "      <th>SibSp</th>\n",
       "      <th>Parch</th>\n",
       "      <th>Ticket</th>\n",
       "      <th>Fare</th>\n",
       "      <th>Cabin</th>\n",
       "      <th>Sex_female</th>\n",
       "      <th>Sex_male</th>\n",
       "      <th>Embarked_C</th>\n",
       "      <th>Embarked_Q</th>\n",
       "      <th>Embarked_S</th>\n",
       "    </tr>\n",
       "  </thead>\n",
       "  <tbody>\n",
       "    <tr>\n",
       "      <th>0</th>\n",
       "      <td>1</td>\n",
       "      <td>0</td>\n",
       "      <td>3</td>\n",
       "      <td>Braund, Mr. Owen Harris</td>\n",
       "      <td>22.0</td>\n",
       "      <td>1</td>\n",
       "      <td>0</td>\n",
       "      <td>A/5 21171</td>\n",
       "      <td>7.2500</td>\n",
       "      <td>B96 B98</td>\n",
       "      <td>False</td>\n",
       "      <td>True</td>\n",
       "      <td>False</td>\n",
       "      <td>False</td>\n",
       "      <td>True</td>\n",
       "    </tr>\n",
       "    <tr>\n",
       "      <th>1</th>\n",
       "      <td>2</td>\n",
       "      <td>1</td>\n",
       "      <td>1</td>\n",
       "      <td>Cumings, Mrs. John Bradley (Florence Briggs Th...</td>\n",
       "      <td>38.0</td>\n",
       "      <td>1</td>\n",
       "      <td>0</td>\n",
       "      <td>PC 17599</td>\n",
       "      <td>71.2833</td>\n",
       "      <td>C85</td>\n",
       "      <td>True</td>\n",
       "      <td>False</td>\n",
       "      <td>True</td>\n",
       "      <td>False</td>\n",
       "      <td>False</td>\n",
       "    </tr>\n",
       "    <tr>\n",
       "      <th>2</th>\n",
       "      <td>3</td>\n",
       "      <td>1</td>\n",
       "      <td>3</td>\n",
       "      <td>Heikkinen, Miss. Laina</td>\n",
       "      <td>26.0</td>\n",
       "      <td>0</td>\n",
       "      <td>0</td>\n",
       "      <td>STON/O2. 3101282</td>\n",
       "      <td>7.9250</td>\n",
       "      <td>B96 B98</td>\n",
       "      <td>True</td>\n",
       "      <td>False</td>\n",
       "      <td>False</td>\n",
       "      <td>False</td>\n",
       "      <td>True</td>\n",
       "    </tr>\n",
       "    <tr>\n",
       "      <th>3</th>\n",
       "      <td>4</td>\n",
       "      <td>1</td>\n",
       "      <td>1</td>\n",
       "      <td>Futrelle, Mrs. Jacques Heath (Lily May Peel)</td>\n",
       "      <td>35.0</td>\n",
       "      <td>1</td>\n",
       "      <td>0</td>\n",
       "      <td>113803</td>\n",
       "      <td>53.1000</td>\n",
       "      <td>C123</td>\n",
       "      <td>True</td>\n",
       "      <td>False</td>\n",
       "      <td>False</td>\n",
       "      <td>False</td>\n",
       "      <td>True</td>\n",
       "    </tr>\n",
       "    <tr>\n",
       "      <th>4</th>\n",
       "      <td>5</td>\n",
       "      <td>0</td>\n",
       "      <td>3</td>\n",
       "      <td>Allen, Mr. William Henry</td>\n",
       "      <td>35.0</td>\n",
       "      <td>0</td>\n",
       "      <td>0</td>\n",
       "      <td>373450</td>\n",
       "      <td>8.0500</td>\n",
       "      <td>B96 B98</td>\n",
       "      <td>False</td>\n",
       "      <td>True</td>\n",
       "      <td>False</td>\n",
       "      <td>False</td>\n",
       "      <td>True</td>\n",
       "    </tr>\n",
       "  </tbody>\n",
       "</table>\n",
       "</div>"
      ],
      "text/plain": [
       "   PassengerId  Survived  Pclass  \\\n",
       "0            1         0       3   \n",
       "1            2         1       1   \n",
       "2            3         1       3   \n",
       "3            4         1       1   \n",
       "4            5         0       3   \n",
       "\n",
       "                                                Name   Age  SibSp  Parch  \\\n",
       "0                            Braund, Mr. Owen Harris  22.0      1      0   \n",
       "1  Cumings, Mrs. John Bradley (Florence Briggs Th...  38.0      1      0   \n",
       "2                             Heikkinen, Miss. Laina  26.0      0      0   \n",
       "3       Futrelle, Mrs. Jacques Heath (Lily May Peel)  35.0      1      0   \n",
       "4                           Allen, Mr. William Henry  35.0      0      0   \n",
       "\n",
       "             Ticket     Fare    Cabin  Sex_female  Sex_male  Embarked_C  \\\n",
       "0         A/5 21171   7.2500  B96 B98       False      True       False   \n",
       "1          PC 17599  71.2833      C85        True     False        True   \n",
       "2  STON/O2. 3101282   7.9250  B96 B98        True     False       False   \n",
       "3            113803  53.1000     C123        True     False       False   \n",
       "4            373450   8.0500  B96 B98       False      True       False   \n",
       "\n",
       "   Embarked_Q  Embarked_S  \n",
       "0       False        True  \n",
       "1       False       False  \n",
       "2       False        True  \n",
       "3       False        True  \n",
       "4       False        True  "
      ]
     },
     "execution_count": 11,
     "metadata": {},
     "output_type": "execute_result"
    }
   ],
   "source": [
    "train.head()"
   ]
  },
  {
   "cell_type": "markdown",
   "id": "99df264e",
   "metadata": {
    "papermill": {
     "duration": 0.00589,
     "end_time": "2024-08-03T21:31:38.603024",
     "exception": false,
     "start_time": "2024-08-03T21:31:38.597134",
     "status": "completed"
    },
    "tags": []
   },
   "source": [
    "# 生存書予測"
   ]
  },
  {
   "cell_type": "code",
   "execution_count": 12,
   "id": "9875b3fc",
   "metadata": {
    "execution": {
     "iopub.execute_input": "2024-08-03T21:31:38.616669Z",
     "iopub.status.busy": "2024-08-03T21:31:38.616285Z",
     "iopub.status.idle": "2024-08-03T21:31:40.150429Z",
     "shell.execute_reply": "2024-08-03T21:31:40.149272Z"
    },
    "papermill": {
     "duration": 1.544164,
     "end_time": "2024-08-03T21:31:40.153137",
     "exception": false,
     "start_time": "2024-08-03T21:31:38.608973",
     "status": "completed"
    },
    "tags": []
   },
   "outputs": [],
   "source": [
    "from sklearn.neighbors import KNeighborsClassifier\n",
    "clf = KNeighborsClassifier(n_neighbors=1)\n",
    "\n",
    "X_train = train[[\"Pclass\", \"Age\", \"SibSp\", \"Parch\", \"Fare\", \"Sex_female\", \"Sex_male\", \"Embarked_C\", \"Embarked_Q\", \"Embarked_S\"]]\n",
    "y_train = train[\"Survived\"]\n",
    "\n",
    "X_test = test[[\"Pclass\", \"Age\", \"SibSp\", \"Parch\", \"Fare\", \"Sex_female\", \"Sex_male\", \"Embarked_C\", \"Embarked_Q\", \"Embarked_S\"]]\n",
    "\n",
    "clf.fit(X_train, y_train)\n",
    "\n",
    "# t_test に予測結果を格納\n",
    "y_test = clf.predict(X_test)"
   ]
  },
  {
   "cell_type": "code",
   "execution_count": 13,
   "id": "a9e1bce0",
   "metadata": {
    "execution": {
     "iopub.execute_input": "2024-08-03T21:31:40.167033Z",
     "iopub.status.busy": "2024-08-03T21:31:40.166640Z",
     "iopub.status.idle": "2024-08-03T21:31:40.176685Z",
     "shell.execute_reply": "2024-08-03T21:31:40.175583Z"
    },
    "papermill": {
     "duration": 0.020004,
     "end_time": "2024-08-03T21:31:40.179214",
     "exception": false,
     "start_time": "2024-08-03T21:31:40.159210",
     "status": "completed"
    },
    "tags": []
   },
   "outputs": [],
   "source": [
    "# 回答ファイルの作成・エクスポート\n",
    "# PassengerId を取得\n",
    "PassengerId = np.array(test[\"PassengerId\"]).astype(int)\n",
    "\n",
    "# y_test と PassengerId を結合\n",
    "answer = pd.DataFrame(y_test, PassengerId, columns = [\"Survived\"])\n",
    "\n",
    "# titanic_answer_01.csv としてエクスポート\n",
    "answer.to_csv(\"titanic_answer_01.csv\", index_label = [\"PassengerId\"])"
   ]
  },
  {
   "cell_type": "code",
   "execution_count": null,
   "id": "47d26c25",
   "metadata": {
    "papermill": {
     "duration": 0.00704,
     "end_time": "2024-08-03T21:31:40.192607",
     "exception": false,
     "start_time": "2024-08-03T21:31:40.185567",
     "status": "completed"
    },
    "tags": []
   },
   "outputs": [],
   "source": []
  }
 ],
 "metadata": {
  "kaggle": {
   "accelerator": "none",
   "dataSources": [
    {
     "databundleVersionId": 26502,
     "sourceId": 3136,
     "sourceType": "competition"
    }
   ],
   "dockerImageVersionId": 30746,
   "isGpuEnabled": false,
   "isInternetEnabled": true,
   "language": "python",
   "sourceType": "notebook"
  },
  "kernelspec": {
   "display_name": "Python 3",
   "language": "python",
   "name": "python3"
  },
  "language_info": {
   "codemirror_mode": {
    "name": "ipython",
    "version": 3
   },
   "file_extension": ".py",
   "mimetype": "text/x-python",
   "name": "python",
   "nbconvert_exporter": "python",
   "pygments_lexer": "ipython3",
   "version": "3.10.13"
  },
  "papermill": {
   "default_parameters": {},
   "duration": 6.434162,
   "end_time": "2024-08-03T21:31:40.820954",
   "environment_variables": {},
   "exception": null,
   "input_path": "__notebook__.ipynb",
   "output_path": "__notebook__.ipynb",
   "parameters": {},
   "start_time": "2024-08-03T21:31:34.386792",
   "version": "2.5.0"
  }
 },
 "nbformat": 4,
 "nbformat_minor": 5
}
