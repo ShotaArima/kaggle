{
  "nbformat": 4,
  "nbformat_minor": 0,
  "metadata": {
    "colab": {
      "provenance": [],
      "toc_visible": true,
      "include_colab_link": true
    },
    "kernelspec": {
      "name": "python3",
      "display_name": "Python 3"
    },
    "language_info": {
      "name": "python"
    }
  },
  "cells": [
    {
      "cell_type": "markdown",
      "metadata": {
        "id": "view-in-github",
        "colab_type": "text"
      },
      "source": [
        "<a href=\"https://colab.research.google.com/github/ShotaArima/kaggle/blob/main/books/Kaggle%E3%81%A7%E5%8B%9D%E3%81%A4%E3%83%87%E3%83%BC%E3%82%BF%E5%88%86%E6%9E%90%E3%81%AE%E6%8A%80%E8%A1%93/02-%E3%82%BF%E3%82%B9%E3%82%AF%E3%81%A8%E8%A9%95%E4%BE%A1%E6%8C%87%E6%A8%99/05-threshold-optimization.ipynb\" target=\"_parent\"><img src=\"https://colab.research.google.com/assets/colab-badge.svg\" alt=\"Open In Colab\"/></a>"
      ]
    },
    {
      "cell_type": "markdown",
      "source": [
        "# 閾値の最適化\n",
        "目的関数が微分可能ではなくても使用できる最適化アルゴリズムとして、Nelder-Meadを使用する。他には\n",
        "- COBYLA\n",
        "    - 制約式を設定できるアルゴリズム\n",
        "- SLSQP\n",
        "    - 目的関数、制約式が微分可能であることを必要とするアルゴリズム\n",
        "\n"
      ],
      "metadata": {
        "id": "jR5tw2czdKOQ"
      }
    },
    {
      "cell_type": "code",
      "source": [
        "from sklearn.metrics import f1_score\n",
        "from scipy.optimize import minimize\n",
        "import numpy as np\n",
        "import pandas as pd"
      ],
      "metadata": {
        "id": "eXu0fF10dMGS"
      },
      "execution_count": 4,
      "outputs": []
    },
    {
      "cell_type": "code",
      "source": [
        "# サンプルデータの作成\n",
        "rand = np.random.RandomState(seed=71)\n",
        "train_y_prob = np.linspace(0, 1.0, 10000)\n",
        "\n",
        "# 真の値と予測値が以下のtrain_y, train_y_prebであったとする\n",
        "train_y = pd.Series(rand.uniform(0.0, 1.0, train_y_prob.size) < train_y_prob)\n",
        "train_pred_prob = np.clip(train_y_prob * np.exp(rand.standard_exponential(train_y_prob.shape) * 0.3), 0.0, 1.0)\n",
        "\n",
        "# 閾値を0.5とする\n",
        "init_threshold = 0.5\n",
        "init_score = f1_score(train_y, train_pred_prob >= init_threshold)\n",
        "print(f\"init_threshold:\\t{init_threshold}, \\ninit_socre:\\t{init_score}\")"
      ],
      "metadata": {
        "id": "hu3_nasJeJGD",
        "outputId": "0662f2e9-baeb-40be-ed47-ca0a50e45109",
        "colab": {
          "base_uri": "https://localhost:8080/"
        }
      },
      "execution_count": 12,
      "outputs": [
        {
          "output_type": "stream",
          "name": "stdout",
          "text": [
            "init_threshold:\t0.5, \n",
            "init_socre:\t0.7580384408119274\n"
          ]
        }
      ]
    },
    {
      "cell_type": "code",
      "source": [
        "# 最適化の目的関数を設定\n",
        "def F1_opt(x):\n",
        "    return -f1_score(train_y, train_pred_prob >= x)"
      ],
      "metadata": {
        "id": "oNVnlkhxgfpQ"
      },
      "execution_count": 16,
      "outputs": []
    },
    {
      "cell_type": "code",
      "source": [
        "# scipy.optimizeのminimizeメソッドで最適化閾値を求める\n",
        "# 求めた最適な閾値を元にF1-socreを求める\n",
        "result = minimize(F1_opt, x0=np.array([0.5]), method = \"Nelder-Mead\")\n",
        "best_threshold = result['x'].item()\n",
        "best_score = f1_score(train_y, train_pred_prob >= best_threshold)\n",
        "print(f\"best_threshold:\\t{best_threshold}, \\nbest_socre:\\t{best_score}\")"
      ],
      "metadata": {
        "id": "oOuBoHQChhye",
        "outputId": "8cc995df-522a-4bf2-8b79-8b6cff8bc237",
        "colab": {
          "base_uri": "https://localhost:8080/"
        }
      },
      "execution_count": 18,
      "outputs": [
        {
          "output_type": "stream",
          "name": "stdout",
          "text": [
            "best_threshold:\t0.4292968749999999, \n",
            "best_socre:\t0.7605272167066073\n"
          ]
        }
      ]
    },
    {
      "cell_type": "code",
      "source": [],
      "metadata": {
        "id": "KYo3BVEKiV86"
      },
      "execution_count": null,
      "outputs": []
    }
  ]
}