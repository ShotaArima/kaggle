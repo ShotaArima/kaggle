{
  "nbformat": 4,
  "nbformat_minor": 0,
  "metadata": {
    "colab": {
      "provenance": [],
      "toc_visible": true,
      "include_colab_link": true
    },
    "kernelspec": {
      "name": "python3",
      "display_name": "Python 3"
    },
    "language_info": {
      "name": "python"
    }
  },
  "cells": [
    {
      "cell_type": "markdown",
      "metadata": {
        "id": "view-in-github",
        "colab_type": "text"
      },
      "source": [
        "<a href=\"https://colab.research.google.com/github/ShotaArima/kaggle/blob/main/books/Kaggle%E3%81%A7%E5%8B%9D%E3%81%A4%E3%83%87%E3%83%BC%E3%82%BF%E5%88%86%E6%9E%90%E3%81%AE%E6%8A%80%E8%A1%93/03-evaluation_metrics.ipynb\" target=\"_parent\"><img src=\"https://colab.research.google.com/assets/colab-badge.svg\" alt=\"Open In Colab\"/></a>"
      ]
    },
    {
      "cell_type": "markdown",
      "source": [
        "# 評価指標\n",
        "ここでは、評価指標についてまとめていく  \n",
        "文献 : \"Kaggleで勝つデータ分析の技術\" 技術評論社"
      ],
      "metadata": {
        "id": "_j5qxdGhj_jC"
      }
    },
    {
      "cell_type": "code",
      "source": [
        "# ライブラリのインポート\n",
        "import numpy as np"
      ],
      "metadata": {
        "id": "ycWfe3vUktV5"
      },
      "execution_count": 1,
      "outputs": []
    },
    {
      "cell_type": "markdown",
      "source": [
        "## RMSE (Root Mean Squared Error)\n",
        "$$\n",
        "\\mathrm{RMSE} = \\sqrt{\\cfrac{1}{N}\\sum^{n}_{i=1}(y_i-\\hat{y}_i)^2}\n",
        "$$"
      ],
      "metadata": {
        "id": "bk-54IWdkG4e"
      }
    },
    {
      "cell_type": "code",
      "source": [
        "from sklearn.metrics import mean_squared_error\n",
        "\n",
        "# y_tureが真の値、y_predが予測値\n",
        "y_true = [100, 160, 60]\n",
        "y_pred = [80, 100, 100]\n",
        "\n",
        "rmse = np.sqrt(mean_squared_error(y_true, y_pred))\n",
        "print(rmse)"
      ],
      "metadata": {
        "colab": {
          "base_uri": "https://localhost:8080/"
        },
        "id": "40U7S7Syj_Tm",
        "outputId": "5a56172b-a43c-4027-c983-c6d7d8626d08"
      },
      "execution_count": 2,
      "outputs": [
        {
          "output_type": "stream",
          "name": "stdout",
          "text": [
            "43.20493798938573\n"
          ]
        }
      ]
    },
    {
      "cell_type": "markdown",
      "source": [
        "## RMSLE (Root Mean Squared Logarithmic Error)\n",
        "$$\n",
        "\\mathrm{RMSLE} = \\sqrt{\\cfrac{1}{N}\\sum^{N}_{i=1}((\\log{(1+y_i)})-\\log{(1+\\hat{y_i})})^2}\n",
        "$$"
      ],
      "metadata": {
        "id": "P1Dv7nsLNczF"
      }
    },
    {
      "cell_type": "code",
      "execution_count": 3,
      "metadata": {
        "id": "rvOV9vy9j5Mb",
        "outputId": "f201ad55-8a34-4225-b0ff-a09d626603d3",
        "colab": {
          "base_uri": "https://localhost:8080/"
        }
      },
      "outputs": [
        {
          "output_type": "stream",
          "name": "stdout",
          "text": [
            "1.4944905400842203\n"
          ]
        }
      ],
      "source": [
        "from sklearn.metrics import mean_squared_log_error\n",
        "\n",
        "# y_tureが真の値、y_predが予測値\n",
        "y_true = [100, 0, 400]\n",
        "y_pred = [200, 10, 200]\n",
        "\n",
        "rmsle = np.sqrt(mean_squared_log_error(y_true, y_pred))\n",
        "print(rmsle)"
      ]
    },
    {
      "cell_type": "markdown",
      "source": [
        "## MAE (Mean Absolute Error)\n",
        "$$\n",
        "\\mathrm{MAE} = \\cfrac{1}{N}\\sum^{N}_{i=1}|y_i-\\hat{y_i}|\n",
        "$$"
      ],
      "metadata": {
        "id": "YznUZO_EOmrv"
      }
    },
    {
      "cell_type": "code",
      "source": [
        "from sklearn.metrics import mean_absolute_error\n",
        "\n",
        "# y_tureが真の値、y_predが予測値\n",
        "y_true = [100, 160, 60]\n",
        "y_pred = [80, 100, 100]\n",
        "\n",
        "mae = mean_absolute_error(y_true, y_pred)\n",
        "print(mae)"
      ],
      "metadata": {
        "id": "uSclqpnuNyiG",
        "outputId": "ef379b1e-6c15-4a3b-b95e-79f6a099f90a",
        "colab": {
          "base_uri": "https://localhost:8080/"
        }
      },
      "execution_count": 4,
      "outputs": [
        {
          "output_type": "stream",
          "name": "stdout",
          "text": [
            "40.0\n"
          ]
        }
      ]
    },
    {
      "cell_type": "markdown",
      "source": [
        "## 決定係数 ($\\mathrm{R^2}$)\n",
        "$$\n",
        "\\mathrm{R}^2=1-\\cfrac{\\sum^{N}_{i=1}(y_i-\\hat{y_i})^2}{y_i-\\bar{y}} \\\\\n",
        "\\bar{y}=\\cfrac{1}{N}\\sum^{N}_{i=1}y_i\n",
        "$$"
      ],
      "metadata": {
        "id": "SBSXvdb_Qq7k"
      }
    },
    {
      "cell_type": "code",
      "source": [
        "from sklearn.metrics import r2_score\n",
        "\n",
        "# y_tureが真の値、y_predが予測値\n",
        "y_true = [100, 160, 60]\n",
        "y_pred = [80, 100, 100]\n",
        "\n",
        "r = r2_score(y_true, y_pred)\n",
        "print(r)"
      ],
      "metadata": {
        "id": "trCRbqf0PHSP",
        "outputId": "0986ba48-9fb9-4f08-f116-17b54f45ae08",
        "colab": {
          "base_uri": "https://localhost:8080/"
        }
      },
      "execution_count": 5,
      "outputs": [
        {
          "output_type": "stream",
          "name": "stdout",
          "text": [
            "-0.10526315789473695\n"
          ]
        }
      ]
    },
    {
      "cell_type": "markdown",
      "source": [
        "# 二値分類における評価指標\n",
        "正例か負例かを予測値とする場合"
      ],
      "metadata": {
        "id": "81yMX3b0Rf30"
      }
    },
    {
      "cell_type": "code",
      "source": [
        "from sklearn.metrics import confusion_matrix\n",
        "\n",
        "# 0,1で表現される二値分類の真の値と予測値\n",
        "y_true = [1, 0, 1, 1, 0, 1, 1, 0]\n",
        "y_pred = [0, 0, 1, 1, 0, 0, 1, 1]\n",
        "\n",
        "tp = np.sum((np.array(y_true)==1)&(np.array(y_pred)==1))\n",
        "tn = np.sum((np.array(y_true)==1)&(np.array(y_pred)==0))\n",
        "fp = np.sum((np.array(y_true)==0)&(np.array(y_pred)==1))\n",
        "fn = np.sum((np.array(y_true)==0)&(np.array(y_pred)==0))\n",
        "\n",
        "confusion_matrix1 = np.array([[tp, fp], [fn, tn]])\n",
        "\n",
        "print(confusion_matrix1)\n",
        "\n",
        "# scikit-learnのmetricsモジュールのconfusion_matrixでも作成できるが、\n",
        "# 混合行列の要素の配置が違うので注意が必要\n",
        "confusion_matrix2 = confusion_matrix(y_true, y_pred)\n",
        "print(confusion_matrix2)"
      ],
      "metadata": {
        "id": "1aW1Mop8RcQo",
        "outputId": "01242452-3a58-4a25-ddfc-7189fd4b795f",
        "colab": {
          "base_uri": "https://localhost:8080/"
        }
      },
      "execution_count": 6,
      "outputs": [
        {
          "output_type": "stream",
          "name": "stdout",
          "text": [
            "[[3 1]\n",
            " [2 2]]\n",
            "[[2 1]\n",
            " [2 3]]\n"
          ]
        }
      ]
    },
    {
      "cell_type": "markdown",
      "source": [
        "## accurasy\n",
        "\n",
        "$$\n",
        "\\mathrm{accuracy}=\\cfrac{TP+TN}{TP+TN+FP+FN}\n",
        "$$"
      ],
      "metadata": {
        "id": "E3GV8zxVxfgM"
      }
    },
    {
      "cell_type": "code",
      "source": [
        "from sklearn.metrics import accuracy_score\n",
        "\n",
        "# 0,1で表される二値分類の真の値と予測値\n",
        "y_true = [1, 0, 1, 1, 0, 1, 1, 0 ]\n",
        "y_pred = [0, 0, 1, 1, 0, 0, 1, 1 ]\n",
        "\n",
        "accuracy = accuracy_score(y_true, y_pred)\n",
        "print(accuracy)"
      ],
      "metadata": {
        "id": "FawGkFNfTMWG",
        "colab": {
          "base_uri": "https://localhost:8080/"
        },
        "outputId": "d9246ed5-0777-48e3-9038-0897dc93898d"
      },
      "execution_count": 13,
      "outputs": [
        {
          "output_type": "stream",
          "name": "stdout",
          "text": [
            "0.625\n"
          ]
        }
      ]
    },
    {
      "cell_type": "markdown",
      "source": [
        "## precision(適合率)とrecall(再現率)\n",
        "- precision : 正例と予測したもののうち、真の値も正例の割合\n",
        "    \n",
        "$$\n",
        "\\mathrm{precision} = \\cfrac{TP}{TP+FP}\n",
        "$$\n",
        "    \n",
        "- recall : 真の値が正例のもののうち、その程度を正例の予測として含めることができているのか\n",
        "    \n",
        "$$\n",
        "\\mathrm{recall}=\\cfrac{TP}{TP+FN}\n",
        "$$"
      ],
      "metadata": {
        "id": "l3EW4f_o2Ymv"
      }
    },
    {
      "cell_type": "code",
      "source": [
        "from sklearn.metrics import precision_score\n",
        "from sklearn.metrics import recall_score\n",
        "\n",
        "# 0,1で表される二値分類の真の値と予測値\n",
        "y_true = [1, 0, 1, 1, 0, 1, 1, 0 ]\n",
        "y_pred = [0, 0, 1, 1, 0, 0, 1, 1 ]\n",
        "\n",
        "precision = precision_score(y_true, y_pred)\n",
        "print(f\"precision\",precision)\n",
        "recall = recall_score(y_true, y_pred)\n",
        "print(f\"recall\",recall)"
      ],
      "metadata": {
        "colab": {
          "base_uri": "https://localhost:8080/"
        },
        "id": "CcoS5vQ3xUTK",
        "outputId": "abaa87cd-de88-4e88-9b8b-c182052667c1"
      },
      "execution_count": 16,
      "outputs": [
        {
          "output_type": "stream",
          "name": "stdout",
          "text": [
            "precision 0.75\n",
            "recall 0.6\n"
          ]
        }
      ]
    },
    {
      "cell_type": "code",
      "source": [],
      "metadata": {
        "id": "6-0Vtyo820W2"
      },
      "execution_count": null,
      "outputs": []
    }
  ]
}