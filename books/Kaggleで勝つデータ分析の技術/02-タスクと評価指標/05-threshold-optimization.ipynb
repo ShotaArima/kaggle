{
  "nbformat": 4,
  "nbformat_minor": 0,
  "metadata": {
    "colab": {
      "provenance": [],
      "toc_visible": true,
      "include_colab_link": true
    },
    "kernelspec": {
      "name": "python3",
      "display_name": "Python 3"
    },
    "language_info": {
      "name": "python"
    }
  },
  "cells": [
    {
      "cell_type": "markdown",
      "metadata": {
        "id": "view-in-github",
        "colab_type": "text"
      },
      "source": [
        "<a href=\"https://colab.research.google.com/github/ShotaArima/kaggle/blob/main/books/Kaggle%E3%81%A7%E5%8B%9D%E3%81%A4%E3%83%87%E3%83%BC%E3%82%BF%E5%88%86%E6%9E%90%E3%81%AE%E6%8A%80%E8%A1%93/02-%E3%82%BF%E3%82%B9%E3%82%AF%E3%81%A8%E8%A9%95%E4%BE%A1%E6%8C%87%E6%A8%99/05-threshold-optimization.ipynb\" target=\"_parent\"><img src=\"https://colab.research.google.com/assets/colab-badge.svg\" alt=\"Open In Colab\"/></a>"
      ]
    },
    {
      "cell_type": "markdown",
      "source": [
        "# 閾値の最適化\n",
        "目的関数が微分可能ではなくても使用できる最適化アルゴリズムとして、Nelder-Meadを使用する。他には\n",
        "- COBYLA\n",
        "    - 制約式を設定できるアルゴリズム\n",
        "- SLSQP\n",
        "    - 目的関数、制約式が微分可能であることを必要とするアルゴリズム\n",
        "\n"
      ],
      "metadata": {
        "id": "jR5tw2czdKOQ"
      }
    },
    {
      "cell_type": "code",
      "source": [
        "from sklearn.metrics import f1_score\n",
        "from scipy.optimize import minimize"
      ],
      "metadata": {
        "id": "eXu0fF10dMGS"
      },
      "execution_count": 1,
      "outputs": []
    },
    {
      "cell_type": "code",
      "source": [],
      "metadata": {
        "id": "hu3_nasJeJGD"
      },
      "execution_count": null,
      "outputs": []
    }
  ]
}